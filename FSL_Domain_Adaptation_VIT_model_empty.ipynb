{
 "cells": [
  {
   "cell_type": "markdown",
   "metadata": {},
   "source": [
    "# Import Libraries"
   ]
  },
  {
   "cell_type": "code",
   "execution_count": null,
   "metadata": {},
   "outputs": [],
   "source": []
  },
  {
   "cell_type": "code",
   "execution_count": null,
   "metadata": {},
   "outputs": [],
   "source": []
  },
  {
   "cell_type": "markdown",
   "metadata": {},
   "source": [
    "# Dataset"
   ]
  },
  {
   "cell_type": "markdown",
   "metadata": {},
   "source": []
  },
  {
   "cell_type": "code",
   "execution_count": 9,
   "metadata": {},
   "outputs": [],
   "source": [
    "class UnlabeledFacesDataset(torch.utils.data.Dataset):\n",
    "    def __init__(self, img_paths, transform=None):\n",
    "        self.img_paths = img_paths\n",
    "        self.transform = transform\n",
    "    \n",
    "    def __len__(self):\n",
    "        return len(self.img_paths)\n",
    "    \n",
    "    def __getitem__(self, idx):\n",
    "        img_path = self.img_paths[idx]\n",
    "        # load, detect face, align, etc.\n",
    "        face_img = cv2.imread(img_path).astype('float32')\n",
    "        \n",
    "        if face_img is None:\n",
    "            # handle missing face or skip\n",
    "            # for simplicity, just return a dummy or raise an error\n",
    "            raise RuntimeError(f\"No face found in {img_path}\")\n",
    "        \n",
    "        if self.transform:\n",
    "            face_img = self.transform(face_img)\n",
    "        \n",
    "        return face_img\n"
   ]
  },
  {
   "cell_type": "code",
   "execution_count": 100,
   "metadata": {},
   "outputs": [
    {
     "name": "stdout",
     "output_type": "stream",
     "text": [
      "Collecting jupytext\n",
      "  Downloading jupytext-1.16.7-py3-none-any.whl.metadata (13 kB)\n",
      "Collecting markdown-it-py>=1.0 (from jupytext)\n",
      "  Using cached markdown_it_py-3.0.0-py3-none-any.whl.metadata (6.9 kB)\n",
      "Collecting mdit-py-plugins (from jupytext)\n",
      "  Downloading mdit_py_plugins-0.4.2-py3-none-any.whl.metadata (2.8 kB)\n",
      "Requirement already satisfied: nbformat in c:\\users\\oreda\\.conda\\envs\\cpe520\\lib\\site-packages (from jupytext) (5.10.4)\n",
      "Requirement already satisfied: packaging in c:\\users\\oreda\\.conda\\envs\\cpe520\\lib\\site-packages (from jupytext) (24.1)\n",
      "Requirement already satisfied: pyyaml in c:\\users\\oreda\\.conda\\envs\\cpe520\\lib\\site-packages (from jupytext) (6.0.2)\n",
      "Requirement already satisfied: tomli in c:\\users\\oreda\\.conda\\envs\\cpe520\\lib\\site-packages (from jupytext) (2.0.1)\n",
      "Collecting mdurl~=0.1 (from markdown-it-py>=1.0->jupytext)\n",
      "  Using cached mdurl-0.1.2-py3-none-any.whl.metadata (1.6 kB)\n",
      "Requirement already satisfied: fastjsonschema>=2.15 in c:\\users\\oreda\\.conda\\envs\\cpe520\\lib\\site-packages (from nbformat->jupytext) (2.16.2)\n",
      "Requirement already satisfied: jsonschema>=2.6 in c:\\users\\oreda\\.conda\\envs\\cpe520\\lib\\site-packages (from nbformat->jupytext) (4.23.0)\n",
      "Requirement already satisfied: jupyter-core!=5.0.*,>=4.12 in c:\\users\\oreda\\.conda\\envs\\cpe520\\lib\\site-packages (from nbformat->jupytext) (5.7.2)\n",
      "Requirement already satisfied: traitlets>=5.1 in c:\\users\\oreda\\.conda\\envs\\cpe520\\lib\\site-packages (from nbformat->jupytext) (5.14.3)\n",
      "Requirement already satisfied: attrs>=22.2.0 in c:\\users\\oreda\\.conda\\envs\\cpe520\\lib\\site-packages (from jsonschema>=2.6->nbformat->jupytext) (24.2.0)\n",
      "Requirement already satisfied: jsonschema-specifications>=2023.03.6 in c:\\users\\oreda\\.conda\\envs\\cpe520\\lib\\site-packages (from jsonschema>=2.6->nbformat->jupytext) (2023.7.1)\n",
      "Requirement already satisfied: referencing>=0.28.4 in c:\\users\\oreda\\.conda\\envs\\cpe520\\lib\\site-packages (from jsonschema>=2.6->nbformat->jupytext) (0.30.2)\n",
      "Requirement already satisfied: rpds-py>=0.7.1 in c:\\users\\oreda\\.conda\\envs\\cpe520\\lib\\site-packages (from jsonschema>=2.6->nbformat->jupytext) (0.10.6)\n",
      "Requirement already satisfied: platformdirs>=2.5 in c:\\users\\oreda\\.conda\\envs\\cpe520\\lib\\site-packages (from jupyter-core!=5.0.*,>=4.12->nbformat->jupytext) (4.3.6)\n",
      "Requirement already satisfied: pywin32>=300 in c:\\users\\oreda\\.conda\\envs\\cpe520\\lib\\site-packages (from jupyter-core!=5.0.*,>=4.12->nbformat->jupytext) (307)\n",
      "Downloading jupytext-1.16.7-py3-none-any.whl (154 kB)\n",
      "Using cached markdown_it_py-3.0.0-py3-none-any.whl (87 kB)\n",
      "Downloading mdit_py_plugins-0.4.2-py3-none-any.whl (55 kB)\n",
      "Using cached mdurl-0.1.2-py3-none-any.whl (10.0 kB)\n",
      "Installing collected packages: mdurl, markdown-it-py, mdit-py-plugins, jupytext\n",
      "Successfully installed jupytext-1.16.7 markdown-it-py-3.0.0 mdit-py-plugins-0.4.2 mdurl-0.1.2\n",
      "Note: you may need to restart the kernel to use updated packages.\n"
     ]
    }
   ],
   "source": [
    "%pip install jupytext"
   ]
  },
  {
   "cell_type": "code",
   "execution_count": 101,
   "metadata": {},
   "outputs": [
    {
     "name": "stdout",
     "output_type": "stream",
     "text": [
      "[jupytext] Reading new.py in format py\n",
      "[jupytext] Writing new.ipynb\n"
     ]
    }
   ],
   "source": [
    "!jupytext --to notebook new.py"
   ]
  },
  {
   "cell_type": "code",
   "execution_count": null,
   "metadata": {},
   "outputs": [],
   "source": []
  }
 ],
 "metadata": {
  "language_info": {
   "name": "python"
  }
 },
 "nbformat": 4,
 "nbformat_minor": 2
}
