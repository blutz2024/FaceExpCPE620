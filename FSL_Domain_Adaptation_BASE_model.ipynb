{
 "cells": [
  {
   "cell_type": "markdown",
   "id": "73db0601",
   "metadata": {},
   "source": [
    "# Import Libraries"
   ]
  },
  {
   "cell_type": "code",
   "execution_count": 1,
   "id": "10b8bb13",
   "metadata": {},
   "outputs": [],
   "source": [
    "import os\n",
    "import random\n",
    "import sys\n",
    "from datetime import datetime\n",
    "from itertools import cycle\n",
    "from pathlib import Path\n",
    "\n",
    "import cv2\n",
    "import matplotlib.pyplot as plt\n",
    "import numpy as np\n",
    "import pandas as pd\n",
    "import torch\n",
    "import torch.nn as nn\n",
    "import torch.nn.functional as F\n",
    "import torch.optim as optim\n",
    "import torchvision.models as models\n",
    "import torchvision.transforms as T\n",
    "from PIL import Image\n",
    "from torch.utils.data import DataLoader, Dataset, Subset\n",
    "from torchinfo import summary\n",
    "from tqdm import tqdm\n",
    "from torchvision.datasets import ImageFolder"
   ]
  },
  {
   "cell_type": "code",
   "execution_count": 2,
   "id": "1a374da0",
   "metadata": {},
   "outputs": [
    {
     "data": {
      "text/plain": [
       "device(type='cuda')"
      ]
     },
     "execution_count": 2,
     "metadata": {},
     "output_type": "execute_result"
    }
   ],
   "source": [
    "device = torch.device(\"cuda\" if torch.cuda.is_available() else \"cpu\")\n",
    "device"
   ]
  },
  {
   "cell_type": "markdown",
   "id": "fb69d7f8",
   "metadata": {},
   "source": [
    "# Datasets"
   ]
  },
  {
   "cell_type": "code",
   "execution_count": 3,
   "id": "d415bfaf",
   "metadata": {},
   "outputs": [],
   "source": [
    "BATCH_SIZE = 128"
   ]
  },
  {
   "cell_type": "markdown",
   "id": "f070573d",
   "metadata": {},
   "source": [
    "## Data Augmentations"
   ]
  },
  {
   "cell_type": "code",
   "execution_count": 4,
   "id": "5689ad0a",
   "metadata": {},
   "outputs": [],
   "source": [
    "#mean = [0.485, 0.456, 0.406]\n",
    "#std = [0.229, 0.224, 0.225]\n",
    "\n",
    "# train_transforms = T.Compose([\n",
    "#     T.Resize((48, 48)),\n",
    "#     T.ToTensor(),\n",
    "#     T.RandomHorizontalFlip(p=0.5),\n",
    "#     T.ColorJitter(brightness=0.2, contrast=0.2, saturation=0.2, hue=0.1),\n",
    "#     T.Normalize(mean, std),\n",
    "#     T.RandomAffine(degrees=0, shear=0.2, scale=(0.8, 1.2))\n",
    "# ])\n",
    "\n",
    "mean = [0.485]  # Single channel\n",
    "std = [0.229]\n",
    "\n",
    "train_transforms = T.Compose([\n",
    "    T.Grayscale(num_output_channels=3),  # Keep 3 channels but use grayscale\n",
    "    T.RandomApply([T.RandomRotation(15)], p=0.5),\n",
    "    T.RandomPerspective(distortion_scale=0.3, p=0.3),\n",
    "    T.RandomResizedCrop(48, scale=(0.8, 1.2)),\n",
    "    T.RandomHorizontalFlip(),\n",
    "    T.ToTensor(),\n",
    "    T.Normalize(mean, std),\n",
    "    T.RandomErasing(p=0.2)  # Helps with occlusion\n",
    "])\n",
    "\n",
    "val_transforms = T.Compose([\n",
    "    T.Resize((48, 48)),\n",
    "    T.ToTensor(),\n",
    "    T.Normalize(mean, std)\n",
    "])"
   ]
  },
  {
   "cell_type": "markdown",
   "id": "369f49a1",
   "metadata": {},
   "source": [
    "## DataSet and DataLoader"
   ]
  },
  {
   "cell_type": "code",
   "execution_count": 5,
   "id": "04df5c89",
   "metadata": {
    "lines_to_next_cell": 1
   },
   "outputs": [],
   "source": [
    "fer_2013_dir = Path(os.getcwd(), 'datasets', 'fer2013')"
   ]
  },
  {
   "cell_type": "code",
   "execution_count": 6,
   "id": "97db57d8",
   "metadata": {},
   "outputs": [],
   "source": [
    "training_set = ImageFolder(root=fer_2013_dir / 'train', transform=train_transforms)\n",
    "training_loader = DataLoader(training_set, batch_size=BATCH_SIZE, shuffle=True)\n",
    "\n",
    "test_set = ImageFolder(root=fer_2013_dir / 'test', transform=val_transforms)\n",
    "test_loader = DataLoader(test_set, batch_size=BATCH_SIZE, shuffle=True)"
   ]
  },
  {
   "cell_type": "code",
   "execution_count": 7,
   "id": "40020c85",
   "metadata": {},
   "outputs": [
    {
     "name": "stdout",
     "output_type": "stream",
     "text": [
      "Training set: 28709 images\n",
      "Testing set: 7178 images\n",
      "One image batch shape : torch.Size([128, 3, 48, 48])\n",
      "One label batch shape : torch.Size([128])\n"
     ]
    }
   ],
   "source": [
    "# Print shape of training and testing images\n",
    "print(f\"Training set: {len(training_set)} images\")\n",
    "print(f\"Testing set: {len(test_set)} images\")\n",
    "\n",
    "for images, labels in training_loader:\n",
    "  break\n",
    "\n",
    "print(f\"One image batch shape : {images.shape}\")\n",
    "print(f\"One label batch shape : {labels.shape}\")"
   ]
  },
  {
   "cell_type": "code",
   "execution_count": 8,
   "id": "17391128",
   "metadata": {},
   "outputs": [
    {
     "name": "stdout",
     "output_type": "stream",
     "text": [
      "{'angry': 0, 'disgust': 1, 'fear': 2, 'happy': 3, 'neutral': 4, 'sad': 5, 'surprise': 6}\n"
     ]
    }
   ],
   "source": [
    "print(training_set.class_to_idx)"
   ]
  },
  {
   "cell_type": "code",
   "execution_count": 9,
   "id": "c08b7dd9",
   "metadata": {},
   "outputs": [],
   "source": [
    "label_map = {\n",
    "    0: 'angry', 1: 'disgust', 2: 'fear', 3: 'happy', \n",
    "    4: 'neutral', 5: 'sad', 6: 'surprise'\n",
    "}"
   ]
  },
  {
   "cell_type": "markdown",
   "id": "a3867fc1",
   "metadata": {},
   "source": [
    "#### Show sample images"
   ]
  },
  {
   "cell_type": "code",
   "execution_count": 10,
   "id": "bc0b98a3",
   "metadata": {},
   "outputs": [
    {
     "data": {
      "image/png": "[encoded data removed]",
      "text/plain": [
       "<Figure size 1200x400 with 4 Axes>"
      ]
     },
     "metadata": {},
     "output_type": "display_data"
    }
   ],
   "source": [
    "# Get a batch\n",
    "images, labels = next(iter(training_loader))\n",
    "\n",
    "# Unnormalize a few images from the batch\n",
    "def unnormalize(img):\n",
    "    # Use values matching your actual normalization\n",
    "    mean = torch.tensor([0.485, 0.485, 0.485]).to(img.device)\n",
    "    std = torch.tensor([0.229, 0.229, 0.229]).to(img.device)\n",
    "    return img * std.view(1, 3, 1, 1) + mean.view(1, 3, 1, 1)\n",
    "\n",
    "# Display with proper channel handling\n",
    "fig, axes = plt.subplots(1, 4, figsize=(12, 4))\n",
    "for i in range(4):\n",
    "    img = unnormalize(images[i].unsqueeze(0)).squeeze(0)\n",
    "    img = img.permute(1, 2, 0).cpu().numpy()\n",
    "    axes[i].imshow(img, cmap='gray')  # Force grayscale display\n",
    "    axes[i].set_title(f\"Label: {label_map[int(labels[i])]}\")\n",
    "    axes[i].axis(\"off\")\n",
    "    \n",
    "plt.tight_layout()\n",
    "plt.show()"
   ]
  },
  {
   "cell_type": "markdown",
   "id": "e253eda5",
   "metadata": {},
   "source": [
    "# Base Model"
   ]
  },
  {
   "cell_type": "markdown",
   "id": "60da6d19",
   "metadata": {},
   "source": [
    "### Define Class"
   ]
  },
  {
   "cell_type": "code",
   "execution_count": 11,
   "id": "e811ba57",
   "metadata": {},
   "outputs": [],
   "source": [
    "class BaseFERModel(nn.Module):\n",
    "    def __init__(self, params):\n",
    "        super(BaseFERModel, self).__init__()\n",
    "        num_classes = params['num_classes']\n",
    "\n",
    "        # First convolutional layer\n",
    "        self.layer1 = nn.Sequential(\n",
    "            nn.Conv2d(in_channels=3, out_channels=32, kernel_size=3, padding=1),\n",
    "            nn.BatchNorm2d(32),\n",
    "            nn.ReLU(),\n",
    "            nn.MaxPool2d(kernel_size=2, stride=2) # Output: 32x24x24\n",
    "        )\n",
    "\n",
    "        self.layer2 = nn.Sequential(\n",
    "            nn.Conv2d(in_channels=32, out_channels=64, kernel_size=3, padding=1),\n",
    "            nn.BatchNorm2d(64),\n",
    "            nn.ReLU(),\n",
    "            nn.MaxPool2d(kernel_size=2, stride=2)\n",
    "        )\n",
    "\n",
    "        self.layer3 = nn.Sequential(\n",
    "            nn.Conv2d(in_channels=64, out_channels=128, kernel_size=3, padding=1),\n",
    "            nn.BatchNorm2d(128),\n",
    "            nn.ReLU(),\n",
    "            nn.MaxPool2d(kernel_size=2, stride=2)\n",
    "        )\n",
    "\n",
    "        self.layer4 = nn.Sequential(\n",
    "            nn.Conv2d(in_channels=128, out_channels=256, kernel_size=3, padding=1),\n",
    "            nn.BatchNorm2d(256),\n",
    "            nn.ReLU(),\n",
    "            #nn.MaxPool2d(kernel_size=2, stride=2)\n",
    "        )\n",
    "\n",
    "        self.layer5 = nn.Sequential(\n",
    "            nn.Conv2d(in_channels=256, out_channels=512, kernel_size=3, padding=1),\n",
    "            nn.BatchNorm2d(512),\n",
    "            nn.ReLU(),\n",
    "            #nn.MaxPool2d(kernel_size=2, stride=2)\n",
    "        )\n",
    "        \n",
    "        self.layer6 = nn.Sequential(\n",
    "            nn.Conv2d(in_channels=512, out_channels=1024, kernel_size=3, padding=1),\n",
    "            nn.BatchNorm2d(1024),\n",
    "            nn.ReLU(),\n",
    "        )\n",
    "        \n",
    "        with torch.no_grad():\n",
    "            dummy_input = torch.zeros(1, 3, 48, 48)\n",
    "            out = self.layer1(dummy_input)\n",
    "            out = self.layer2(out)\n",
    "            out = self.layer3(out)\n",
    "            out = self.layer4(out)\n",
    "            out = self.layer5(out)\n",
    "            out = self.layer6(out)\n",
    "            flattened_size = out.view(1, -1).size(1)\n",
    "\n",
    "\n",
    "        # Fully connected (dense) layers\n",
    "        #self.fc1 = nn.Linear(in_features=1024*1*1, out_features=1024)\n",
    "        self.fc1 = nn.Linear(in_features=flattened_size, out_features=1024)\n",
    "        self.dropout = nn.Dropout(params['dropout_rate'])\n",
    "        self.fc2 = nn.Linear(in_features=1024, out_features=256)\n",
    "        self.fc3 = nn.Linear(in_features=256, out_features=num_classes)\n",
    "       \n",
    "        #self.log_softmax = nn.LogSoftmax(dim=1)\n",
    "\n",
    "    def forward(self, x, return_embeddings=False):\n",
    "        output = self.layer1(x)  #  first layer\n",
    "        output = self.layer2(output)  # second layer\n",
    "        output = self.layer3(output)  # third layer\n",
    "        output = self.layer4(output)  # fourth layer\n",
    "        output = self.layer5(output)  # fifth layer\n",
    "        output = self.layer6(output)  # sixth layer        \n",
    "        output = output.view(output.size(0), -1)  # Flatten for the fully connected layers\n",
    "        \n",
    "        # Embedding extraction (no dropout)\n",
    "        embeddings = F.relu(self.fc1(output))\n",
    "        embeddings = self.fc2(embeddings)\n",
    "        embeddings = F.normalize(embeddings, p=2, dim=1)\n",
    "        \n",
    "        # Classification head (with dropout)\n",
    "        #logits = self.dropout(F.relu(embeddings))  # Reintroduce dropout here\n",
    "        logits = self.dropout(embeddings)\n",
    "        logits = self.fc3(logits)\n",
    "        \n",
    "        return (logits, embeddings) if return_embeddings else logits"
   ]
  },
  {
   "cell_type": "code",
   "execution_count": null,
   "id": "fcf315ae",
   "metadata": {},
   "outputs": [],
   "source": [
    "class BaseFERModel_V2(nn.Module):\n",
    "    def __init__(self, params):\n",
    "        super().__init__()\n",
    "        self.features = nn.Sequential(\n",
    "            # Stem\n",
    "            nn.Conv2d(3, 64, 3, padding=1, bias=False),\n",
    "            nn.BatchNorm2d(64),\n",
    "            nn.LeakyReLU(0.1),\n",
    "            nn.MaxPool2d(2),\n",
    "            \n",
    "            # FER-Specialized Blocks\n",
    "            DepthwiseSeparableConv(64, 128),\n",
    "            DepthwiseSeparableConv(128, 256),\n",
    "            DepthwiseSeparableConv(256, 512),\n",
    "            \n",
    "            nn.AdaptiveAvgPool2d((1,1))  # GAP instead of flattening\n",
    "        )\n",
    "        \n",
    "        self.classifier = nn.Sequential(\n",
    "            nn.Linear(512, 256),\n",
    "            nn.BatchNorm1d(256),\n",
    "            nn.LeakyReLU(0.1),\n",
    "            nn.Dropout(0.5),\n",
    "            nn.Linear(256, params['num_classes'])\n",
    "        )\n",
    "        \n",
    "    def forward(self, x, return_embeddings=False):\n",
    "        # Feature extraction\n",
    "        x = self.features(x)\n",
    "        \n",
    "        # Flatten\n",
    "        x = x.view(x.size(0), -1)\n",
    "        \n",
    "        if return_embeddings:\n",
    "            # Return embeddings before final classifier\n",
    "            embeddings = self.classifier[:-1](x)\n",
    "            logits = self.classifier[-1:](embeddings)\n",
    "            return logits, embeddings\n",
    "        \n",
    "        # Full classification\n",
    "        return self.classifier(x) # logits\n",
    "\n",
    "def DepthwiseSeparableConv(in_c, out_c):\n",
    "    return nn.Sequential(\n",
    "        # Depthwise\n",
    "        nn.Conv2d(in_c, in_c, 3, padding=1, groups=in_c, bias=False),\n",
    "        nn.BatchNorm2d(in_c),\n",
    "        nn.LeakyReLU(0.1),\n",
    "        # Pointwise\n",
    "        nn.Conv2d(in_c, out_c, 1, bias=False),\n",
    "        nn.BatchNorm2d(out_c),\n",
    "        nn.LeakyReLU(0.1),\n",
    "        nn.MaxPool2d(2)\n",
    "    )"
   ]
  },
  {
   "cell_type": "markdown",
   "id": "41261683",
   "metadata": {},
   "source": [
    "### Compile Model"
   ]
  },
  {
   "cell_type": "code",
   "execution_count": 13,
   "id": "0a2f5287",
   "metadata": {},
   "outputs": [
    {
     "name": "stdout",
     "output_type": "stream",
     "text": [
      "==========================================================================================\n",
      "Layer (type:depth-idx)                   Output Shape              Param #\n",
      "==========================================================================================\n",
      "BaseFERModel_V2                          [128, 7]                  --\n",
      "├─Sequential: 1-1                        [128, 512, 1, 1]          --\n",
      "│    └─Conv2d: 2-1                       [128, 64, 48, 48]         1,728\n",
      "│    └─BatchNorm2d: 2-2                  [128, 64, 48, 48]         128\n",
      "│    └─LeakyReLU: 2-3                    [128, 64, 48, 48]         --\n",
      "│    └─MaxPool2d: 2-4                    [128, 64, 24, 24]         --\n",
      "│    └─Sequential: 2-5                   [128, 128, 12, 12]        --\n",
      "│    │    └─Conv2d: 3-1                  [128, 64, 24, 24]         576\n",
      "│    │    └─BatchNorm2d: 3-2             [128, 64, 24, 24]         128\n",
      "│    │    └─LeakyReLU: 3-3               [128, 64, 24, 24]         --\n",
      "│    │    └─Conv2d: 3-4                  [128, 128, 24, 24]        8,192\n",
      "│    │    └─BatchNorm2d: 3-5             [128, 128, 24, 24]        256\n",
      "│    │    └─LeakyReLU: 3-6               [128, 128, 24, 24]        --\n",
      "│    │    └─MaxPool2d: 3-7               [128, 128, 12, 12]        --\n",
      "│    └─Sequential: 2-6                   [128, 256, 6, 6]          --\n",
      "│    │    └─Conv2d: 3-8                  [128, 128, 12, 12]        1,152\n",
      "│    │    └─BatchNorm2d: 3-9             [128, 128, 12, 12]        256\n",
      "│    │    └─LeakyReLU: 3-10              [128, 128, 12, 12]        --\n",
      "│    │    └─Conv2d: 3-11                 [128, 256, 12, 12]        32,768\n",
      "│    │    └─BatchNorm2d: 3-12            [128, 256, 12, 12]        512\n",
      "│    │    └─LeakyReLU: 3-13              [128, 256, 12, 12]        --\n",
      "│    │    └─MaxPool2d: 3-14              [128, 256, 6, 6]          --\n",
      "│    └─Sequential: 2-7                   [128, 512, 3, 3]          --\n",
      "│    │    └─Conv2d: 3-15                 [128, 256, 6, 6]          2,304\n",
      "│    │    └─BatchNorm2d: 3-16            [128, 256, 6, 6]          512\n",
      "│    │    └─LeakyReLU: 3-17              [128, 256, 6, 6]          --\n",
      "│    │    └─Conv2d: 3-18                 [128, 512, 6, 6]          131,072\n",
      "│    │    └─BatchNorm2d: 3-19            [128, 512, 6, 6]          1,024\n",
      "│    │    └─LeakyReLU: 3-20              [128, 512, 6, 6]          --\n",
      "│    │    └─MaxPool2d: 3-21              [128, 512, 3, 3]          --\n",
      "│    └─AdaptiveAvgPool2d: 2-8            [128, 512, 1, 1]          --\n",
      "├─Sequential: 1-2                        [128, 7]                  --\n",
      "│    └─Linear: 2-9                       [128, 256]                131,328\n",
      "│    └─BatchNorm1d: 2-10                 [128, 256]                512\n",
      "│    └─LeakyReLU: 2-11                   [128, 256]                --\n",
      "│    └─Dropout: 2-12                     [128, 256]                --\n",
      "│    └─Linear: 2-13                      [128, 7]                  1,799\n",
      "==========================================================================================\n",
      "Total params: 314,247\n",
      "Trainable params: 314,247\n",
      "Non-trainable params: 0\n",
      "Total mult-adds (G): 2.41\n",
      "==========================================================================================\n",
      "Input size (MB): 3.54\n",
      "Forward/backward pass size (MB): 698.88\n",
      "Params size (MB): 1.26\n",
      "Estimated Total Size (MB): 703.68\n",
      "==========================================================================================\n"
     ]
    }
   ],
   "source": [
    "params={\n",
    "        \"initial_filters\": 8,    \n",
    "        \"dropout_rate\": 0.2,\n",
    "        \"num_classes\": 7}\n",
    "\n",
    "#base_fer_model = BaseFERModel(params).to(device)\n",
    "base_fer_model = BaseFERModel_V2(params).to(device)\n",
    "print(summary(base_fer_model, input_size=(BATCH_SIZE, 3, 48, 48), device=device.type))"
   ]
  },
  {
   "cell_type": "markdown",
   "id": "10dc8a14",
   "metadata": {},
   "source": [
    "# Create Train and Test functions"
   ]
  },
  {
   "cell_type": "markdown",
   "id": "edf63633",
   "metadata": {},
   "source": [
    "### Define functions"
   ]
  },
  {
   "cell_type": "code",
   "execution_count": 14,
   "id": "2cee4304",
   "metadata": {},
   "outputs": [],
   "source": [
    "def calculate_accuracy(y_pred,y_true):\n",
    "    top_p,top_class = y_pred.topk(1, dim = 1)\n",
    "    equals = top_class == y_true.view(*top_class.shape)\n",
    "    return torch.mean(equals.type(torch.cuda.FloatTensor))"
   ]
  },
  {
   "cell_type": "code",
   "execution_count": 15,
   "id": "4e3b04bf",
   "metadata": {},
   "outputs": [],
   "source": [
    "def train_one_epoch(model, dataloader, criterion, optimizer, device, current_epoch, epochs):\n",
    "    \"\"\"\n",
    "    Train one epoch of the model.\n",
    "\n",
    "    Args:\n",
    "        model (nn.Module): The  model.\n",
    "        dataloader (DataLoader): DataLoader for training data.\n",
    "        device (torch.device): Device to train the model on (CPU/GPU).\n",
    "\n",
    "    Returns:\n",
    "        training_loss (float): Returns epoch_loss / len(dataloader)\n",
    "    \"\"\"\n",
    "    model.train()  # Set model to training mode\n",
    "    epoch_loss = 0.0\n",
    "    epoch_accuracy = 0.0\n",
    "    tk = tqdm(dataloader, desc=\"EPOCH\" + \"[TRAIN]\" + str(current_epoch + 1) + \"/\" + str(epochs))\n",
    "\n",
    "    for t, data in enumerate(tk):\n",
    "        images, labels = data\n",
    "\n",
    "        images = images.to(device)\n",
    "        labels = labels.to(device)\n",
    "\n",
    "        # Zero gradients\n",
    "        optimizer.zero_grad()\n",
    "\n",
    "        # Compute log probabilities from model\n",
    "        logits = model(images)\n",
    "        loss = criterion(logits, labels)\n",
    "\n",
    "        # Backpropagation\n",
    "        loss.backward()\n",
    "\n",
    "        # Update model parameters\n",
    "        optimizer.step()\n",
    "\n",
    "        # Accumulate loss for logging; Total loss\n",
    "        epoch_loss += loss.item()\n",
    "        \n",
    "        epoch_accuracy += calculate_accuracy(logits, labels)\n",
    "\n",
    "        # Print/log training loss and accuracy for this epoch\n",
    "        tk.set_postfix({\n",
    "            'loss': '%6f' % float(epoch_loss / (t + 1)), \n",
    "            'acc': '%6f' % float(epoch_accuracy / (t + 1))\n",
    "        })\n",
    "\n",
    "    return epoch_loss / len(dataloader), epoch_accuracy / len(dataloader)"
   ]
  },
  {
   "cell_type": "code",
   "execution_count": 16,
   "id": "7824849d",
   "metadata": {},
   "outputs": [],
   "source": [
    "def test_one_epoch(model, dataloader, criterion, device, current_epoch, epochs):\n",
    "    \"\"\"\n",
    "    Test one epoch of the model\n",
    "\n",
    "    Args:\n",
    "        model (nn.Module): The model.\n",
    "        dataloader (DataLoader): DataLoader for training data.\n",
    "        learning_rate (float): Learning rate for optimizer.\n",
    "        device (torch.device): Device to train the model on (CPU/GPU).\n",
    "\n",
    "    Returns:\n",
    "        training_loss (float): Returns epoch_loss / len(dataloader)\n",
    "        \n",
    "        running_acc (float): Returns epoch accuracy\n",
    "    \"\"\"\n",
    "    model.eval()  # Set model to evaluation mode\n",
    "    epoch_loss = 0.0\n",
    "    epoch_accuracy = 0.0\n",
    "    tk = tqdm(dataloader, desc=\"EPOCH\" + \"[VALID]\" + str(current_epoch + 1) + \"/\" + str(epochs))\n",
    "\n",
    "    correct = 0\n",
    "    total = 0\n",
    "    with torch.no_grad():  # Disable gradient calculation for testing\n",
    "        for t, data in enumerate(tk):          \n",
    "            images, labels = data\n",
    "\n",
    "            images = images.to(device)\n",
    "            labels = labels.to(device)\n",
    "\n",
    "            # Compute log probabilities from model\n",
    "            logits = model(images)\n",
    "            preds = torch.argmax(logits, dim=1)\n",
    "            correct += (preds == labels).sum().item()\n",
    "            total += images.size(0)            \n",
    "\n",
    "            # Compute CTC loss\n",
    "            loss = criterion(logits, labels)\n",
    "\n",
    "            # Accumulate loss for logging; Total loss\n",
    "            epoch_loss += loss.item()\n",
    "            \n",
    "            epoch_accuracy += calculate_accuracy(logits, labels)\n",
    "            \n",
    "\n",
    "            tk.set_postfix({\n",
    "                'loss': '%6f' % float(epoch_loss / (t + 1)), \n",
    "                'acc': '%6f' % float(epoch_accuracy / (t + 1))\n",
    "            })\n",
    "\n",
    "    return epoch_loss / len(dataloader), epoch_accuracy / len(dataloader)"
   ]
  },
  {
   "cell_type": "code",
   "execution_count": 17,
   "id": "81b39d28",
   "metadata": {},
   "outputs": [],
   "source": [
    "def train_and_validate_model(model, training_dataloader, testing_dataloader, epochs, learning_rate, device):\n",
    "    \"\"\"\n",
    "    Train and Test the speech recognition model using CTC loss.\n",
    "\n",
    "    Args:\n",
    "        model (nn.Module): The model.\n",
    "        training_dataloader (DataLoader): DataLoader for training data.\n",
    "        testing_dataloader (DataLoader): DataLoader for testing data.\n",
    "        epochs (int): Number of training epochs.\n",
    "        learning_rate (float): Learning rate for optimizer.\n",
    "        device (torch.device): Device to train the model on (CPU/GPU).\n",
    "    \"\"\"\n",
    "    # Define Loss function\n",
    "    criterion = nn.CrossEntropyLoss()\n",
    "    #optimizer = optim.SGD(model.parameters(), lr=learning_rate)\n",
    "    #scheduler = torch.optim.lr_scheduler.ReduceLROnPlateau(optimizer, mode='min', patience=2, factor=0.1)\n",
    "    \n",
    "    optimizer = optim.AdamW(model.parameters(), lr=2e-3, weight_decay=1e-4)\n",
    "    scheduler = torch.optim.lr_scheduler.CosineAnnealingLR(optimizer, T_max=50)\n",
    "\n",
    "    # Move model to device\n",
    "    model.to(device)\n",
    "\n",
    "    best_valid_loss = np.inf\n",
    "    patience_counter = 0   # Tracks the number of epochs without improvement\n",
    "    early_stop = False # Flag to indicate whether to stop training\n",
    "    save_weights_patience = 5\n",
    "\n",
    "    # Dictionary to store loss and accuracy values over epochs\n",
    "    history_metrics = {\n",
    "        'training_loss': [],\n",
    "        'training_accuracy': [],\n",
    "        'validation_loss': [],\n",
    "        'validation_accuracy': []\n",
    "    }\n",
    "\n",
    "    for epoch in range(epochs):\n",
    "        if early_stop:\n",
    "            print(\"Early stopping triggered. Stopping training.\")\n",
    "            break\n",
    "\n",
    "        print(f\"Epoch {epoch + 1}, LR: {scheduler.optimizer.param_groups[0]['lr']}\")\n",
    "\n",
    "        # Training step\n",
    "        train_loss, train_accuracy = train_one_epoch(model, training_dataloader, criterion, optimizer, device, epoch, epochs)\n",
    "        \n",
    "        # Testing step\n",
    "        valid_loss, valid_accuracy = test_one_epoch(model, testing_dataloader, criterion, device, epoch, epochs) \n",
    "\n",
    "        history_metrics['training_loss'].append(train_loss)\n",
    "        history_metrics['validation_loss'].append(valid_loss)\n",
    "        history_metrics['training_accuracy'].append(train_accuracy)\n",
    "        history_metrics['validation_accuracy'].append(valid_accuracy)\n",
    "\n",
    "        # Update the learning rate based on validation loss and print\n",
    "        #scheduler.step(valid_loss)\n",
    "\n",
    "        if valid_loss < best_valid_loss:\n",
    "            torch.save(model.state_dict(), 'weights/base_model_with_fer2013_weights.pt')\n",
    "            print(\"SAVED-BEST-WEIGHTS!\")\n",
    "            best_valid_loss = valid_loss\n",
    "            patience_counter = 0 # Reset early stopping\n",
    "        else:\n",
    "            patience_counter += 1\n",
    "            print(f\"No improvement in validation loss for {patience_counter} epoch(s).\")\n",
    "\n",
    "        if patience_counter >= save_weights_patience:\n",
    "            print(\"Patience exceeded. Early stopping at epoch \" +str(epoch + 1))\n",
    "            early_stop = True\n",
    "            \n",
    "        \n",
    "    print(\"\")\n",
    "    return history_metrics"
   ]
  },
  {
   "cell_type": "markdown",
   "id": "e0cf1b19",
   "metadata": {},
   "source": [
    "### Run train functions"
   ]
  },
  {
   "cell_type": "code",
   "execution_count": 20,
   "id": "e53dfa00",
   "metadata": {},
   "outputs": [],
   "source": [
    "time1 = datetime.now()"
   ]
  },
  {
   "cell_type": "code",
   "execution_count": 21,
   "id": "e820802d",
   "metadata": {},
   "outputs": [
    {
     "name": "stdout",
     "output_type": "stream",
     "text": [
      "Epoch 1, LR: 0.002\n"
     ]
    },
    {
     "name": "stderr",
     "output_type": "stream",
     "text": [
      "EPOCH[TRAIN]1/50: 100%|██████████| 225/225 [03:27<00:00,  1.09it/s, loss=1.719857, acc=0.312969]\n",
      "EPOCH[VALID]1/50: 100%|██████████| 57/57 [00:20<00:00,  2.84it/s, loss=1.531349, acc=0.407237]\n"
     ]
    },
    {
     "name": "stdout",
     "output_type": "stream",
     "text": [
      "SAVED-BEST-WEIGHTS!\n",
      "Epoch 2, LR: 0.002\n"
     ]
    },
    {
     "name": "stderr",
     "output_type": "stream",
     "text": [
      "EPOCH[TRAIN]2/50: 100%|██████████| 225/225 [00:31<00:00,  7.24it/s, loss=1.512696, acc=0.410191]\n",
      "EPOCH[VALID]2/50: 100%|██████████| 57/57 [00:03<00:00, 16.56it/s, loss=1.385648, acc=0.476261]\n"
     ]
    },
    {
     "name": "stdout",
     "output_type": "stream",
     "text": [
      "SAVED-BEST-WEIGHTS!\n",
      "Epoch 3, LR: 0.002\n"
     ]
    },
    {
     "name": "stderr",
     "output_type": "stream",
     "text": [
      "EPOCH[TRAIN]3/50: 100%|██████████| 225/225 [00:31<00:00,  7.10it/s, loss=1.425704, acc=0.450536]\n",
      "EPOCH[VALID]3/50: 100%|██████████| 57/57 [00:03<00:00, 16.37it/s, loss=1.378405, acc=0.476206]\n"
     ]
    },
    {
     "name": "stdout",
     "output_type": "stream",
     "text": [
      "SAVED-BEST-WEIGHTS!\n",
      "Epoch 4, LR: 0.002\n"
     ]
    },
    {
     "name": "stderr",
     "output_type": "stream",
     "text": [
      "EPOCH[TRAIN]4/50: 100%|██████████| 225/225 [00:31<00:00,  7.13it/s, loss=1.367784, acc=0.478639]\n",
      "EPOCH[VALID]4/50: 100%|██████████| 57/57 [00:03<00:00, 16.53it/s, loss=1.331536, acc=0.478262]\n"
     ]
    },
    {
     "name": "stdout",
     "output_type": "stream",
     "text": [
      "SAVED-BEST-WEIGHTS!\n",
      "Epoch 5, LR: 0.002\n"
     ]
    },
    {
     "name": "stderr",
     "output_type": "stream",
     "text": [
      "EPOCH[TRAIN]5/50: 100%|██████████| 225/225 [00:31<00:00,  7.05it/s, loss=1.324140, acc=0.492825]\n",
      "EPOCH[VALID]5/50: 100%|██████████| 57/57 [00:03<00:00, 16.46it/s, loss=1.326619, acc=0.483553]\n"
     ]
    },
    {
     "name": "stdout",
     "output_type": "stream",
     "text": [
      "SAVED-BEST-WEIGHTS!\n",
      "Epoch 6, LR: 0.002\n"
     ]
    },
    {
     "name": "stderr",
     "output_type": "stream",
     "text": [
      "EPOCH[TRAIN]6/50: 100%|██████████| 225/225 [00:31<00:00,  7.12it/s, loss=1.294140, acc=0.503447]\n",
      "EPOCH[VALID]6/50: 100%|██████████| 57/57 [00:03<00:00, 15.75it/s, loss=1.311136, acc=0.509814]\n"
     ]
    },
    {
     "name": "stdout",
     "output_type": "stream",
     "text": [
      "SAVED-BEST-WEIGHTS!\n",
      "Epoch 7, LR: 0.002\n"
     ]
    },
    {
     "name": "stderr",
     "output_type": "stream",
     "text": [
      "EPOCH[TRAIN]7/50: 100%|██████████| 225/225 [00:31<00:00,  7.04it/s, loss=1.266059, acc=0.516350]\n",
      "EPOCH[VALID]7/50: 100%|██████████| 57/57 [00:04<00:00, 13.20it/s, loss=1.276729, acc=0.534814]\n"
     ]
    },
    {
     "name": "stdout",
     "output_type": "stream",
     "text": [
      "SAVED-BEST-WEIGHTS!\n",
      "Epoch 8, LR: 0.002\n"
     ]
    },
    {
     "name": "stderr",
     "output_type": "stream",
     "text": [
      "EPOCH[TRAIN]8/50: 100%|██████████| 225/225 [03:00<00:00,  1.25it/s, loss=1.255420, acc=0.522109]\n",
      "EPOCH[VALID]8/50: 100%|██████████| 57/57 [00:13<00:00,  4.08it/s, loss=1.191492, acc=0.538569]\n"
     ]
    },
    {
     "name": "stdout",
     "output_type": "stream",
     "text": [
      "SAVED-BEST-WEIGHTS!\n",
      "Epoch 9, LR: 0.002\n"
     ]
    },
    {
     "name": "stderr",
     "output_type": "stream",
     "text": [
      "EPOCH[TRAIN]9/50: 100%|██████████| 225/225 [00:33<00:00,  6.63it/s, loss=1.235479, acc=0.528836]\n",
      "EPOCH[VALID]9/50: 100%|██████████| 57/57 [00:04<00:00, 13.79it/s, loss=1.186137, acc=0.539693]\n"
     ]
    },
    {
     "name": "stdout",
     "output_type": "stream",
     "text": [
      "SAVED-BEST-WEIGHTS!\n",
      "Epoch 10, LR: 0.002\n"
     ]
    },
    {
     "name": "stderr",
     "output_type": "stream",
     "text": [
      "EPOCH[TRAIN]10/50: 100%|██████████| 225/225 [00:31<00:00,  7.11it/s, loss=1.221586, acc=0.534170]\n",
      "EPOCH[VALID]10/50: 100%|██████████| 57/57 [00:03<00:00, 16.67it/s, loss=1.184348, acc=0.554879]\n"
     ]
    },
    {
     "name": "stdout",
     "output_type": "stream",
     "text": [
      "SAVED-BEST-WEIGHTS!\n",
      "Epoch 11, LR: 0.002\n"
     ]
    },
    {
     "name": "stderr",
     "output_type": "stream",
     "text": [
      "EPOCH[TRAIN]11/50: 100%|██████████| 225/225 [00:30<00:00,  7.32it/s, loss=1.201565, acc=0.537974]\n",
      "EPOCH[VALID]11/50: 100%|██████████| 57/57 [00:03<00:00, 16.74it/s, loss=1.163231, acc=0.564501]\n"
     ]
    },
    {
     "name": "stdout",
     "output_type": "stream",
     "text": [
      "SAVED-BEST-WEIGHTS!\n",
      "Epoch 12, LR: 0.002\n"
     ]
    },
    {
     "name": "stderr",
     "output_type": "stream",
     "text": [
      "EPOCH[TRAIN]12/50: 100%|██████████| 225/225 [00:30<00:00,  7.29it/s, loss=1.193982, acc=0.543421]\n",
      "EPOCH[VALID]12/50: 100%|██████████| 57/57 [00:03<00:00, 16.79it/s, loss=1.259271, acc=0.534759]\n"
     ]
    },
    {
     "name": "stdout",
     "output_type": "stream",
     "text": [
      "No improvement in validation loss for 1 epoch(s).\n",
      "Epoch 13, LR: 0.002\n"
     ]
    },
    {
     "name": "stderr",
     "output_type": "stream",
     "text": [
      "EPOCH[TRAIN]13/50: 100%|██████████| 225/225 [00:30<00:00,  7.31it/s, loss=1.184729, acc=0.549726]\n",
      "EPOCH[VALID]13/50: 100%|██████████| 57/57 [00:03<00:00, 16.90it/s, loss=1.227506, acc=0.535636]\n"
     ]
    },
    {
     "name": "stdout",
     "output_type": "stream",
     "text": [
      "No improvement in validation loss for 2 epoch(s).\n",
      "Epoch 14, LR: 0.002\n"
     ]
    },
    {
     "name": "stderr",
     "output_type": "stream",
     "text": [
      "EPOCH[TRAIN]14/50: 100%|██████████| 225/225 [00:30<00:00,  7.27it/s, loss=1.178353, acc=0.550747]\n",
      "EPOCH[VALID]14/50: 100%|██████████| 57/57 [00:03<00:00, 16.84it/s, loss=1.128949, acc=0.581908]\n"
     ]
    },
    {
     "name": "stdout",
     "output_type": "stream",
     "text": [
      "SAVED-BEST-WEIGHTS!\n",
      "Epoch 15, LR: 0.002\n"
     ]
    },
    {
     "name": "stderr",
     "output_type": "stream",
     "text": [
      "EPOCH[TRAIN]15/50: 100%|██████████| 225/225 [00:30<00:00,  7.28it/s, loss=1.162799, acc=0.555698]\n",
      "EPOCH[VALID]15/50: 100%|██████████| 57/57 [00:03<00:00, 16.75it/s, loss=1.099521, acc=0.584923]\n"
     ]
    },
    {
     "name": "stdout",
     "output_type": "stream",
     "text": [
      "SAVED-BEST-WEIGHTS!\n",
      "Epoch 16, LR: 0.002\n"
     ]
    },
    {
     "name": "stderr",
     "output_type": "stream",
     "text": [
      "EPOCH[TRAIN]16/50: 100%|██████████| 225/225 [00:31<00:00,  7.25it/s, loss=1.146796, acc=0.565177]\n",
      "EPOCH[VALID]16/50: 100%|██████████| 57/57 [00:03<00:00, 16.45it/s, loss=1.129549, acc=0.570285]\n"
     ]
    },
    {
     "name": "stdout",
     "output_type": "stream",
     "text": [
      "No improvement in validation loss for 1 epoch(s).\n",
      "Epoch 17, LR: 0.002\n"
     ]
    },
    {
     "name": "stderr",
     "output_type": "stream",
     "text": [
      "EPOCH[TRAIN]17/50: 100%|██████████| 225/225 [00:30<00:00,  7.30it/s, loss=1.143695, acc=0.567731]\n",
      "EPOCH[VALID]17/50: 100%|██████████| 57/57 [00:03<00:00, 16.80it/s, loss=1.138717, acc=0.571382]\n"
     ]
    },
    {
     "name": "stdout",
     "output_type": "stream",
     "text": [
      "No improvement in validation loss for 2 epoch(s).\n",
      "Epoch 18, LR: 0.002\n"
     ]
    },
    {
     "name": "stderr",
     "output_type": "stream",
     "text": [
      "EPOCH[TRAIN]18/50: 100%|██████████| 225/225 [00:30<00:00,  7.31it/s, loss=1.133258, acc=0.566663]\n",
      "EPOCH[VALID]18/50: 100%|██████████| 57/57 [00:03<00:00, 16.86it/s, loss=1.098197, acc=0.594764]\n"
     ]
    },
    {
     "name": "stdout",
     "output_type": "stream",
     "text": [
      "SAVED-BEST-WEIGHTS!\n",
      "Epoch 19, LR: 0.002\n"
     ]
    },
    {
     "name": "stderr",
     "output_type": "stream",
     "text": [
      "EPOCH[TRAIN]19/50: 100%|██████████| 225/225 [00:30<00:00,  7.30it/s, loss=1.122501, acc=0.573823]\n",
      "EPOCH[VALID]19/50: 100%|██████████| 57/57 [00:03<00:00, 17.02it/s, loss=1.068383, acc=0.595669]\n"
     ]
    },
    {
     "name": "stdout",
     "output_type": "stream",
     "text": [
      "SAVED-BEST-WEIGHTS!\n",
      "Epoch 20, LR: 0.002\n"
     ]
    },
    {
     "name": "stderr",
     "output_type": "stream",
     "text": [
      "EPOCH[TRAIN]20/50: 100%|██████████| 225/225 [00:30<00:00,  7.31it/s, loss=1.118500, acc=0.575322]\n",
      "EPOCH[VALID]20/50: 100%|██████████| 57/57 [00:03<00:00, 16.73it/s, loss=1.073513, acc=0.594846]\n"
     ]
    },
    {
     "name": "stdout",
     "output_type": "stream",
     "text": [
      "No improvement in validation loss for 1 epoch(s).\n",
      "Epoch 21, LR: 0.002\n"
     ]
    },
    {
     "name": "stderr",
     "output_type": "stream",
     "text": [
      "EPOCH[TRAIN]21/50: 100%|██████████| 225/225 [00:30<00:00,  7.29it/s, loss=1.118624, acc=0.575423]\n",
      "EPOCH[VALID]21/50: 100%|██████████| 57/57 [00:03<00:00, 16.93it/s, loss=1.065407, acc=0.600603]\n"
     ]
    },
    {
     "name": "stdout",
     "output_type": "stream",
     "text": [
      "SAVED-BEST-WEIGHTS!\n",
      "Epoch 22, LR: 0.002\n"
     ]
    },
    {
     "name": "stderr",
     "output_type": "stream",
     "text": [
      "EPOCH[TRAIN]22/50: 100%|██████████| 225/225 [00:30<00:00,  7.31it/s, loss=1.107053, acc=0.580354]\n",
      "EPOCH[VALID]22/50: 100%|██████████| 57/57 [00:03<00:00, 16.51it/s, loss=1.045485, acc=0.609540]\n"
     ]
    },
    {
     "name": "stdout",
     "output_type": "stream",
     "text": [
      "SAVED-BEST-WEIGHTS!\n",
      "Epoch 23, LR: 0.002\n"
     ]
    },
    {
     "name": "stderr",
     "output_type": "stream",
     "text": [
      "EPOCH[TRAIN]23/50: 100%|██████████| 225/225 [00:30<00:00,  7.26it/s, loss=1.102030, acc=0.583987]\n",
      "EPOCH[VALID]23/50: 100%|██████████| 57/57 [00:03<00:00, 16.86it/s, loss=1.099391, acc=0.581689]\n"
     ]
    },
    {
     "name": "stdout",
     "output_type": "stream",
     "text": [
      "No improvement in validation loss for 1 epoch(s).\n",
      "Epoch 24, LR: 0.002\n"
     ]
    },
    {
     "name": "stderr",
     "output_type": "stream",
     "text": [
      "EPOCH[TRAIN]24/50: 100%|██████████| 225/225 [00:30<00:00,  7.29it/s, loss=1.101820, acc=0.583757]\n",
      "EPOCH[VALID]24/50: 100%|██████████| 57/57 [00:03<00:00, 16.66it/s, loss=1.098343, acc=0.588816]\n"
     ]
    },
    {
     "name": "stdout",
     "output_type": "stream",
     "text": [
      "No improvement in validation loss for 2 epoch(s).\n",
      "Epoch 25, LR: 0.002\n"
     ]
    },
    {
     "name": "stderr",
     "output_type": "stream",
     "text": [
      "EPOCH[TRAIN]25/50: 100%|██████████| 225/225 [00:30<00:00,  7.36it/s, loss=1.094220, acc=0.586636]\n",
      "EPOCH[VALID]25/50: 100%|██████████| 57/57 [00:03<00:00, 16.87it/s, loss=1.056245, acc=0.605428]\n"
     ]
    },
    {
     "name": "stdout",
     "output_type": "stream",
     "text": [
      "No improvement in validation loss for 3 epoch(s).\n",
      "Epoch 26, LR: 0.002\n"
     ]
    },
    {
     "name": "stderr",
     "output_type": "stream",
     "text": [
      "EPOCH[TRAIN]26/50: 100%|██████████| 225/225 [00:30<00:00,  7.32it/s, loss=1.088748, acc=0.587766]\n",
      "EPOCH[VALID]26/50: 100%|██████████| 57/57 [00:03<00:00, 16.65it/s, loss=1.024856, acc=0.611815]\n"
     ]
    },
    {
     "name": "stdout",
     "output_type": "stream",
     "text": [
      "SAVED-BEST-WEIGHTS!\n",
      "Epoch 27, LR: 0.002\n"
     ]
    },
    {
     "name": "stderr",
     "output_type": "stream",
     "text": [
      "EPOCH[TRAIN]27/50: 100%|██████████| 225/225 [00:30<00:00,  7.33it/s, loss=1.083257, acc=0.590322]\n",
      "EPOCH[VALID]27/50: 100%|██████████| 57/57 [00:03<00:00, 16.30it/s, loss=1.041537, acc=0.611349]\n"
     ]
    },
    {
     "name": "stdout",
     "output_type": "stream",
     "text": [
      "No improvement in validation loss for 1 epoch(s).\n",
      "Epoch 28, LR: 0.002\n"
     ]
    },
    {
     "name": "stderr",
     "output_type": "stream",
     "text": [
      "EPOCH[TRAIN]28/50: 100%|██████████| 225/225 [00:31<00:00,  7.08it/s, loss=1.078721, acc=0.590941]\n",
      "EPOCH[VALID]28/50: 100%|██████████| 57/57 [00:03<00:00, 16.41it/s, loss=1.085880, acc=0.592489]\n"
     ]
    },
    {
     "name": "stdout",
     "output_type": "stream",
     "text": [
      "No improvement in validation loss for 2 epoch(s).\n",
      "Epoch 29, LR: 0.002\n"
     ]
    },
    {
     "name": "stderr",
     "output_type": "stream",
     "text": [
      "EPOCH[TRAIN]29/50: 100%|██████████| 225/225 [00:31<00:00,  7.22it/s, loss=1.069691, acc=0.593236]\n",
      "EPOCH[VALID]29/50: 100%|██████████| 57/57 [00:03<00:00, 16.37it/s, loss=1.032211, acc=0.611952]\n"
     ]
    },
    {
     "name": "stdout",
     "output_type": "stream",
     "text": [
      "No improvement in validation loss for 3 epoch(s).\n",
      "Epoch 30, LR: 0.002\n"
     ]
    },
    {
     "name": "stderr",
     "output_type": "stream",
     "text": [
      "EPOCH[TRAIN]30/50: 100%|██████████| 225/225 [00:33<00:00,  6.75it/s, loss=1.067263, acc=0.595023]\n",
      "EPOCH[VALID]30/50: 100%|██████████| 57/57 [00:04<00:00, 12.42it/s, loss=1.023720, acc=0.621656]\n"
     ]
    },
    {
     "name": "stdout",
     "output_type": "stream",
     "text": [
      "SAVED-BEST-WEIGHTS!\n",
      "Epoch 31, LR: 0.002\n"
     ]
    },
    {
     "name": "stderr",
     "output_type": "stream",
     "text": [
      "EPOCH[TRAIN]31/50: 100%|██████████| 225/225 [00:33<00:00,  6.68it/s, loss=1.059680, acc=0.596235]\n",
      "EPOCH[VALID]31/50: 100%|██████████| 57/57 [00:03<00:00, 16.07it/s, loss=1.025796, acc=0.619956]\n"
     ]
    },
    {
     "name": "stdout",
     "output_type": "stream",
     "text": [
      "No improvement in validation loss for 1 epoch(s).\n",
      "Epoch 32, LR: 0.002\n"
     ]
    },
    {
     "name": "stderr",
     "output_type": "stream",
     "text": [
      "EPOCH[TRAIN]32/50: 100%|██████████| 225/225 [00:32<00:00,  6.90it/s, loss=1.061905, acc=0.599221]\n",
      "EPOCH[VALID]32/50: 100%|██████████| 57/57 [00:03<00:00, 16.44it/s, loss=1.066914, acc=0.605784]\n"
     ]
    },
    {
     "name": "stdout",
     "output_type": "stream",
     "text": [
      "No improvement in validation loss for 2 epoch(s).\n",
      "Epoch 33, LR: 0.002\n"
     ]
    },
    {
     "name": "stderr",
     "output_type": "stream",
     "text": [
      "EPOCH[TRAIN]33/50: 100%|██████████| 225/225 [00:31<00:00,  7.22it/s, loss=1.047255, acc=0.601716]\n",
      "EPOCH[VALID]33/50: 100%|██████████| 57/57 [00:03<00:00, 16.57it/s, loss=1.102563, acc=0.601179]\n"
     ]
    },
    {
     "name": "stdout",
     "output_type": "stream",
     "text": [
      "No improvement in validation loss for 3 epoch(s).\n",
      "Epoch 34, LR: 0.002\n"
     ]
    },
    {
     "name": "stderr",
     "output_type": "stream",
     "text": [
      "EPOCH[TRAIN]34/50: 100%|██████████| 225/225 [00:31<00:00,  7.22it/s, loss=1.047151, acc=0.603284]\n",
      "EPOCH[VALID]34/50: 100%|██████████| 57/57 [00:03<00:00, 16.53it/s, loss=1.017571, acc=0.622368]\n"
     ]
    },
    {
     "name": "stdout",
     "output_type": "stream",
     "text": [
      "SAVED-BEST-WEIGHTS!\n",
      "Epoch 35, LR: 0.002\n"
     ]
    },
    {
     "name": "stderr",
     "output_type": "stream",
     "text": [
      "EPOCH[TRAIN]35/50: 100%|██████████| 225/225 [00:31<00:00,  7.21it/s, loss=1.053003, acc=0.599082]\n",
      "EPOCH[VALID]35/50: 100%|██████████| 57/57 [00:03<00:00, 16.61it/s, loss=1.015704, acc=0.619079]\n"
     ]
    },
    {
     "name": "stdout",
     "output_type": "stream",
     "text": [
      "SAVED-BEST-WEIGHTS!\n",
      "Epoch 36, LR: 0.002\n"
     ]
    },
    {
     "name": "stderr",
     "output_type": "stream",
     "text": [
      "EPOCH[TRAIN]36/50: 100%|██████████| 225/225 [00:31<00:00,  7.16it/s, loss=1.042825, acc=0.605404]\n",
      "EPOCH[VALID]36/50: 100%|██████████| 57/57 [00:03<00:00, 16.14it/s, loss=1.011261, acc=0.628810]\n"
     ]
    },
    {
     "name": "stdout",
     "output_type": "stream",
     "text": [
      "SAVED-BEST-WEIGHTS!\n",
      "Epoch 37, LR: 0.002\n"
     ]
    },
    {
     "name": "stderr",
     "output_type": "stream",
     "text": [
      "EPOCH[TRAIN]37/50: 100%|██████████| 225/225 [00:31<00:00,  7.21it/s, loss=1.034214, acc=0.610487]\n",
      "EPOCH[VALID]37/50: 100%|██████████| 57/57 [00:03<00:00, 16.82it/s, loss=1.016836, acc=0.625822]\n"
     ]
    },
    {
     "name": "stdout",
     "output_type": "stream",
     "text": [
      "No improvement in validation loss for 1 epoch(s).\n",
      "Epoch 38, LR: 0.002\n"
     ]
    },
    {
     "name": "stderr",
     "output_type": "stream",
     "text": [
      "EPOCH[TRAIN]38/50: 100%|██████████| 225/225 [00:31<00:00,  7.25it/s, loss=1.036051, acc=0.608297]\n",
      "EPOCH[VALID]38/50: 100%|██████████| 57/57 [00:03<00:00, 16.28it/s, loss=1.010894, acc=0.622780]\n"
     ]
    },
    {
     "name": "stdout",
     "output_type": "stream",
     "text": [
      "SAVED-BEST-WEIGHTS!\n",
      "Epoch 39, LR: 0.002\n"
     ]
    },
    {
     "name": "stderr",
     "output_type": "stream",
     "text": [
      "EPOCH[TRAIN]39/50: 100%|██████████| 225/225 [00:31<00:00,  7.20it/s, loss=1.031930, acc=0.610834]\n",
      "EPOCH[VALID]39/50: 100%|██████████| 57/57 [00:03<00:00, 16.70it/s, loss=1.005712, acc=0.624534]\n"
     ]
    },
    {
     "name": "stdout",
     "output_type": "stream",
     "text": [
      "SAVED-BEST-WEIGHTS!\n",
      "Epoch 40, LR: 0.002\n"
     ]
    },
    {
     "name": "stderr",
     "output_type": "stream",
     "text": [
      "EPOCH[TRAIN]40/50: 100%|██████████| 225/225 [00:31<00:00,  7.22it/s, loss=1.030999, acc=0.609659]\n",
      "EPOCH[VALID]40/50: 100%|██████████| 57/57 [00:03<00:00, 16.72it/s, loss=0.993722, acc=0.628481]\n"
     ]
    },
    {
     "name": "stdout",
     "output_type": "stream",
     "text": [
      "SAVED-BEST-WEIGHTS!\n",
      "Epoch 41, LR: 0.002\n"
     ]
    },
    {
     "name": "stderr",
     "output_type": "stream",
     "text": [
      "EPOCH[TRAIN]41/50: 100%|██████████| 225/225 [00:31<00:00,  7.23it/s, loss=1.025725, acc=0.613011]\n",
      "EPOCH[VALID]41/50: 100%|██████████| 57/57 [00:03<00:00, 16.49it/s, loss=1.041648, acc=0.608690]\n"
     ]
    },
    {
     "name": "stdout",
     "output_type": "stream",
     "text": [
      "No improvement in validation loss for 1 epoch(s).\n",
      "Epoch 42, LR: 0.002\n"
     ]
    },
    {
     "name": "stderr",
     "output_type": "stream",
     "text": [
      "EPOCH[TRAIN]42/50: 100%|██████████| 225/225 [00:31<00:00,  7.20it/s, loss=1.015697, acc=0.614240]\n",
      "EPOCH[VALID]42/50: 100%|██████████| 57/57 [00:03<00:00, 16.41it/s, loss=1.019615, acc=0.622259]\n"
     ]
    },
    {
     "name": "stdout",
     "output_type": "stream",
     "text": [
      "No improvement in validation loss for 2 epoch(s).\n",
      "Epoch 43, LR: 0.002\n"
     ]
    },
    {
     "name": "stderr",
     "output_type": "stream",
     "text": [
      "EPOCH[TRAIN]43/50: 100%|██████████| 225/225 [00:31<00:00,  7.21it/s, loss=1.015720, acc=0.613436]\n",
      "EPOCH[VALID]43/50: 100%|██████████| 57/57 [00:03<00:00, 16.43it/s, loss=1.033311, acc=0.622423]\n"
     ]
    },
    {
     "name": "stdout",
     "output_type": "stream",
     "text": [
      "No improvement in validation loss for 3 epoch(s).\n",
      "Epoch 44, LR: 0.002\n"
     ]
    },
    {
     "name": "stderr",
     "output_type": "stream",
     "text": [
      "EPOCH[TRAIN]44/50: 100%|██████████| 225/225 [00:31<00:00,  7.20it/s, loss=1.012528, acc=0.615688]\n",
      "EPOCH[VALID]44/50: 100%|██████████| 57/57 [00:03<00:00, 16.50it/s, loss=1.060455, acc=0.608443]\n"
     ]
    },
    {
     "name": "stdout",
     "output_type": "stream",
     "text": [
      "No improvement in validation loss for 4 epoch(s).\n",
      "Epoch 45, LR: 0.002\n"
     ]
    },
    {
     "name": "stderr",
     "output_type": "stream",
     "text": [
      "EPOCH[TRAIN]45/50: 100%|██████████| 225/225 [00:30<00:00,  7.28it/s, loss=1.009415, acc=0.617122]\n",
      "EPOCH[VALID]45/50: 100%|██████████| 57/57 [00:03<00:00, 16.34it/s, loss=1.049177, acc=0.615488]"
     ]
    },
    {
     "name": "stdout",
     "output_type": "stream",
     "text": [
      "No improvement in validation loss for 5 epoch(s).\n",
      "Patience exceeded. Early stopping at epoch 45\n",
      "Early stopping triggered. Stopping training.\n",
      "\n"
     ]
    },
    {
     "name": "stderr",
     "output_type": "stream",
     "text": [
      "\n"
     ]
    }
   ],
   "source": [
    "# Train the model:\n",
    "base_model_losses = train_and_validate_model(base_fer_model, training_loader, test_loader, epochs=50, learning_rate=0.001, device=device)"
   ]
  },
  {
   "cell_type": "code",
   "execution_count": 22,
   "id": "971550d1",
   "metadata": {},
   "outputs": [
    {
     "name": "stdout",
     "output_type": "stream",
     "text": [
      "Total training time:  0:32:00.443535\n"
     ]
    }
   ],
   "source": [
    "time2 = datetime.now()\n",
    "print(\"Total training time: \", time2 - time1)"
   ]
  },
  {
   "cell_type": "code",
   "execution_count": 23,
   "id": "a6722ee0",
   "metadata": {},
   "outputs": [
    {
     "name": "stdout",
     "output_type": "stream",
     "text": [
      "Losses and accuracy saved\n"
     ]
    }
   ],
   "source": [
    "# Prepare the data\n",
    "data = {\n",
    "    \"Epoch\": list(range(1, len(base_model_losses['training_loss']) + 1)),\n",
    "    \"Training Loss\": base_model_losses['training_loss'],\n",
    "    \"Validation Loss\": base_model_losses['validation_loss'],\n",
    "    \"Training Accuracy\": [acc.cpu().item() for acc in base_model_losses['training_accuracy']],\n",
    "    \"Validation Accuracy\": [acc.cpu().item() for acc in base_model_losses['validation_accuracy']]\n",
    "}\n",
    "\n",
    "# Create a DataFrame\n",
    "df = pd.DataFrame(data)\n",
    "\n",
    "# Save to CSV\n",
    "df.to_csv(\"stats/base_model_stats_001_50_epochs.csv\", index=False)\n",
    "print(\"Losses and accuracy saved\")"
   ]
  },
  {
   "cell_type": "markdown",
   "id": "2143882d",
   "metadata": {},
   "source": [
    "# Test Model Accuracy on Out of Distribution Data set (Manga Faces)"
   ]
  },
  {
   "cell_type": "code",
   "execution_count": 195,
   "id": "846e5189",
   "metadata": {},
   "outputs": [],
   "source": [
    "def test_out_of_distribution(model, testing_dataloader, epochs, device):\n",
    "    \"\"\"\n",
    "    Train and Test the speech recognition model using CTC loss.\n",
    "\n",
    "    Args:\n",
    "        model (nn.Module): The model.\n",
    "        training_dataloader (DataLoader): DataLoader for training data.\n",
    "        testing_dataloader (DataLoader): DataLoader for testing data.\n",
    "        epochs (int): Number of training epochs.\n",
    "        learning_rate (float): Learning rate for optimizer.\n",
    "        device (torch.device): Device to train the model on (CPU/GPU).\n",
    "    \"\"\"\n",
    "    # Define Loss function\n",
    "    criterion = nn.CrossEntropyLoss()\n",
    "    \n",
    "    # Move model to device\n",
    "    model.to(device)\n",
    "\n",
    "    # Dictionary to store loss and accuracy values over epochs\n",
    "    history_metrics = {\n",
    "        'validation_loss': [],\n",
    "        'validation_accuracy': []\n",
    "    }\n",
    "\n",
    "    for epoch in range(epochs):\n",
    "        print(f\"Epoch {epoch + 1}\")\n",
    "        \n",
    "        # Testing step\n",
    "        valid_loss, valid_accuracy = test_one_epoch(model, testing_dataloader, criterion, device, epoch, epochs) \n",
    "        \n",
    "        history_metrics['validation_loss'].append(valid_loss)\n",
    "        history_metrics['validation_accuracy'].append(valid_accuracy)\n",
    "                \n",
    "    print(\"\")\n",
    "    return history_metrics"
   ]
  },
  {
   "cell_type": "code",
   "execution_count": 196,
   "id": "0084c040",
   "metadata": {},
   "outputs": [
    {
     "data": {
      "text/plain": [
       "<All keys matched successfully>"
      ]
     },
     "execution_count": 196,
     "metadata": {},
     "output_type": "execute_result"
    }
   ],
   "source": [
    "base_fer_model_2 = BaseFERModel_V2(params).to(device)\n",
    "base_fer_model_2 = base_fer_model_2.to(device)\n",
    "base_fer_model_2.load_state_dict(torch.load('weights/base_model_with_fer2013_weights.pt', weights_only=True))"
   ]
  },
  {
   "cell_type": "markdown",
   "id": "8e436afd",
   "metadata": {},
   "source": [
    "## Import MangaFaces Dataset"
   ]
  },
  {
   "cell_type": "code",
   "execution_count": 197,
   "id": "2c985db2",
   "metadata": {},
   "outputs": [],
   "source": [
    "# Train set\n",
    "manga_faces_train_dir = Path(os.getcwd(), 'datasets', 'manga', 'train')\n",
    "manga_faces_train_images = ImageFolder(root=manga_faces_train_dir, transform=train_transforms)\n",
    "manga_faces_train_images_loader = DataLoader(manga_faces_train_images, batch_size=BATCH_SIZE, shuffle=True)\n",
    "\n",
    "# Test Set\n",
    "manga_faces_test_dir = Path(os.getcwd(), 'datasets', 'manga', 'test')\n",
    "manga_faces_test_images = ImageFolder(root=manga_faces_test_dir, transform=val_transforms)\n",
    "manga_faces_test_images_loader = DataLoader(manga_faces_test_images, batch_size=BATCH_SIZE, shuffle=True)"
   ]
  },
  {
   "cell_type": "markdown",
   "id": "735db254",
   "metadata": {},
   "source": [
    "## Run 'test_out_of_distribution' function"
   ]
  },
  {
   "cell_type": "code",
   "execution_count": 207,
   "id": "ce41c5e1",
   "metadata": {},
   "outputs": [
    {
     "name": "stdout",
     "output_type": "stream",
     "text": [
      "Epoch 1\n"
     ]
    },
    {
     "name": "stderr",
     "output_type": "stream",
     "text": [
      "EPOCH[VALID]1/5: 100%|██████████| 7/7 [00:00<00:00, 10.75it/s, loss=2.583786, acc=0.216071]\n"
     ]
    },
    {
     "name": "stdout",
     "output_type": "stream",
     "text": [
      "Epoch 2\n"
     ]
    },
    {
     "name": "stderr",
     "output_type": "stream",
     "text": [
      "EPOCH[VALID]2/5: 100%|██████████| 7/7 [00:00<00:00, 12.12it/s, loss=2.531525, acc=0.193750]\n"
     ]
    },
    {
     "name": "stdout",
     "output_type": "stream",
     "text": [
      "Epoch 3\n"
     ]
    },
    {
     "name": "stderr",
     "output_type": "stream",
     "text": [
      "EPOCH[VALID]3/5: 100%|██████████| 7/7 [00:00<00:00, 14.98it/s, loss=2.458348, acc=0.272321]\n"
     ]
    },
    {
     "name": "stdout",
     "output_type": "stream",
     "text": [
      "Epoch 4\n"
     ]
    },
    {
     "name": "stderr",
     "output_type": "stream",
     "text": [
      "EPOCH[VALID]4/5: 100%|██████████| 7/7 [00:00<00:00, 14.17it/s, loss=2.452406, acc=0.199107]\n"
     ]
    },
    {
     "name": "stdout",
     "output_type": "stream",
     "text": [
      "Epoch 5\n"
     ]
    },
    {
     "name": "stderr",
     "output_type": "stream",
     "text": [
      "EPOCH[VALID]5/5: 100%|██████████| 7/7 [00:00<00:00, 14.96it/s, loss=2.546078, acc=0.234821]"
     ]
    },
    {
     "name": "stdout",
     "output_type": "stream",
     "text": [
      "\n"
     ]
    },
    {
     "name": "stderr",
     "output_type": "stream",
     "text": [
      "\n"
     ]
    }
   ],
   "source": [
    "# Train the model:\n",
    "test_out_of_distribution_metrics = test_out_of_distribution(base_fer_model_2, manga_faces_train_images_loader, epochs=5, device=device)"
   ]
  },
  {
   "cell_type": "code",
   "execution_count": 96,
   "id": "e9e9fc77",
   "metadata": {},
   "outputs": [
    {
     "name": "stdout",
     "output_type": "stream",
     "text": [
      "Losses and accuracy saved\n"
     ]
    }
   ],
   "source": [
    "# Store the metrics from when the model was tested on the out-of-distribution dataset\n",
    "data = {\n",
    "    \"Epoch\": list(range(1, len(test_out_of_distribution_metrics['validation_loss']) + 1)),\n",
    "    \"Validation Loss\": test_out_of_distribution_metrics['validation_loss'],\n",
    "    \"Validation Accuracy\": [acc.cpu().item() for acc in test_out_of_distribution_metrics['validation_accuracy']]\n",
    "}\n",
    "\n",
    "# Create a DataFrame\n",
    "df = pd.DataFrame(data)\n",
    "\n",
    "# Save to CSV\n",
    "df.to_csv(\"stats/test_model_out_of_distribution_stats_001_5_epochs.csv\", index=False)\n",
    "print(\"Losses and accuracy saved\")"
   ]
  },
  {
   "cell_type": "code",
   "execution_count": 208,
   "id": "82398d18",
   "metadata": {},
   "outputs": [
    {
     "name": "stdout",
     "output_type": "stream",
     "text": [
      "Epoch 1\n"
     ]
    },
    {
     "name": "stderr",
     "output_type": "stream",
     "text": [
      "EPOCH[VALID]1/5: 100%|██████████| 5/5 [00:00<00:00, 10.98it/s, loss=3.377855, acc=0.156250]\n"
     ]
    },
    {
     "name": "stdout",
     "output_type": "stream",
     "text": [
      "Epoch 2\n"
     ]
    },
    {
     "name": "stderr",
     "output_type": "stream",
     "text": [
      "EPOCH[VALID]2/5: 100%|██████████| 5/5 [00:00<00:00, 23.95it/s, loss=2.565618, acc=0.156250]\n"
     ]
    },
    {
     "name": "stdout",
     "output_type": "stream",
     "text": [
      "Epoch 3\n"
     ]
    },
    {
     "name": "stderr",
     "output_type": "stream",
     "text": [
      "EPOCH[VALID]3/5: 100%|██████████| 5/5 [00:00<00:00, 27.50it/s, loss=2.638279, acc=0.200000]\n"
     ]
    },
    {
     "name": "stdout",
     "output_type": "stream",
     "text": [
      "Epoch 4\n"
     ]
    },
    {
     "name": "stderr",
     "output_type": "stream",
     "text": [
      "EPOCH[VALID]4/5: 100%|██████████| 5/5 [00:00<00:00, 27.55it/s, loss=2.533443, acc=0.287500]\n"
     ]
    },
    {
     "name": "stdout",
     "output_type": "stream",
     "text": [
      "Epoch 5\n"
     ]
    },
    {
     "name": "stderr",
     "output_type": "stream",
     "text": [
      "EPOCH[VALID]5/5: 100%|██████████| 5/5 [00:00<00:00, 28.39it/s, loss=2.684730, acc=0.156250]"
     ]
    },
    {
     "name": "stdout",
     "output_type": "stream",
     "text": [
      "\n"
     ]
    },
    {
     "name": "stderr",
     "output_type": "stream",
     "text": [
      "\n"
     ]
    }
   ],
   "source": [
    "# Train the model:\n",
    "test_out_of_distribution_metrics = test_out_of_distribution(base_fer_model_2, manga_faces_test_images_loader, epochs=5, device=device)"
   ]
  },
  {
   "cell_type": "markdown",
   "id": "5c183a06",
   "metadata": {},
   "source": [
    "# FSL DA Prototypical Network"
   ]
  },
  {
   "cell_type": "markdown",
   "id": "a556c60f",
   "metadata": {},
   "source": [
    "### Dataset class"
   ]
  },
  {
   "cell_type": "code",
   "execution_count": 98,
   "id": "15233c34",
   "metadata": {},
   "outputs": [],
   "source": [
    "class FewShotFERDataset(Dataset):\n",
    "    \"\"\"\n",
    "    Dataset for few-shot FER, where images are organized by class in folders.\n",
    "    This dataset generates episodes (tasks) on-the-fly.\n",
    "    \"\"\"\n",
    "    def __init__(self, root_dir, n_way=5, k_shot=1, k_query=5, transform=None):\n",
    "        \"\"\"\n",
    "        root_dir: Root folder containing one folder per class.\n",
    "        n_way: number of classes per episode.\n",
    "        k_shot: number of support examples per class.\n",
    "        k_query: number of query examples per class.\n",
    "        transform: transformation to apply to images.\n",
    "        \"\"\"\n",
    "        self.root_dir = root_dir\n",
    "        self.n_way = n_way\n",
    "        self.k_shot = k_shot\n",
    "        self.k_query = k_query\n",
    "        self.transform = transform\n",
    "        \n",
    "        # Build a mapping: class -> list of image paths.\n",
    "        self.class_to_imgs = {}\n",
    "        for cls_name in os.listdir(root_dir):\n",
    "            cls_folder = Path.joinpath(root_dir, cls_name)\n",
    "            if Path.is_dir(cls_folder):\n",
    "                self.class_to_imgs[cls_name] = [Path.joinpath(cls_folder, img)                                                 \n",
    "                                                 for img in Path(cls_folder).rglob('*')\n",
    "                                                 if str(img).endswith('.jpg') or str(img).endswith('.png')]        \n",
    "        self.classes = list(self.class_to_imgs.keys())\n",
    "    \n",
    "    def __len__(self):\n",
    "        # Define the number of episodes arbitrarily.\n",
    "        return 1000  # or any number representing episodes\n",
    "    \n",
    "    def __getitem__(self, idx):\n",
    "        # Randomly sample n_way classes for this episode.\n",
    "        sampled_classes = random.sample(self.classes, self.n_way)\n",
    "        support_imgs, support_labels = [], []\n",
    "        query_imgs, query_labels = [], []\n",
    "        \n",
    "        label_map = {cls_name: i for i, cls_name in enumerate(sampled_classes)}\n",
    "        \n",
    "        for cls_name in sampled_classes:\n",
    "            imgs = self.class_to_imgs[cls_name]\n",
    "            # Ensure there are enough examples in this class.\n",
    "            selected_imgs = random.sample(imgs, self.k_shot + self.k_query)\n",
    "            support_paths = selected_imgs[:self.k_shot]\n",
    "            query_paths = selected_imgs[self.k_shot:]\n",
    "            \n",
    "            for sp in support_paths:\n",
    "                img = Image.open(sp).convert('RGB')\n",
    "                if self.transform:\n",
    "                    img = self.transform(img)\n",
    "                support_imgs.append(img)\n",
    "                support_labels.append(label_map[cls_name])\n",
    "            \n",
    "            for qp in query_paths:\n",
    "                img = Image.open(qp).convert('RGB')\n",
    "                if self.transform:\n",
    "                    img = self.transform(img)\n",
    "                query_imgs.append(img)\n",
    "                query_labels.append(label_map[cls_name])\n",
    "        \n",
    "        # Convert lists to tensors.\n",
    "        support_imgs = torch.stack(support_imgs)  # shape: [n_way*k_shot, C, H, W]\n",
    "        support_labels = torch.tensor(support_labels, dtype=torch.long)\n",
    "        query_imgs = torch.stack(query_imgs)      # shape: [n_way*k_query, C, H, W]\n",
    "        query_labels = torch.tensor(query_labels, dtype=torch.long)\n",
    "        \n",
    "        return (support_imgs, support_labels), (query_imgs, query_labels)"
   ]
  },
  {
   "cell_type": "markdown",
   "id": "58adc3d5",
   "metadata": {},
   "source": [
    "### Instantiate DataLoader"
   ]
  },
  {
   "cell_type": "code",
   "execution_count": 100,
   "id": "6b699e3f",
   "metadata": {},
   "outputs": [],
   "source": [
    "# Define transforms (should match what the encoder expects)\n",
    "#mean = [0.485]  # Single channel\n",
    "#std = [0.229]\n",
    "\n",
    "transform = T.Compose([\n",
    "    T.Resize((48, 48)),\n",
    "    T.ToTensor(),\n",
    "    T.Normalize(mean=[0.485],\n",
    "                std=[0.229])\n",
    "])\n",
    "\n",
    "# Root folder with classes as subfolders.\n",
    "few_shot_dataset = FewShotFERDataset(root_dir=manga_faces_train_dir, n_way=4, k_shot=10, k_query=22, transform=transform)\n",
    "few_shot_loader = DataLoader(few_shot_dataset, batch_size=1, shuffle=True, num_workers=0)"
   ]
  },
  {
   "cell_type": "markdown",
   "id": "1cc3e480",
   "metadata": {},
   "source": [
    "### Prototypical Network Inference function"
   ]
  },
  {
   "cell_type": "code",
   "execution_count": 101,
   "id": "584fdf17",
   "metadata": {},
   "outputs": [],
   "source": [
    "def evaluate_episode(feature_extractor, support_imgs, support_labels, query_imgs, query_labels, device):\n",
    "    \"\"\"\n",
    "    feature_extractor: model that outputs embeddings [B, embedding_dim]\n",
    "    support_imgs: tensor of shape [n_way * k_shot, C, H, W]\n",
    "    support_labels: tensor of shape [n_way * k_shot]\n",
    "    query_imgs: tensor of shape [n_way * k_query, C, H, W]\n",
    "    query_labels: tensor of shape [n_way * k_query]\n",
    "    \"\"\"\n",
    "    feature_extractor.eval()\n",
    "    with torch.no_grad():\n",
    "        # Move data to device.\n",
    "        support_imgs = support_imgs.to(device)\n",
    "        query_imgs = query_imgs.to(device)\n",
    "        \n",
    "        # Compute the embeddings.\n",
    "        support_embeddings = feature_extractor(support_imgs)  # [n_way*k_shot, D]\n",
    "        query_embeddings = feature_extractor(query_imgs)      # [n_way*k_query, D]\n",
    "    \n",
    "        # Compute prototypes: mean of support embeddings per class.\n",
    "        prototypes = []\n",
    "        unique_labels = torch.unique(support_labels)\n",
    "        for cls in unique_labels:\n",
    "            cls_indices = (support_labels == cls).nonzero(as_tuple=True)[0]\n",
    "            cls_embeddings = support_embeddings[cls_indices]\n",
    "            prototype = cls_embeddings.mean(dim=0)\n",
    "            prototypes.append(prototype)\n",
    "        prototypes = torch.stack(prototypes)  # shape: [n_way, D]\n",
    "        \n",
    "        # Compute distances between query embeddings and prototypes.\n",
    "        # We use Euclidean distance here.\n",
    "        # query_embeddings: [Q, D], prototypes: [n_way, D]\n",
    "        distances = torch.cdist(query_embeddings, prototypes, p=2)  # shape: [Q, n_way]\n",
    "        \n",
    "        # Convert distances to probabilities (smaller distance -> higher probability).\n",
    "        probs = F.softmax(-distances, dim=1)\n",
    "        preds = torch.argmax(probs, dim=1)\n",
    "        correct = (preds.cpu() == query_labels).sum().item()\n",
    "        total = query_labels.size(0)\n",
    "    \n",
    "    return correct, total"
   ]
  },
  {
   "cell_type": "markdown",
   "id": "1f71a500",
   "metadata": {},
   "source": [
    "### Run inference"
   ]
  },
  {
   "cell_type": "code",
   "execution_count": 102,
   "id": "242bc81b",
   "metadata": {},
   "outputs": [
    {
     "name": "stdout",
     "output_type": "stream",
     "text": [
      "Few-Shot Episode Accuracy: 36.14%\n"
     ]
    }
   ],
   "source": [
    "total_correct = 0\n",
    "total_samples = 0\n",
    "num_episodes = 50  # Evaluate on 50 episodes.\n",
    "\n",
    "for i, episode in enumerate(few_shot_loader):\n",
    "    if i >= num_episodes:\n",
    "        break\n",
    "    # Remove the extra batch dimension since batch_size=1.\n",
    "    (support_imgs, support_labels), (query_imgs, query_labels) = episode\n",
    "    support_imgs = support_imgs.squeeze(0)\n",
    "    support_labels = support_labels.squeeze(0)\n",
    "    query_imgs = query_imgs.squeeze(0)\n",
    "    query_labels = query_labels.squeeze(0)\n",
    "    \n",
    "    correct, total = evaluate_episode(base_fer_model_2, support_imgs, support_labels, query_imgs, query_labels, device)\n",
    "    total_correct += correct\n",
    "    total_samples += total\n",
    "\n",
    "episode_accuracy = 100.0 * total_correct / total_samples\n",
    "print(\"Few-Shot Episode Accuracy: {:.2f}%\".format(episode_accuracy))"
   ]
  },
  {
   "cell_type": "markdown",
   "id": "01bad0b2",
   "metadata": {},
   "source": [
    "# Contrastive Learning"
   ]
  },
  {
   "cell_type": "markdown",
   "id": "38835e02",
   "metadata": {},
   "source": [
    "### Align Label spaces"
   ]
  },
  {
   "cell_type": "code",
   "execution_count": 273,
   "id": "1286eb41",
   "metadata": {},
   "outputs": [],
   "source": [
    "label_map = {\n",
    "    \"angry\": 0,\n",
    "    \"disgust\": 1,\n",
    "    \"fear\": 2,\n",
    "    \"happy\": 3,\n",
    "    \"neutral\": 4,\n",
    "    \"sad\": 5,\n",
    "    \"surprise\": 6\n",
    "}"
   ]
  },
  {
   "cell_type": "code",
   "execution_count": 274,
   "id": "017fa156",
   "metadata": {},
   "outputs": [],
   "source": [
    "class MappedImageFolder(ImageFolder):\n",
    "    def __init__(self, root, label_map, transform=None):\n",
    "        super().__init__(root, transform=transform)\n",
    "        self.samples = [\n",
    "            (path, label_map[self.classes[label]])\n",
    "            for path, label in self.samples\n",
    "            if self.classes[label] in label_map\n",
    "        ]\n",
    "        self.targets = [s[1] for s in self.samples]\n",
    "        \n",
    "        inverse_label_map = {v: k for k, v in label_map.items()}\n",
    "        self.classes = [inverse_label_map[i] for i in sorted(inverse_label_map)]\n"
   ]
  },
  {
   "cell_type": "code",
   "execution_count": 275,
   "id": "4c8e7725",
   "metadata": {},
   "outputs": [],
   "source": [
    "mean=[0.485]\n",
    "std=[0.229]\n",
    "\n",
    "manga_transforms = T.Compose([\n",
    "    T.Grayscale(num_output_channels=3),  # Keep 3 channels but use grayscale\n",
    "    T.RandomApply([T.GaussianBlur(3), T.RandomSolarize(0.5)], p=0.5),\n",
    "    T.RandomPerspective(distortion_scale=0.4, p=0.3),\n",
    "    T.RandomApply([T.RandomRotation(15)], p=0.5),\n",
    "    T.RandomPerspective(distortion_scale=0.3, p=0.3),\n",
    "    T.RandomResizedCrop(48, scale=(0.8, 1.2)),\n",
    "    T.RandomHorizontalFlip(),\n",
    "    T.ToTensor(),\n",
    "    T.Normalize(mean, std),\n",
    "    T.RandomErasing(p=0.2)  # Helps with occlusion\n",
    "])\n",
    "\n",
    "\n",
    "manga_faces_train_dir = Path(os.getcwd(), 'datasets', 'manga', 'train')\n",
    "manga_faces_train_images = MappedImageFolder(root=manga_faces_train_dir, label_map=label_map  , transform=manga_transforms)\n",
    "manga_faces_train_images_loader = DataLoader(manga_faces_train_images, batch_size=32, shuffle=True)\n",
    "\n",
    "\n",
    "# Test Set\n",
    "test_transforms = T.Compose([\n",
    "    T.Grayscale(num_output_channels=3),\n",
    "    T.Resize((48, 48)),\n",
    "    T.ToTensor(),\n",
    "    T.Normalize(mean=[0.485], std=[0.229])\n",
    "])\n",
    "manga_faces_test_dir = Path(os.getcwd(), 'datasets', 'manga', 'test')\n",
    "manga_faces_test_images = MappedImageFolder(root=manga_faces_test_dir, label_map=label_map  , transform=test_transforms)\n",
    "manga_faces_test_images_loader = DataLoader(manga_faces_test_images, batch_size=32, shuffle=True)"
   ]
  },
  {
   "cell_type": "code",
   "execution_count": 276,
   "id": "c5504b2e",
   "metadata": {},
   "outputs": [
    {
     "name": "stdout",
     "output_type": "stream",
     "text": [
      "{0, 3, 5, 6}\n"
     ]
    }
   ],
   "source": [
    "print(set(manga_faces_test_images.targets))"
   ]
  },
  {
   "cell_type": "markdown",
   "id": "1f4cf8ef",
   "metadata": {},
   "source": [
    "### Contrastive Loss Class Implementation"
   ]
  },
  {
   "cell_type": "code",
   "execution_count": null,
   "id": "ea01118c",
   "metadata": {},
   "outputs": [],
   "source": [
    "class ContrastiveLoss(nn.Module):\n",
    "    def __init__(self, temperature=0.5):  # Increased temperature\n",
    "        super().__init__()\n",
    "        self.tau = temperature # hyperparameter for scaling the similarity scores\n",
    "        \n",
    "    def forward(self, source_emb, source_labels, target_emb, target_labels):\n",
    "        device = source_emb.device\n",
    "        \n",
    "        # Normalize embeddings\n",
    "        source_emb = F.normalize(source_emb, p=2, dim=1)\n",
    "        target_emb = F.normalize(target_emb, p=2, dim=1)\n",
    "        \n",
    "        embeddings = torch.cat([source_emb, target_emb], dim=0)\n",
    "        labels = torch.cat([source_labels, target_labels], dim=0)\n",
    "        \n",
    "        # Similarity matrix\n",
    "        sim_matrix = torch.mm(target_emb, embeddings.T) / self.tau\n",
    "        \n",
    "        # Masks\n",
    "        pos_mask = torch.zeros_like(sim_matrix, dtype=torch.bool)\n",
    "        for i, label in enumerate(target_labels):\n",
    "            pos_mask[i, :len(source_labels)] = (source_labels == label)\n",
    "            \n",
    "        neg_mask = (labels != target_labels.unsqueeze(1))\n",
    "        neg_mask[:, len(source_labels):] &= ~torch.eye(\n",
    "            len(target_labels), dtype=torch.bool, device=device\n",
    "        )\n",
    "        \n",
    "        # Compute terms with stability\n",
    "        pos_term = (sim_matrix.exp() * pos_mask.float()).sum(dim=1) + 1e-8\n",
    "        neg_term = (sim_matrix.exp() * neg_mask.float()).sum(dim=1) + 1e-8\n",
    "        \n",
    "        loss = -torch.log(pos_term / (pos_term + neg_term))\n",
    "        return loss.mean()"
   ]
  },
  {
   "cell_type": "markdown",
   "id": "3b8dcecc",
   "metadata": {},
   "source": [
    "### Few-shot sampling function"
   ]
  },
  {
   "cell_type": "code",
   "execution_count": 278,
   "id": "c38636a1",
   "metadata": {},
   "outputs": [],
   "source": [
    "# Few-shot sampling function\n",
    "def get_few_shot_indices(dataset, shots_per_class=5):\n",
    "    \"\"\"\n",
    "    Returns a balanced list of indices for few-shot learning by randomly selecting\n",
    "    a fixed number of samples per class.\n",
    "\n",
    "    Args:\n",
    "        dataset (ImageFolder): A PyTorch ImageFolder dataset (or any dataset with a `.samples` attribute \n",
    "                              containing (path, label) tuples).\n",
    "        shots_per_class (int, optional): Number of samples to select per class. Defaults to 5.\n",
    "\n",
    "    Returns:\n",
    "        List[int]: A list of selected indices, ensuring `shots_per_class` samples per class.\n",
    "\n",
    "    Example:\n",
    "        >>> target_set = ImageFolder(root='data/target', transform=transforms.ToTensor())\n",
    "        >>> few_shot_indices = get_few_shot_indices(target_set, shots_per_class=3)\n",
    "        >>> few_shot_loader = DataLoader(Subset(target_set, few_shot_indices), batch_size=3)\n",
    "    \"\"\"\n",
    "    \n",
    "    class_indices = {}\n",
    "    for idx, (_, label) in enumerate(dataset.samples):\n",
    "        class_indices.setdefault(label, []).append(idx)\n",
    "    \n",
    "    selected_indices = []\n",
    "    for label, indices in class_indices.items():\n",
    "        selected_indices.extend(np.random.choice(indices, shots_per_class, replace=False))\n",
    "    return selected_indices"
   ]
  },
  {
   "cell_type": "code",
   "execution_count": 279,
   "id": "c296ef10",
   "metadata": {},
   "outputs": [
    {
     "data": {
      "text/plain": [
       "<All keys matched successfully>"
      ]
     },
     "execution_count": 279,
     "metadata": {},
     "output_type": "execute_result"
    }
   ],
   "source": [
    "model_contrastive = BaseFERModel_V2(params).to(device)\n",
    "model_contrastive = base_fer_model_2.to(device)\n",
    "model_contrastive.load_state_dict(torch.load('weights/base_model_with_fer2013_weights.pt', weights_only=True))"
   ]
  },
  {
   "cell_type": "code",
   "execution_count": 280,
   "id": "e7ff5443",
   "metadata": {},
   "outputs": [],
   "source": [
    "# Initialize model and losses\n",
    "params = {'num_classes': 7, 'dropout_rate': 0.2}  # Example for FER2013\n",
    "cls_criterion = nn.CrossEntropyLoss()\n",
    "cont_criterion = ContrastiveLoss(temperature=0.2)\n",
    "optimizer = torch.optim.AdamW(model_contrastive.parameters(), lr=1e-4, weight_decay=1e-4)\n",
    "\n",
    "# Prepare few-shot target loader training set\n",
    "few_shot_indices = get_few_shot_indices(manga_faces_train_images, shots_per_class=15)\n",
    "few_shot_loader = DataLoader(\n",
    "    Subset(manga_faces_train_images, few_shot_indices),\n",
    "    batch_size=10,\n",
    "    shuffle=False,\n",
    "    drop_last=True  # Avoid partial batches\n",
    ")"
   ]
  },
  {
   "cell_type": "markdown",
   "id": "cfdfa3a3",
   "metadata": {},
   "source": [
    "### Modified Training Loop for Contrastive Learning"
   ]
  },
  {
   "cell_type": "markdown",
   "id": "699f9524",
   "metadata": {},
   "source": [
    "#### Using only CrossEntropyLoss"
   ]
  },
  {
   "cell_type": "code",
   "execution_count": null,
   "id": "c3f5beff",
   "metadata": {},
   "outputs": [],
   "source": []
  },
  {
   "cell_type": "markdown",
   "id": "b38d4661",
   "metadata": {},
   "source": [
    "#### Using only ContrastiveLoss"
   ]
  },
  {
   "cell_type": "code",
   "execution_count": null,
   "id": "885ddf3b",
   "metadata": {},
   "outputs": [],
   "source": []
  },
  {
   "cell_type": "markdown",
   "id": "4135265c",
   "metadata": {},
   "source": [
    "#### Using both CrossEntropyLoss and ContrastiveLoss"
   ]
  },
  {
   "cell_type": "code",
   "execution_count": null,
   "id": "7aa0118e",
   "metadata": {},
   "outputs": [],
   "source": [
    "# Training loop with domain adaptation\n",
    "def train_epoch(model, source_loader, target_loader, optimizer, epoch, epochs):\n",
    "    model.train()\n",
    "    target_iter = cycle(target_loader)  # Infinite iterator\n",
    "    \n",
    "    # Initialize metrics\n",
    "    total_cls_loss = 0.0\n",
    "    total_cont_loss = 0.0\n",
    "    running_total_loss = 0.0\n",
    "    source_correct = 0\n",
    "    target_correct = 0\n",
    "    total_source_samples = 0\n",
    "    total_target_samples = 0\n",
    "    \n",
    "    \n",
    "    tk = tqdm(source_loader, desc=\"EPOCH\" + \"[TRAIN]\" + str(epoch) + \"/\" + str(epochs))\n",
    "    \n",
    "    for batch_idx, (source_imgs, source_lbls) in enumerate(tk):\n",
    "        # Get target batch\n",
    "        target_imgs, target_lbls = next(target_iter)\n",
    "        \n",
    "        # Move to device\n",
    "        source_imgs = source_imgs.to(device)\n",
    "        source_lbls = source_lbls.to(device)\n",
    "        target_imgs = target_imgs.to(device)\n",
    "        target_lbls = target_lbls.to(device)\n",
    "        \n",
    "        # Forward pass with embeddings\n",
    "        source_logits, source_emb = model(source_imgs, return_embeddings=True)\n",
    "        target_logits, target_emb = model(target_imgs, return_embeddings=True)\n",
    "        \n",
    "        # Calculate accuracy\n",
    "        source_preds = source_logits.argmax(dim=1)\n",
    "        target_preds = target_logits.argmax(dim=1)\n",
    "        \n",
    "        # Update counters\n",
    "        batch_source_correct = (source_preds == source_lbls).sum().item()\n",
    "        batch_target_correct = (target_preds == target_lbls).sum().item()\n",
    "        \n",
    "        source_correct += batch_source_correct\n",
    "        target_correct += batch_target_correct\n",
    "        total_source_samples += source_lbls.size(0)\n",
    "        total_target_samples += target_lbls.size(0)\n",
    "        \n",
    "        # Loss calculation\n",
    "        cls_loss = cls_criterion(source_logits, source_lbls) + \\\n",
    "                cls_criterion(target_logits, target_lbls)\n",
    "        \n",
    "        cont_loss = cont_criterion(source_emb, source_lbls,\n",
    "                                 target_emb, target_lbls)\n",
    "        \n",
    "        current_loss = cls_loss + 0.9 * cont_loss # Adjusted weight\n",
    "        \n",
    "        # Update metrics\n",
    "        total_cls_loss += cls_loss.item()\n",
    "        total_cont_loss += cont_loss.item() * 0.5 # Adjusted weight\n",
    "        running_total_loss += current_loss.item()\n",
    "        \n",
    "        # Backpropagation\n",
    "        optimizer.zero_grad()\n",
    "        current_loss.backward()\n",
    "        torch.nn.utils.clip_grad_norm_(model.parameters(), max_norm=1.0)\n",
    "        optimizer.step()\n",
    "        \n",
    "        # Calculate batch-level accuracies\n",
    "        batch_source_acc = 100 * batch_source_correct / source_lbls.size(0)\n",
    "        batch_target_acc = 100 * batch_target_correct / target_lbls.size(0)\n",
    "        \n",
    "        # Update progress bar\n",
    "        tk.set_postfix({\n",
    "            'CLS Loss': f'{total_cls_loss / (batch_idx + 1):.4f}',\n",
    "            'CONT Loss': f'{total_cont_loss / (batch_idx + 1):.4f}',\n",
    "            'Total Loss': f'{running_total_loss / (batch_idx + 1):.4f}',\n",
    "            'Source Acc': f'{batch_source_acc:.2f}%',\n",
    "            'Target Acc': f'{batch_target_acc:.2f}%'\n",
    "        })\n",
    "            \n",
    "    # Calculate epoch-level metrics\n",
    "    epoch_cls_loss = total_cls_loss / len(source_loader)\n",
    "    epoch_cont_loss = total_cont_loss / len(source_loader)\n",
    "    epoch_total_loss = running_total_loss / len(source_loader)\n",
    "    \n",
    "    epoch_source_acc = 100 * source_correct / total_source_samples\n",
    "    epoch_target_acc = 100 * target_correct / total_target_samples\n",
    "    \n",
    "    print(f\"\\nEpoch {epoch}/{epochs} Summary:\")\n",
    "    print(f\"CLS Loss: {epoch_cls_loss:.4f} | CONT Loss: {epoch_cont_loss:.4f} | Total Loss: {epoch_total_loss:.4f}\")\n",
    "    print(f\"Source Acc: {epoch_source_acc:.2f}% | Target Acc: {epoch_target_acc:.2f}%\")\n",
    "    \n",
    "    return epoch_cls_loss, epoch_cont_loss, epoch_total_loss, epoch_source_acc, epoch_target_acc"
   ]
  },
  {
   "cell_type": "code",
   "execution_count": 282,
   "id": "99023746",
   "metadata": {},
   "outputs": [],
   "source": [
    "EPOCHS = 50"
   ]
  },
  {
   "cell_type": "markdown",
   "id": "65d5135f",
   "metadata": {},
   "source": [
    "### Run Contrastive Loss Training function"
   ]
  },
  {
   "cell_type": "code",
   "execution_count": 283,
   "id": "2bb61f43",
   "metadata": {},
   "outputs": [
    {
     "name": "stderr",
     "output_type": "stream",
     "text": [
      "EPOCH[TRAIN]1/50: 100%|██████████| 225/225 [00:27<00:00,  8.04it/s, CLS Loss=2.8959, CONT Loss=0.8832, Total Loss=4.4857, Source Acc=62.16%, Target Acc=20.00%] \n"
     ]
    },
    {
     "name": "stdout",
     "output_type": "stream",
     "text": [
      "\n",
      "Epoch 1/50 Summary:\n",
      "CLS Loss: 2.8959 | CONT Loss: 0.8832 | Total Loss: 4.4857\n",
      "Source Acc: 61.65% | Target Acc: 36.49%\n",
      "SAVED-BEST-WEIGHTS!\n",
      "\n"
     ]
    },
    {
     "name": "stderr",
     "output_type": "stream",
     "text": [
      "EPOCH[TRAIN]2/50: 100%|██████████| 225/225 [00:27<00:00,  8.21it/s, CLS Loss=2.7307, CONT Loss=0.8939, Total Loss=4.3397, Source Acc=64.86%, Target Acc=30.00%] \n"
     ]
    },
    {
     "name": "stdout",
     "output_type": "stream",
     "text": [
      "\n",
      "Epoch 2/50 Summary:\n",
      "CLS Loss: 2.7307 | CONT Loss: 0.8939 | Total Loss: 4.3397\n",
      "Source Acc: 61.27% | Target Acc: 44.04%\n",
      "SAVED-BEST-WEIGHTS!\n",
      "\n"
     ]
    },
    {
     "name": "stderr",
     "output_type": "stream",
     "text": [
      "EPOCH[TRAIN]3/50: 100%|██████████| 225/225 [00:27<00:00,  8.23it/s, CLS Loss=2.5846, CONT Loss=0.8843, Total Loss=4.1763, Source Acc=51.35%, Target Acc=70.00%] \n"
     ]
    },
    {
     "name": "stdout",
     "output_type": "stream",
     "text": [
      "\n",
      "Epoch 3/50 Summary:\n",
      "CLS Loss: 2.5846 | CONT Loss: 0.8843 | Total Loss: 4.1763\n",
      "Source Acc: 60.95% | Target Acc: 48.18%\n",
      "SAVED-BEST-WEIGHTS!\n",
      "\n"
     ]
    },
    {
     "name": "stderr",
     "output_type": "stream",
     "text": [
      "EPOCH[TRAIN]4/50: 100%|██████████| 225/225 [00:28<00:00,  7.84it/s, CLS Loss=2.5170, CONT Loss=0.8954, Total Loss=4.1287, Source Acc=54.05%, Target Acc=40.00%] \n"
     ]
    },
    {
     "name": "stdout",
     "output_type": "stream",
     "text": [
      "\n",
      "Epoch 4/50 Summary:\n",
      "CLS Loss: 2.5170 | CONT Loss: 0.8954 | Total Loss: 4.1287\n",
      "Source Acc: 60.11% | Target Acc: 49.20%\n",
      "SAVED-BEST-WEIGHTS!\n",
      "\n"
     ]
    },
    {
     "name": "stderr",
     "output_type": "stream",
     "text": [
      "EPOCH[TRAIN]5/50: 100%|██████████| 225/225 [00:30<00:00,  7.49it/s, CLS Loss=2.4642, CONT Loss=0.8727, Total Loss=4.0352, Source Acc=62.16%, Target Acc=40.00%] \n"
     ]
    },
    {
     "name": "stdout",
     "output_type": "stream",
     "text": [
      "\n",
      "Epoch 5/50 Summary:\n",
      "CLS Loss: 2.4642 | CONT Loss: 0.8727 | Total Loss: 4.0352\n",
      "Source Acc: 59.96% | Target Acc: 52.04%\n",
      "SAVED-BEST-WEIGHTS!\n",
      "\n"
     ]
    },
    {
     "name": "stderr",
     "output_type": "stream",
     "text": [
      "EPOCH[TRAIN]6/50: 100%|██████████| 225/225 [00:32<00:00,  6.87it/s, CLS Loss=2.4111, CONT Loss=0.8855, Total Loss=4.0049, Source Acc=64.86%, Target Acc=70.00%] \n"
     ]
    },
    {
     "name": "stdout",
     "output_type": "stream",
     "text": [
      "\n",
      "Epoch 6/50 Summary:\n",
      "CLS Loss: 2.4111 | CONT Loss: 0.8855 | Total Loss: 4.0049\n",
      "Source Acc: 59.99% | Target Acc: 53.47%\n",
      "SAVED-BEST-WEIGHTS!\n",
      "\n"
     ]
    },
    {
     "name": "stderr",
     "output_type": "stream",
     "text": [
      "EPOCH[TRAIN]7/50: 100%|██████████| 225/225 [00:31<00:00,  7.23it/s, CLS Loss=2.4073, CONT Loss=0.8804, Total Loss=3.9920, Source Acc=56.76%, Target Acc=60.00%] \n"
     ]
    },
    {
     "name": "stdout",
     "output_type": "stream",
     "text": [
      "\n",
      "Epoch 7/50 Summary:\n",
      "CLS Loss: 2.4073 | CONT Loss: 0.8804 | Total Loss: 3.9920\n",
      "Source Acc: 60.00% | Target Acc: 54.27%\n",
      "SAVED-BEST-WEIGHTS!\n",
      "\n"
     ]
    },
    {
     "name": "stderr",
     "output_type": "stream",
     "text": [
      "EPOCH[TRAIN]8/50: 100%|██████████| 225/225 [00:32<00:00,  6.92it/s, CLS Loss=2.3836, CONT Loss=0.8597, Total Loss=3.9310, Source Acc=59.46%, Target Acc=40.00%] \n"
     ]
    },
    {
     "name": "stdout",
     "output_type": "stream",
     "text": [
      "\n",
      "Epoch 8/50 Summary:\n",
      "CLS Loss: 2.3836 | CONT Loss: 0.8597 | Total Loss: 3.9310\n",
      "Source Acc: 59.85% | Target Acc: 52.31%\n",
      "SAVED-BEST-WEIGHTS!\n",
      "\n"
     ]
    },
    {
     "name": "stderr",
     "output_type": "stream",
     "text": [
      "EPOCH[TRAIN]9/50: 100%|██████████| 225/225 [00:32<00:00,  6.95it/s, CLS Loss=2.4524, CONT Loss=0.8732, Total Loss=4.0242, Source Acc=70.27%, Target Acc=50.00%] \n"
     ]
    },
    {
     "name": "stdout",
     "output_type": "stream",
     "text": [
      "\n",
      "Epoch 9/50 Summary:\n",
      "CLS Loss: 2.4524 | CONT Loss: 0.8732 | Total Loss: 4.0242\n",
      "Source Acc: 59.79% | Target Acc: 53.51%\n",
      "\n"
     ]
    },
    {
     "name": "stderr",
     "output_type": "stream",
     "text": [
      "EPOCH[TRAIN]10/50: 100%|██████████| 225/225 [00:33<00:00,  6.79it/s, CLS Loss=2.2866, CONT Loss=0.8651, Total Loss=3.8437, Source Acc=56.76%, Target Acc=40.00%] \n"
     ]
    },
    {
     "name": "stdout",
     "output_type": "stream",
     "text": [
      "\n",
      "Epoch 10/50 Summary:\n",
      "CLS Loss: 2.2866 | CONT Loss: 0.8651 | Total Loss: 3.8437\n",
      "Source Acc: 59.67% | Target Acc: 57.60%\n",
      "SAVED-BEST-WEIGHTS!\n",
      "\n"
     ]
    },
    {
     "name": "stderr",
     "output_type": "stream",
     "text": [
      "EPOCH[TRAIN]11/50: 100%|██████████| 225/225 [00:32<00:00,  6.89it/s, CLS Loss=2.2942, CONT Loss=0.8754, Total Loss=3.8700, Source Acc=64.86%, Target Acc=30.00%] \n"
     ]
    },
    {
     "name": "stdout",
     "output_type": "stream",
     "text": [
      "\n",
      "Epoch 11/50 Summary:\n",
      "CLS Loss: 2.2942 | CONT Loss: 0.8754 | Total Loss: 3.8700\n",
      "Source Acc: 59.97% | Target Acc: 60.27%\n",
      "\n"
     ]
    },
    {
     "name": "stderr",
     "output_type": "stream",
     "text": [
      "EPOCH[TRAIN]12/50: 100%|██████████| 225/225 [00:31<00:00,  7.16it/s, CLS Loss=2.2747, CONT Loss=0.8644, Total Loss=3.8305, Source Acc=54.05%, Target Acc=60.00%] \n"
     ]
    },
    {
     "name": "stdout",
     "output_type": "stream",
     "text": [
      "\n",
      "Epoch 12/50 Summary:\n",
      "CLS Loss: 2.2747 | CONT Loss: 0.8644 | Total Loss: 3.8305\n",
      "Source Acc: 60.28% | Target Acc: 55.42%\n",
      "SAVED-BEST-WEIGHTS!\n",
      "\n"
     ]
    },
    {
     "name": "stderr",
     "output_type": "stream",
     "text": [
      "EPOCH[TRAIN]13/50: 100%|██████████| 225/225 [00:29<00:00,  7.76it/s, CLS Loss=2.3246, CONT Loss=0.8564, Total Loss=3.8661, Source Acc=78.38%, Target Acc=50.00%] \n"
     ]
    },
    {
     "name": "stdout",
     "output_type": "stream",
     "text": [
      "\n",
      "Epoch 13/50 Summary:\n",
      "CLS Loss: 2.3246 | CONT Loss: 0.8564 | Total Loss: 3.8661\n",
      "Source Acc: 60.01% | Target Acc: 55.56%\n",
      "\n"
     ]
    },
    {
     "name": "stderr",
     "output_type": "stream",
     "text": [
      "EPOCH[TRAIN]14/50: 100%|██████████| 225/225 [00:31<00:00,  7.09it/s, CLS Loss=2.2420, CONT Loss=0.8586, Total Loss=3.7875, Source Acc=45.95%, Target Acc=80.00%] \n"
     ]
    },
    {
     "name": "stdout",
     "output_type": "stream",
     "text": [
      "\n",
      "Epoch 14/50 Summary:\n",
      "CLS Loss: 2.2420 | CONT Loss: 0.8586 | Total Loss: 3.7875\n",
      "Source Acc: 60.05% | Target Acc: 59.29%\n",
      "SAVED-BEST-WEIGHTS!\n",
      "\n"
     ]
    },
    {
     "name": "stderr",
     "output_type": "stream",
     "text": [
      "EPOCH[TRAIN]15/50: 100%|██████████| 225/225 [00:33<00:00,  6.67it/s, CLS Loss=2.2296, CONT Loss=0.8542, Total Loss=3.7671, Source Acc=64.86%, Target Acc=50.00%] \n"
     ]
    },
    {
     "name": "stdout",
     "output_type": "stream",
     "text": [
      "\n",
      "Epoch 15/50 Summary:\n",
      "CLS Loss: 2.2296 | CONT Loss: 0.8542 | Total Loss: 3.7671\n",
      "Source Acc: 60.40% | Target Acc: 56.31%\n",
      "SAVED-BEST-WEIGHTS!\n",
      "\n"
     ]
    },
    {
     "name": "stderr",
     "output_type": "stream",
     "text": [
      "EPOCH[TRAIN]16/50: 100%|██████████| 225/225 [00:32<00:00,  6.85it/s, CLS Loss=2.2178, CONT Loss=0.8633, Total Loss=3.7717, Source Acc=62.16%, Target Acc=80.00%] \n"
     ]
    },
    {
     "name": "stdout",
     "output_type": "stream",
     "text": [
      "\n",
      "Epoch 16/50 Summary:\n",
      "CLS Loss: 2.2178 | CONT Loss: 0.8633 | Total Loss: 3.7717\n",
      "Source Acc: 60.20% | Target Acc: 58.22%\n",
      "\n"
     ]
    },
    {
     "name": "stderr",
     "output_type": "stream",
     "text": [
      "EPOCH[TRAIN]17/50: 100%|██████████| 225/225 [00:29<00:00,  7.76it/s, CLS Loss=2.1714, CONT Loss=0.8541, Total Loss=3.7089, Source Acc=62.16%, Target Acc=60.00%] \n"
     ]
    },
    {
     "name": "stdout",
     "output_type": "stream",
     "text": [
      "\n",
      "Epoch 17/50 Summary:\n",
      "CLS Loss: 2.1714 | CONT Loss: 0.8541 | Total Loss: 3.7089\n",
      "Source Acc: 60.69% | Target Acc: 57.64%\n",
      "SAVED-BEST-WEIGHTS!\n",
      "\n"
     ]
    },
    {
     "name": "stderr",
     "output_type": "stream",
     "text": [
      "EPOCH[TRAIN]18/50: 100%|██████████| 225/225 [00:29<00:00,  7.67it/s, CLS Loss=2.1758, CONT Loss=0.8462, Total Loss=3.6990, Source Acc=64.86%, Target Acc=60.00%] \n"
     ]
    },
    {
     "name": "stdout",
     "output_type": "stream",
     "text": [
      "\n",
      "Epoch 18/50 Summary:\n",
      "CLS Loss: 2.1758 | CONT Loss: 0.8462 | Total Loss: 3.6990\n",
      "Source Acc: 60.33% | Target Acc: 62.36%\n",
      "SAVED-BEST-WEIGHTS!\n",
      "\n"
     ]
    },
    {
     "name": "stderr",
     "output_type": "stream",
     "text": [
      "EPOCH[TRAIN]19/50: 100%|██████████| 225/225 [00:32<00:00,  7.03it/s, CLS Loss=2.1588, CONT Loss=0.8525, Total Loss=3.6933, Source Acc=56.76%, Target Acc=60.00%] \n"
     ]
    },
    {
     "name": "stdout",
     "output_type": "stream",
     "text": [
      "\n",
      "Epoch 19/50 Summary:\n",
      "CLS Loss: 2.1588 | CONT Loss: 0.8525 | Total Loss: 3.6933\n",
      "Source Acc: 60.43% | Target Acc: 63.11%\n",
      "SAVED-BEST-WEIGHTS!\n",
      "\n"
     ]
    },
    {
     "name": "stderr",
     "output_type": "stream",
     "text": [
      "EPOCH[TRAIN]20/50: 100%|██████████| 225/225 [00:34<00:00,  6.58it/s, CLS Loss=2.1123, CONT Loss=0.8401, Total Loss=3.6245, Source Acc=59.46%, Target Acc=70.00%] \n"
     ]
    },
    {
     "name": "stdout",
     "output_type": "stream",
     "text": [
      "\n",
      "Epoch 20/50 Summary:\n",
      "CLS Loss: 2.1123 | CONT Loss: 0.8401 | Total Loss: 3.6245\n",
      "Source Acc: 60.54% | Target Acc: 61.96%\n",
      "SAVED-BEST-WEIGHTS!\n",
      "\n"
     ]
    },
    {
     "name": "stderr",
     "output_type": "stream",
     "text": [
      "EPOCH[TRAIN]21/50: 100%|██████████| 225/225 [00:32<00:00,  7.00it/s, CLS Loss=2.0671, CONT Loss=0.8440, Total Loss=3.5862, Source Acc=67.57%, Target Acc=90.00%] \n"
     ]
    },
    {
     "name": "stdout",
     "output_type": "stream",
     "text": [
      "\n",
      "Epoch 21/50 Summary:\n",
      "CLS Loss: 2.0671 | CONT Loss: 0.8440 | Total Loss: 3.5862\n",
      "Source Acc: 60.51% | Target Acc: 68.18%\n",
      "SAVED-BEST-WEIGHTS!\n",
      "\n"
     ]
    },
    {
     "name": "stderr",
     "output_type": "stream",
     "text": [
      "EPOCH[TRAIN]22/50: 100%|██████████| 225/225 [00:31<00:00,  7.15it/s, CLS Loss=2.1468, CONT Loss=0.8416, Total Loss=3.6617, Source Acc=54.05%, Target Acc=40.00%] \n"
     ]
    },
    {
     "name": "stdout",
     "output_type": "stream",
     "text": [
      "\n",
      "Epoch 22/50 Summary:\n",
      "CLS Loss: 2.1468 | CONT Loss: 0.8416 | Total Loss: 3.6617\n",
      "Source Acc: 60.90% | Target Acc: 60.40%\n",
      "\n"
     ]
    },
    {
     "name": "stderr",
     "output_type": "stream",
     "text": [
      "EPOCH[TRAIN]23/50: 100%|██████████| 225/225 [00:31<00:00,  7.16it/s, CLS Loss=2.0855, CONT Loss=0.8560, Total Loss=3.6264, Source Acc=59.46%, Target Acc=80.00%] \n"
     ]
    },
    {
     "name": "stdout",
     "output_type": "stream",
     "text": [
      "\n",
      "Epoch 23/50 Summary:\n",
      "CLS Loss: 2.0855 | CONT Loss: 0.8560 | Total Loss: 3.6264\n",
      "Source Acc: 60.56% | Target Acc: 65.16%\n",
      "\n"
     ]
    },
    {
     "name": "stderr",
     "output_type": "stream",
     "text": [
      "EPOCH[TRAIN]24/50: 100%|██████████| 225/225 [00:33<00:00,  6.81it/s, CLS Loss=2.2038, CONT Loss=0.8373, Total Loss=3.7109, Source Acc=56.76%, Target Acc=40.00%] \n"
     ]
    },
    {
     "name": "stdout",
     "output_type": "stream",
     "text": [
      "\n",
      "Epoch 24/50 Summary:\n",
      "CLS Loss: 2.2038 | CONT Loss: 0.8373 | Total Loss: 3.7109\n",
      "Source Acc: 61.08% | Target Acc: 56.58%\n",
      "\n"
     ]
    },
    {
     "name": "stderr",
     "output_type": "stream",
     "text": [
      "EPOCH[TRAIN]25/50: 100%|██████████| 225/225 [00:31<00:00,  7.18it/s, CLS Loss=2.1028, CONT Loss=0.8473, Total Loss=3.6280, Source Acc=56.76%, Target Acc=90.00%] \n"
     ]
    },
    {
     "name": "stdout",
     "output_type": "stream",
     "text": [
      "\n",
      "Epoch 25/50 Summary:\n",
      "CLS Loss: 2.1028 | CONT Loss: 0.8473 | Total Loss: 3.6280\n",
      "Source Acc: 60.89% | Target Acc: 63.42%\n",
      "\n"
     ]
    },
    {
     "name": "stderr",
     "output_type": "stream",
     "text": [
      "EPOCH[TRAIN]26/50: 100%|██████████| 225/225 [00:31<00:00,  7.17it/s, CLS Loss=2.0949, CONT Loss=0.8364, Total Loss=3.6005, Source Acc=64.86%, Target Acc=60.00%] \n"
     ]
    },
    {
     "name": "stdout",
     "output_type": "stream",
     "text": [
      "\n",
      "Epoch 26/50 Summary:\n",
      "CLS Loss: 2.0949 | CONT Loss: 0.8364 | Total Loss: 3.6005\n",
      "Source Acc: 60.71% | Target Acc: 66.22%\n",
      "\n"
     ]
    },
    {
     "name": "stderr",
     "output_type": "stream",
     "text": [
      "EPOCH[TRAIN]27/50: 100%|██████████| 225/225 [00:31<00:00,  7.21it/s, CLS Loss=2.0417, CONT Loss=0.8411, Total Loss=3.5556, Source Acc=43.24%, Target Acc=90.00%] \n"
     ]
    },
    {
     "name": "stdout",
     "output_type": "stream",
     "text": [
      "\n",
      "Epoch 27/50 Summary:\n",
      "CLS Loss: 2.0417 | CONT Loss: 0.8411 | Total Loss: 3.5556\n",
      "Source Acc: 61.24% | Target Acc: 65.51%\n",
      "SAVED-BEST-WEIGHTS!\n",
      "\n"
     ]
    },
    {
     "name": "stderr",
     "output_type": "stream",
     "text": [
      "EPOCH[TRAIN]28/50: 100%|██████████| 225/225 [00:31<00:00,  7.20it/s, CLS Loss=2.1430, CONT Loss=0.8357, Total Loss=3.6472, Source Acc=62.16%, Target Acc=60.00%] \n"
     ]
    },
    {
     "name": "stdout",
     "output_type": "stream",
     "text": [
      "\n",
      "Epoch 28/50 Summary:\n",
      "CLS Loss: 2.1430 | CONT Loss: 0.8357 | Total Loss: 3.6472\n",
      "Source Acc: 60.79% | Target Acc: 61.56%\n",
      "\n"
     ]
    },
    {
     "name": "stderr",
     "output_type": "stream",
     "text": [
      "EPOCH[TRAIN]29/50: 100%|██████████| 225/225 [00:34<00:00,  6.55it/s, CLS Loss=2.1150, CONT Loss=0.8316, Total Loss=3.6118, Source Acc=54.05%, Target Acc=60.00%] \n"
     ]
    },
    {
     "name": "stdout",
     "output_type": "stream",
     "text": [
      "\n",
      "Epoch 29/50 Summary:\n",
      "CLS Loss: 2.1150 | CONT Loss: 0.8316 | Total Loss: 3.6118\n",
      "Source Acc: 61.18% | Target Acc: 64.31%\n",
      "\n"
     ]
    },
    {
     "name": "stderr",
     "output_type": "stream",
     "text": [
      "EPOCH[TRAIN]30/50: 100%|██████████| 225/225 [00:33<00:00,  6.65it/s, CLS Loss=2.0582, CONT Loss=0.8463, Total Loss=3.5816, Source Acc=48.65%, Target Acc=90.00%] \n"
     ]
    },
    {
     "name": "stdout",
     "output_type": "stream",
     "text": [
      "\n",
      "Epoch 30/50 Summary:\n",
      "CLS Loss: 2.0582 | CONT Loss: 0.8463 | Total Loss: 3.5816\n",
      "Source Acc: 60.81% | Target Acc: 64.04%\n",
      "\n"
     ]
    },
    {
     "name": "stderr",
     "output_type": "stream",
     "text": [
      "EPOCH[TRAIN]31/50: 100%|██████████| 225/225 [00:32<00:00,  6.96it/s, CLS Loss=2.0258, CONT Loss=0.8346, Total Loss=3.5280, Source Acc=59.46%, Target Acc=80.00%] \n"
     ]
    },
    {
     "name": "stdout",
     "output_type": "stream",
     "text": [
      "\n",
      "Epoch 31/50 Summary:\n",
      "CLS Loss: 2.0258 | CONT Loss: 0.8346 | Total Loss: 3.5280\n",
      "Source Acc: 60.44% | Target Acc: 68.27%\n",
      "SAVED-BEST-WEIGHTS!\n",
      "\n"
     ]
    },
    {
     "name": "stderr",
     "output_type": "stream",
     "text": [
      "EPOCH[TRAIN]32/50: 100%|██████████| 225/225 [00:29<00:00,  7.68it/s, CLS Loss=2.1134, CONT Loss=0.8368, Total Loss=3.6196, Source Acc=51.35%, Target Acc=70.00%] \n"
     ]
    },
    {
     "name": "stdout",
     "output_type": "stream",
     "text": [
      "\n",
      "Epoch 32/50 Summary:\n",
      "CLS Loss: 2.1134 | CONT Loss: 0.8368 | Total Loss: 3.6196\n",
      "Source Acc: 61.22% | Target Acc: 63.64%\n",
      "\n"
     ]
    },
    {
     "name": "stderr",
     "output_type": "stream",
     "text": [
      "EPOCH[TRAIN]33/50: 100%|██████████| 225/225 [00:29<00:00,  7.59it/s, CLS Loss=2.1221, CONT Loss=0.8327, Total Loss=3.6210, Source Acc=62.16%, Target Acc=50.00%] \n"
     ]
    },
    {
     "name": "stdout",
     "output_type": "stream",
     "text": [
      "\n",
      "Epoch 33/50 Summary:\n",
      "CLS Loss: 2.1221 | CONT Loss: 0.8327 | Total Loss: 3.6210\n",
      "Source Acc: 60.95% | Target Acc: 62.31%\n",
      "\n"
     ]
    },
    {
     "name": "stderr",
     "output_type": "stream",
     "text": [
      "EPOCH[TRAIN]34/50: 100%|██████████| 225/225 [00:31<00:00,  7.21it/s, CLS Loss=2.0285, CONT Loss=0.8178, Total Loss=3.5005, Source Acc=62.16%, Target Acc=100.00%]\n"
     ]
    },
    {
     "name": "stdout",
     "output_type": "stream",
     "text": [
      "\n",
      "Epoch 34/50 Summary:\n",
      "CLS Loss: 2.0285 | CONT Loss: 0.8178 | Total Loss: 3.5005\n",
      "Source Acc: 60.97% | Target Acc: 65.96%\n",
      "SAVED-BEST-WEIGHTS!\n",
      "\n"
     ]
    },
    {
     "name": "stderr",
     "output_type": "stream",
     "text": [
      "EPOCH[TRAIN]35/50: 100%|██████████| 225/225 [00:32<00:00,  6.92it/s, CLS Loss=2.0218, CONT Loss=0.8245, Total Loss=3.5058, Source Acc=72.97%, Target Acc=100.00%]\n"
     ]
    },
    {
     "name": "stdout",
     "output_type": "stream",
     "text": [
      "\n",
      "Epoch 35/50 Summary:\n",
      "CLS Loss: 2.0218 | CONT Loss: 0.8245 | Total Loss: 3.5058\n",
      "Source Acc: 60.95% | Target Acc: 68.49%\n",
      "\n"
     ]
    },
    {
     "name": "stderr",
     "output_type": "stream",
     "text": [
      "EPOCH[TRAIN]36/50: 100%|██████████| 225/225 [00:30<00:00,  7.40it/s, CLS Loss=1.9484, CONT Loss=0.8276, Total Loss=3.4381, Source Acc=70.27%, Target Acc=50.00%] \n"
     ]
    },
    {
     "name": "stdout",
     "output_type": "stream",
     "text": [
      "\n",
      "Epoch 36/50 Summary:\n",
      "CLS Loss: 1.9484 | CONT Loss: 0.8276 | Total Loss: 3.4381\n",
      "Source Acc: 60.74% | Target Acc: 69.73%\n",
      "SAVED-BEST-WEIGHTS!\n",
      "\n"
     ]
    },
    {
     "name": "stderr",
     "output_type": "stream",
     "text": [
      "EPOCH[TRAIN]37/50: 100%|██████████| 225/225 [00:28<00:00,  7.82it/s, CLS Loss=2.0182, CONT Loss=0.8300, Total Loss=3.5122, Source Acc=51.35%, Target Acc=80.00%] \n"
     ]
    },
    {
     "name": "stdout",
     "output_type": "stream",
     "text": [
      "\n",
      "Epoch 37/50 Summary:\n",
      "CLS Loss: 2.0182 | CONT Loss: 0.8300 | Total Loss: 3.5122\n",
      "Source Acc: 60.68% | Target Acc: 66.22%\n",
      "\n"
     ]
    },
    {
     "name": "stderr",
     "output_type": "stream",
     "text": [
      "EPOCH[TRAIN]38/50: 100%|██████████| 225/225 [00:31<00:00,  7.25it/s, CLS Loss=2.0012, CONT Loss=0.8254, Total Loss=3.4869, Source Acc=56.76%, Target Acc=100.00%]\n"
     ]
    },
    {
     "name": "stdout",
     "output_type": "stream",
     "text": [
      "\n",
      "Epoch 38/50 Summary:\n",
      "CLS Loss: 2.0012 | CONT Loss: 0.8254 | Total Loss: 3.4869\n",
      "Source Acc: 61.00% | Target Acc: 66.93%\n",
      "\n"
     ]
    },
    {
     "name": "stderr",
     "output_type": "stream",
     "text": [
      "EPOCH[TRAIN]39/50: 100%|██████████| 225/225 [00:31<00:00,  7.20it/s, CLS Loss=2.0120, CONT Loss=0.8330, Total Loss=3.5114, Source Acc=59.46%, Target Acc=80.00%] \n"
     ]
    },
    {
     "name": "stdout",
     "output_type": "stream",
     "text": [
      "\n",
      "Epoch 39/50 Summary:\n",
      "CLS Loss: 2.0120 | CONT Loss: 0.8330 | Total Loss: 3.5114\n",
      "Source Acc: 61.09% | Target Acc: 67.87%\n",
      "\n"
     ]
    },
    {
     "name": "stderr",
     "output_type": "stream",
     "text": [
      "EPOCH[TRAIN]40/50: 100%|██████████| 225/225 [00:30<00:00,  7.39it/s, CLS Loss=1.9577, CONT Loss=0.8169, Total Loss=3.4281, Source Acc=56.76%, Target Acc=100.00%]\n"
     ]
    },
    {
     "name": "stdout",
     "output_type": "stream",
     "text": [
      "\n",
      "Epoch 40/50 Summary:\n",
      "CLS Loss: 1.9577 | CONT Loss: 0.8169 | Total Loss: 3.4281\n",
      "Source Acc: 60.64% | Target Acc: 68.93%\n",
      "SAVED-BEST-WEIGHTS!\n",
      "\n"
     ]
    },
    {
     "name": "stderr",
     "output_type": "stream",
     "text": [
      "EPOCH[TRAIN]41/50: 100%|██████████| 225/225 [00:32<00:00,  6.85it/s, CLS Loss=2.0432, CONT Loss=0.8287, Total Loss=3.5348, Source Acc=64.86%, Target Acc=100.00%]\n"
     ]
    },
    {
     "name": "stdout",
     "output_type": "stream",
     "text": [
      "\n",
      "Epoch 41/50 Summary:\n",
      "CLS Loss: 2.0432 | CONT Loss: 0.8287 | Total Loss: 3.5348\n",
      "Source Acc: 60.75% | Target Acc: 65.78%\n",
      "\n"
     ]
    },
    {
     "name": "stderr",
     "output_type": "stream",
     "text": [
      "EPOCH[TRAIN]42/50: 100%|██████████| 225/225 [00:32<00:00,  7.01it/s, CLS Loss=2.0161, CONT Loss=0.8274, Total Loss=3.5054, Source Acc=48.65%, Target Acc=80.00%] \n"
     ]
    },
    {
     "name": "stdout",
     "output_type": "stream",
     "text": [
      "\n",
      "Epoch 42/50 Summary:\n",
      "CLS Loss: 2.0161 | CONT Loss: 0.8274 | Total Loss: 3.5054\n",
      "Source Acc: 60.79% | Target Acc: 66.18%\n",
      "\n"
     ]
    },
    {
     "name": "stderr",
     "output_type": "stream",
     "text": [
      "EPOCH[TRAIN]43/50: 100%|██████████| 225/225 [00:31<00:00,  7.23it/s, CLS Loss=1.9392, CONT Loss=0.8235, Total Loss=3.4216, Source Acc=56.76%, Target Acc=100.00%]\n"
     ]
    },
    {
     "name": "stdout",
     "output_type": "stream",
     "text": [
      "\n",
      "Epoch 43/50 Summary:\n",
      "CLS Loss: 1.9392 | CONT Loss: 0.8235 | Total Loss: 3.4216\n",
      "Source Acc: 60.98% | Target Acc: 70.04%\n",
      "SAVED-BEST-WEIGHTS!\n",
      "\n"
     ]
    },
    {
     "name": "stderr",
     "output_type": "stream",
     "text": [
      "EPOCH[TRAIN]44/50: 100%|██████████| 225/225 [00:31<00:00,  7.17it/s, CLS Loss=2.0085, CONT Loss=0.8269, Total Loss=3.4969, Source Acc=67.57%, Target Acc=90.00%] \n"
     ]
    },
    {
     "name": "stdout",
     "output_type": "stream",
     "text": [
      "\n",
      "Epoch 44/50 Summary:\n",
      "CLS Loss: 2.0085 | CONT Loss: 0.8269 | Total Loss: 3.4969\n",
      "Source Acc: 61.26% | Target Acc: 68.84%\n",
      "\n"
     ]
    },
    {
     "name": "stderr",
     "output_type": "stream",
     "text": [
      "EPOCH[TRAIN]45/50: 100%|██████████| 225/225 [00:30<00:00,  7.37it/s, CLS Loss=1.9066, CONT Loss=0.8172, Total Loss=3.3775, Source Acc=51.35%, Target Acc=90.00%] \n"
     ]
    },
    {
     "name": "stdout",
     "output_type": "stream",
     "text": [
      "\n",
      "Epoch 45/50 Summary:\n",
      "CLS Loss: 1.9066 | CONT Loss: 0.8172 | Total Loss: 3.3775\n",
      "Source Acc: 60.97% | Target Acc: 71.02%\n",
      "SAVED-BEST-WEIGHTS!\n",
      "\n"
     ]
    },
    {
     "name": "stderr",
     "output_type": "stream",
     "text": [
      "EPOCH[TRAIN]46/50: 100%|██████████| 225/225 [00:29<00:00,  7.71it/s, CLS Loss=2.0162, CONT Loss=0.8160, Total Loss=3.4850, Source Acc=62.16%, Target Acc=80.00%] \n"
     ]
    },
    {
     "name": "stdout",
     "output_type": "stream",
     "text": [
      "\n",
      "Epoch 46/50 Summary:\n",
      "CLS Loss: 2.0162 | CONT Loss: 0.8160 | Total Loss: 3.4850\n",
      "Source Acc: 61.09% | Target Acc: 66.67%\n",
      "\n"
     ]
    },
    {
     "name": "stderr",
     "output_type": "stream",
     "text": [
      "EPOCH[TRAIN]47/50: 100%|██████████| 225/225 [00:28<00:00,  7.85it/s, CLS Loss=1.8901, CONT Loss=0.8264, Total Loss=3.3776, Source Acc=62.16%, Target Acc=100.00%]\n"
     ]
    },
    {
     "name": "stdout",
     "output_type": "stream",
     "text": [
      "\n",
      "Epoch 47/50 Summary:\n",
      "CLS Loss: 1.8901 | CONT Loss: 0.8264 | Total Loss: 3.3776\n",
      "Source Acc: 61.32% | Target Acc: 71.73%\n",
      "\n"
     ]
    },
    {
     "name": "stderr",
     "output_type": "stream",
     "text": [
      "EPOCH[TRAIN]48/50: 100%|██████████| 225/225 [00:27<00:00,  8.09it/s, CLS Loss=1.8586, CONT Loss=0.8165, Total Loss=3.3284, Source Acc=56.76%, Target Acc=100.00%]\n"
     ]
    },
    {
     "name": "stdout",
     "output_type": "stream",
     "text": [
      "\n",
      "Epoch 48/50 Summary:\n",
      "CLS Loss: 1.8586 | CONT Loss: 0.8165 | Total Loss: 3.3284\n",
      "Source Acc: 60.87% | Target Acc: 74.27%\n",
      "SAVED-BEST-WEIGHTS!\n",
      "\n"
     ]
    },
    {
     "name": "stderr",
     "output_type": "stream",
     "text": [
      "EPOCH[TRAIN]49/50: 100%|██████████| 225/225 [00:29<00:00,  7.67it/s, CLS Loss=1.9041, CONT Loss=0.8141, Total Loss=3.3694, Source Acc=72.97%, Target Acc=100.00%]\n"
     ]
    },
    {
     "name": "stdout",
     "output_type": "stream",
     "text": [
      "\n",
      "Epoch 49/50 Summary:\n",
      "CLS Loss: 1.9041 | CONT Loss: 0.8141 | Total Loss: 3.3694\n",
      "Source Acc: 61.30% | Target Acc: 71.29%\n",
      "\n"
     ]
    },
    {
     "name": "stderr",
     "output_type": "stream",
     "text": [
      "EPOCH[TRAIN]50/50: 100%|██████████| 225/225 [00:27<00:00,  8.06it/s, CLS Loss=1.9370, CONT Loss=0.8253, Total Loss=3.4225, Source Acc=67.57%, Target Acc=100.00%]"
     ]
    },
    {
     "name": "stdout",
     "output_type": "stream",
     "text": [
      "\n",
      "Epoch 50/50 Summary:\n",
      "CLS Loss: 1.9370 | CONT Loss: 0.8253 | Total Loss: 3.4225\n",
      "Source Acc: 60.98% | Target Acc: 71.02%\n",
      "\n"
     ]
    },
    {
     "name": "stderr",
     "output_type": "stream",
     "text": [
      "\n"
     ]
    }
   ],
   "source": [
    "contrastive_loss_metrics = {\n",
    "    'cls_loss': [],\n",
    "    'cont_loss': [],\n",
    "    'total_loss': [],\n",
    "    'source_accuracy': [],\n",
    "    'target_accuracy': []\n",
    "}\n",
    "best_valid_loss = np.inf\n",
    "\n",
    "for epoch in range(1, EPOCHS + 1):\n",
    "    cls_loss, cont_loss, total_loss, source_acc, target_acc = \\\n",
    "        train_epoch(model_contrastive, training_loader, few_shot_loader, optimizer, epoch, EPOCHS)\n",
    "    \n",
    "    \n",
    "    contrastive_loss_metrics['cls_loss'].append(cls_loss)\n",
    "    contrastive_loss_metrics['cont_loss'].append(cont_loss)\n",
    "    contrastive_loss_metrics['total_loss'].append(total_loss)\n",
    "    contrastive_loss_metrics['source_accuracy'].append(source_acc)\n",
    "    contrastive_loss_metrics['target_accuracy'].append(target_acc)\n",
    "    \n",
    "    if total_loss < best_valid_loss:\n",
    "        torch.save(model_contrastive.state_dict(), 'weights/base_model_contrastive_learning_weights.pt')\n",
    "        print(\"SAVED-BEST-WEIGHTS!\")\n",
    "        best_valid_loss = total_loss\n",
    "        #patience_counter = 0 # Reset early stopping\n",
    "    print()"
   ]
  },
  {
   "cell_type": "code",
   "execution_count": null,
   "id": "e65bcda3",
   "metadata": {},
   "outputs": [],
   "source": []
  },
  {
   "cell_type": "code",
   "execution_count": 284,
   "id": "95fd4686",
   "metadata": {},
   "outputs": [
    {
     "name": "stdout",
     "output_type": "stream",
     "text": [
      "Epoch 1\n"
     ]
    },
    {
     "name": "stderr",
     "output_type": "stream",
     "text": [
      "EPOCH[VALID]1/10: 100%|██████████| 5/5 [00:00<00:00, 11.29it/s, loss=1.444562, acc=0.556250]\n"
     ]
    },
    {
     "name": "stdout",
     "output_type": "stream",
     "text": [
      "Epoch 2\n"
     ]
    },
    {
     "name": "stderr",
     "output_type": "stream",
     "text": [
      "EPOCH[VALID]2/10: 100%|██████████| 5/5 [00:00<00:00, 14.09it/s, loss=1.575016, acc=0.425000]\n"
     ]
    },
    {
     "name": "stdout",
     "output_type": "stream",
     "text": [
      "Epoch 3\n"
     ]
    },
    {
     "name": "stderr",
     "output_type": "stream",
     "text": [
      "EPOCH[VALID]3/10: 100%|██████████| 5/5 [00:00<00:00, 14.91it/s, loss=1.677868, acc=0.468750]\n"
     ]
    },
    {
     "name": "stdout",
     "output_type": "stream",
     "text": [
      "Epoch 4\n"
     ]
    },
    {
     "name": "stderr",
     "output_type": "stream",
     "text": [
      "EPOCH[VALID]4/10: 100%|██████████| 5/5 [00:00<00:00, 18.03it/s, loss=1.636436, acc=0.512500]\n"
     ]
    },
    {
     "name": "stdout",
     "output_type": "stream",
     "text": [
      "Epoch 5\n"
     ]
    },
    {
     "name": "stderr",
     "output_type": "stream",
     "text": [
      "EPOCH[VALID]5/10: 100%|██████████| 5/5 [00:00<00:00, 25.48it/s, loss=1.701019, acc=0.425000]\n"
     ]
    },
    {
     "name": "stdout",
     "output_type": "stream",
     "text": [
      "Epoch 6\n"
     ]
    },
    {
     "name": "stderr",
     "output_type": "stream",
     "text": [
      "EPOCH[VALID]6/10: 100%|██████████| 5/5 [00:00<00:00, 26.61it/s, loss=1.702232, acc=0.425000]\n"
     ]
    },
    {
     "name": "stdout",
     "output_type": "stream",
     "text": [
      "Epoch 7\n"
     ]
    },
    {
     "name": "stderr",
     "output_type": "stream",
     "text": [
      "EPOCH[VALID]7/10: 100%|██████████| 5/5 [00:00<00:00, 27.08it/s, loss=1.713848, acc=0.425000]\n"
     ]
    },
    {
     "name": "stdout",
     "output_type": "stream",
     "text": [
      "Epoch 8\n"
     ]
    },
    {
     "name": "stderr",
     "output_type": "stream",
     "text": [
      "EPOCH[VALID]8/10: 100%|██████████| 5/5 [00:00<00:00, 22.94it/s, loss=1.858013, acc=0.381250]\n"
     ]
    },
    {
     "name": "stdout",
     "output_type": "stream",
     "text": [
      "Epoch 9\n"
     ]
    },
    {
     "name": "stderr",
     "output_type": "stream",
     "text": [
      "EPOCH[VALID]9/10: 100%|██████████| 5/5 [00:00<00:00, 24.50it/s, loss=1.714138, acc=0.468750]\n"
     ]
    },
    {
     "name": "stdout",
     "output_type": "stream",
     "text": [
      "Epoch 10\n"
     ]
    },
    {
     "name": "stderr",
     "output_type": "stream",
     "text": [
      "EPOCH[VALID]10/10: 100%|██████████| 5/5 [00:00<00:00, 25.56it/s, loss=1.519675, acc=0.512500]"
     ]
    },
    {
     "name": "stdout",
     "output_type": "stream",
     "text": [
      "\n"
     ]
    },
    {
     "name": "stderr",
     "output_type": "stream",
     "text": [
      "\n"
     ]
    }
   ],
   "source": [
    "# tEST the model:\n",
    "cont_test_out_of_distribution_metrics = test_out_of_distribution(model_contrastive, manga_faces_test_images_loader, epochs=10, device=device)"
   ]
  },
  {
   "cell_type": "code",
   "execution_count": 285,
   "id": "3eea2477",
   "metadata": {},
   "outputs": [],
   "source": [
    "from sklearn.metrics import classification_report\n",
    "\n",
    "def evaluate_model(model, test_loader, target=False):\n",
    "    model.eval()\n",
    "    all_preds = []\n",
    "    all_labels = []\n",
    "    \n",
    "    with torch.no_grad():\n",
    "        for imgs, lbls in tqdm(test_loader, desc=\"Evaluating\"):\n",
    "            imgs = imgs.to(device)\n",
    "            lbls = lbls.to(device)\n",
    "            \n",
    "            logits, _ = model(imgs, return_embeddings=True)\n",
    "            preds = logits.argmax(dim=1)\n",
    "            \n",
    "            all_preds.extend(preds.cpu().numpy())\n",
    "            all_labels.extend(lbls.cpu().numpy())\n",
    "    \n",
    "    # Calculate metrics\n",
    "    accuracy = 100 * (np.array(all_preds) == np.array(all_labels)).mean()\n",
    "    class_report = classification_report(all_labels, all_preds, zero_division=0)\n",
    "    \n",
    "    print(f\"{'Target' if target else 'Source'} Test Accuracy: {accuracy:.2f}%\")\n",
    "    print(\"\\nClassification Report:\\n\", class_report)\n",
    "    \n",
    "    return accuracy, class_report"
   ]
  },
  {
   "cell_type": "markdown",
   "id": "2d90fce5",
   "metadata": {},
   "source": [
    "#### Test on Source Domain"
   ]
  },
  {
   "cell_type": "code",
   "execution_count": 286,
   "id": "7714becb",
   "metadata": {},
   "outputs": [
    {
     "name": "stderr",
     "output_type": "stream",
     "text": [
      "Evaluating: 100%|██████████| 57/57 [00:05<00:00, 10.15it/s]"
     ]
    },
    {
     "name": "stdout",
     "output_type": "stream",
     "text": [
      "Source Test Accuracy: 61.42%\n",
      "\n",
      "Classification Report:\n",
      "               precision    recall  f1-score   support\n",
      "\n",
      "           0       0.45      0.66      0.53       958\n",
      "           1       0.55      0.35      0.43       111\n",
      "           2       0.54      0.26      0.35      1024\n",
      "           3       0.79      0.86      0.82      1774\n",
      "           4       0.57      0.63      0.59      1233\n",
      "           5       0.55      0.41      0.47      1247\n",
      "           6       0.69      0.80      0.74       831\n",
      "\n",
      "    accuracy                           0.61      7178\n",
      "   macro avg       0.59      0.57      0.56      7178\n",
      "weighted avg       0.61      0.61      0.60      7178\n",
      "\n"
     ]
    },
    {
     "name": "stderr",
     "output_type": "stream",
     "text": [
      "\n"
     ]
    }
   ],
   "source": [
    "source_test_accuracy, source_report = evaluate_model(model_contrastive, test_loader)\n",
    "# Contrastive learning model does not forget the source domain"
   ]
  },
  {
   "cell_type": "markdown",
   "id": "e4d965a2",
   "metadata": {},
   "source": [
    "#### Test on Target Domain"
   ]
  },
  {
   "cell_type": "code",
   "execution_count": 287,
   "id": "46a78bda",
   "metadata": {},
   "outputs": [
    {
     "name": "stderr",
     "output_type": "stream",
     "text": [
      "Evaluating: 100%|██████████| 5/5 [00:00<00:00, 15.07it/s]"
     ]
    },
    {
     "name": "stdout",
     "output_type": "stream",
     "text": [
      "Target Test Accuracy: 46.21%\n",
      "\n",
      "Classification Report:\n",
      "               precision    recall  f1-score   support\n",
      "\n",
      "           0       0.45      0.43      0.44        21\n",
      "           2       0.00      0.00      0.00         0\n",
      "           3       0.70      0.80      0.74        49\n",
      "           4       0.00      0.00      0.00         0\n",
      "           5       0.40      0.36      0.38        22\n",
      "           6       0.62      0.12      0.21        40\n",
      "\n",
      "    accuracy                           0.46       132\n",
      "   macro avg       0.36      0.29      0.30       132\n",
      "weighted avg       0.59      0.46      0.47       132\n",
      "\n"
     ]
    },
    {
     "name": "stderr",
     "output_type": "stream",
     "text": [
      "\n"
     ]
    }
   ],
   "source": [
    "target_test_accuracy, target_report = evaluate_model(model_contrastive, manga_faces_test_images_loader, target=True)"
   ]
  },
  {
   "cell_type": "code",
   "execution_count": 126,
   "id": "c5fba147",
   "metadata": {},
   "outputs": [
    {
     "data": {
      "text/plain": [
       "{'angry': 0,\n",
       " 'disgust': 1,\n",
       " 'fear': 2,\n",
       " 'happy': 3,\n",
       " 'neutral': 4,\n",
       " 'sad': 5,\n",
       " 'surprise': 6}"
      ]
     },
     "execution_count": 126,
     "metadata": {},
     "output_type": "execute_result"
    }
   ],
   "source": [
    "training_set.class_to_idx"
   ]
  },
  {
   "cell_type": "markdown",
   "id": "2513c430",
   "metadata": {},
   "source": [
    "- Align labels in source and target (limitation)\n",
    "- Split Manga dataset into train and test set  (limitation of small data set)"
   ]
  },
  {
   "cell_type": "markdown",
   "id": "efe02458",
   "metadata": {},
   "source": [
    "The initial labels that were similar across both data sets include Angry, Happy, and Sad.\n",
    "\n",
    "The remaining labels in the Manga faces data set include Crying, Embarrassd, Pleased, and Shock\n",
    "The remaining labels in the FER 2013 data set include Disgust, Fear, Neutral, and Surprise\n",
    "\n",
    "\n",
    "I will rename the 'Shock' label in Manga to Surprise. \\\n",
    "I will combine the Pleased label with the Happy label of the Manga faces dataset \\\n",
    "Also, I will rename the Embarrassed label in Manga faces to \n",
    "\n",
    "After this, the new labels in the Manga faces become: Angry, Happy (+Pleased), Sad, and Surprise (Shock)\n",
    "\n",
    "The new data set will then be split into 60% for training and 40% for validation\n",
    "\n",
    "Small testing Manga faces data set is a limitation\n",
    "\n",
    "FUTURE WORK: More experiments with temperature and contrastive loss weighting.\n",
    "experiment on loss functions and hyperparameters"
   ]
  },
  {
   "cell_type": "markdown",
   "id": "b4359449",
   "metadata": {},
   "source": []
  }
 ],
 "metadata": {
  "jupytext": {
   "cell_metadata_filter": "-all",
   "main_language": "python",
   "notebook_metadata_filter": "-all"
  },
  "kernelspec": {
   "display_name": "Python 3",
   "language": "python",
   "name": "python3"
  },
  "language_info": {
   "codemirror_mode": {
    "name": "ipython",
    "version": 3
   },
   "file_extension": ".py",
   "mimetype": "text/x-python",
   "name": "python",
   "nbconvert_exporter": "python",
   "pygments_lexer": "ipython3",
   "version": "3.9.20"
  }
 },
 "nbformat": 4,
 "nbformat_minor": 5
}
