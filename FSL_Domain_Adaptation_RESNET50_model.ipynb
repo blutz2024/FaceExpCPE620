{
 "cells": [
  {
   "cell_type": "markdown",
   "id": "73db0601",
   "metadata": {},
   "source": [
    "# Import Libraries"
   ]
  },
  {
   "cell_type": "code",
   "execution_count": null,
   "id": "10b8bb13",
   "metadata": {},
   "outputs": [],
   "source": [
    "import os\n",
    "import random\n",
    "import sys\n",
    "from datetime import datetime\n",
    "from itertools import cycle\n",
    "from pathlib import Path\n",
    "\n",
    "import cv2\n",
    "import matplotlib.pyplot as plt\n",
    "import numpy as np\n",
    "import pandas as pd\n",
    "from sklearn.metrics import classification_report\n",
    "import torch\n",
    "import torch.nn as nn\n",
    "import torch.nn.functional as F\n",
    "import torch.optim as optim\n",
    "import torchvision.models as models\n",
    "import torchvision.transforms as T\n",
    "from PIL import Image\n",
    "from torch.utils.data import DataLoader, Dataset, Subset\n",
    "from torchinfo import summary\n",
    "from tqdm import tqdm\n",
    "from torchvision.datasets import ImageFolder"
   ]
  },
  {
   "cell_type": "code",
   "execution_count": 2,
   "id": "1a374da0",
   "metadata": {},
   "outputs": [
    {
     "data": {
      "text/plain": [
       "device(type='cuda')"
      ]
     },
     "execution_count": 2,
     "metadata": {},
     "output_type": "execute_result"
    }
   ],
   "source": [
    "device = torch.device(\"cuda\" if torch.cuda.is_available() else \"cpu\")\n",
    "device"
   ]
  },
  {
   "cell_type": "markdown",
   "id": "fb69d7f8",
   "metadata": {},
   "source": [
    "# Datasets"
   ]
  },
  {
   "cell_type": "code",
   "execution_count": 3,
   "id": "d415bfaf",
   "metadata": {},
   "outputs": [],
   "source": [
    "BATCH_SIZE = 128"
   ]
  },
  {
   "cell_type": "markdown",
   "id": "f070573d",
   "metadata": {},
   "source": [
    "## Data Augmentations"
   ]
  },
  {
   "cell_type": "code",
   "execution_count": 4,
   "id": "5689ad0a",
   "metadata": {},
   "outputs": [],
   "source": [
    "mean = [0.485, 0.456, 0.406]\n",
    "std = [0.229, 0.224, 0.225]\n",
    "\n",
    "# train_transforms = T.Compose([\n",
    "#     T.Resize((48, 48)),\n",
    "#     T.ToTensor(),\n",
    "#     T.RandomHorizontalFlip(p=0.5),\n",
    "#     T.ColorJitter(brightness=0.2, contrast=0.2, saturation=0.2, hue=0.1),\n",
    "#     T.Normalize(mean, std),\n",
    "#     T.RandomAffine(degrees=0, shear=0.2, scale=(0.8, 1.2))\n",
    "# ])\n",
    "\n",
    "mean = [0.485]  # Single channel\n",
    "std = [0.229]\n",
    "\n",
    "\n",
    "train_transforms = T.Compose([\n",
    "    T.Grayscale(num_output_channels=3),  # Keep 3 channels but use grayscale\n",
    "    T.RandomApply([T.RandomRotation(15)], p=0.5),\n",
    "    T.RandomPerspective(distortion_scale=0.3, p=0.3),\n",
    "    T.RandomResizedCrop(48, scale=(0.8, 1.2)),\n",
    "    T.RandomHorizontalFlip(),\n",
    "    T.ToTensor(),\n",
    "    T.Normalize(mean, std),\n",
    "    T.RandomErasing(p=0.2)  # Helps with occlusion\n",
    "])\n",
    "\n",
    "\n",
    "val_transforms = T.Compose([\n",
    "    T.Resize((48, 48)),\n",
    "    T.ToTensor(),\n",
    "    T.Normalize(mean, std)\n",
    "])"
   ]
  },
  {
   "cell_type": "markdown",
   "id": "369f49a1",
   "metadata": {},
   "source": [
    "## DataSet and DataLoader"
   ]
  },
  {
   "cell_type": "code",
   "execution_count": 5,
   "id": "04df5c89",
   "metadata": {
    "lines_to_next_cell": 1
   },
   "outputs": [],
   "source": [
    "fer_2013_dir = Path(os.getcwd(), 'datasets', 'fer2013')"
   ]
  },
  {
   "cell_type": "code",
   "execution_count": 6,
   "id": "97db57d8",
   "metadata": {},
   "outputs": [],
   "source": [
    "training_set = ImageFolder(root=fer_2013_dir / 'train', transform=train_transforms)\n",
    "training_loader = DataLoader(training_set, batch_size=BATCH_SIZE, shuffle=True)\n",
    "\n",
    "test_set = ImageFolder(root=fer_2013_dir / 'test', transform=val_transforms)\n",
    "test_loader = DataLoader(test_set, batch_size=BATCH_SIZE, shuffle=True)"
   ]
  },
  {
   "cell_type": "code",
   "execution_count": 7,
   "id": "40020c85",
   "metadata": {},
   "outputs": [
    {
     "name": "stdout",
     "output_type": "stream",
     "text": [
      "Training set: 28709 images\n",
      "Testing set: 7178 images\n",
      "One image batch shape : torch.Size([128, 3, 48, 48])\n",
      "One label batch shape : torch.Size([128])\n"
     ]
    }
   ],
   "source": [
    "# Print shape of training and testing images\n",
    "print(f\"Training set: {len(training_set)} images\")\n",
    "print(f\"Testing set: {len(test_set)} images\")\n",
    "\n",
    "for images, labels in training_loader:\n",
    "  break\n",
    "\n",
    "print(f\"One image batch shape : {images.shape}\")\n",
    "print(f\"One label batch shape : {labels.shape}\")"
   ]
  },
  {
   "cell_type": "code",
   "execution_count": 8,
   "id": "17391128",
   "metadata": {},
   "outputs": [
    {
     "name": "stdout",
     "output_type": "stream",
     "text": [
      "{'angry': 0, 'disgust': 1, 'fear': 2, 'happy': 3, 'neutral': 4, 'sad': 5, 'surprise': 6}\n"
     ]
    }
   ],
   "source": [
    "print(training_set.class_to_idx)"
   ]
  },
  {
   "cell_type": "code",
   "execution_count": 9,
   "id": "c08b7dd9",
   "metadata": {},
   "outputs": [],
   "source": [
    "label_map = {\n",
    "    0: 'angry', 1: 'disgust', 2: 'fear', 3: 'happy', \n",
    "    4: 'neutral', 5: 'sad', 6: 'surprise'\n",
    "}"
   ]
  },
  {
   "cell_type": "markdown",
   "id": "a3867fc1",
   "metadata": {},
   "source": [
    "#### Show sample images"
   ]
  },
  {
   "cell_type": "code",
   "execution_count": 11,
   "id": "bc0b98a3",
   "metadata": {},
   "outputs": [
    {
     "data": {
      "image/png": "[encoded data removed]",
      "text/plain": [
       "<Figure size 1200x400 with 4 Axes>"
      ]
     },
     "metadata": {},
     "output_type": "display_data"
    }
   ],
   "source": [
    "# Get a batch\n",
    "images, labels = next(iter(training_loader))\n",
    "\n",
    "# Unnormalize a few images from the batch\n",
    "def unnormalize(img):\n",
    "    # Use values matching your actual normalization\n",
    "    mean = torch.tensor([0.485, 0.485, 0.485]).to(img.device)\n",
    "    std = torch.tensor([0.229, 0.229, 0.229]).to(img.device)\n",
    "    return img * std.view(1, 3, 1, 1) + mean.view(1, 3, 1, 1)\n",
    "\n",
    "# Display with proper channel handling\n",
    "fig, axes = plt.subplots(1, 4, figsize=(12, 4))\n",
    "for i in range(4):\n",
    "    img = unnormalize(images[i].unsqueeze(0)).squeeze(0)\n",
    "    img = img.permute(1, 2, 0).cpu().numpy()\n",
    "    axes[i].imshow(img, cmap='gray')  # Force grayscale display\n",
    "    axes[i].set_title(f\"Label: {label_map[int(labels[i])]}\")\n",
    "    axes[i].axis(\"off\")\n",
    "    \n",
    "plt.tight_layout()\n",
    "plt.show()"
   ]
  },
  {
   "cell_type": "markdown",
   "id": "e253eda5",
   "metadata": {},
   "source": [
    "# ResNet50 Model"
   ]
  },
  {
   "cell_type": "markdown",
   "id": "41261683",
   "metadata": {},
   "source": [
    "### Define Class & Compile Model"
   ]
  },
  {
   "cell_type": "code",
   "execution_count": 12,
   "id": "0a2f5287",
   "metadata": {},
   "outputs": [],
   "source": [
    "params={          \n",
    "        \"dropout_rate\": 0.2,\n",
    "        \"num_classes\": 7,\n",
    "}\n",
    "\n",
    "resnet50_fer_model = models.resnet50(weights=models.ResNet50_Weights.DEFAULT)\n",
    "resnet50_fer_model.fc = nn.Sequential(\n",
    "    nn.Dropout(params[\"dropout_rate\"]),\n",
    "    nn.Linear(resnet50_fer_model.fc.in_features, params[\"num_classes\"])\n",
    ")\n",
    "resnet50_fer_model = resnet50_fer_model.to(device)"
   ]
  },
  {
   "cell_type": "code",
   "execution_count": 13,
   "id": "21b95d72",
   "metadata": {},
   "outputs": [
    {
     "name": "stdout",
     "output_type": "stream",
     "text": [
      "==========================================================================================\n",
      "Layer (type:depth-idx)                   Output Shape              Param #\n",
      "==========================================================================================\n",
      "ResNet                                   [128, 7]                  --\n",
      "├─Conv2d: 1-1                            [128, 64, 24, 24]         9,408\n",
      "├─BatchNorm2d: 1-2                       [128, 64, 24, 24]         128\n",
      "├─ReLU: 1-3                              [128, 64, 24, 24]         --\n",
      "├─MaxPool2d: 1-4                         [128, 64, 12, 12]         --\n",
      "├─Sequential: 1-5                        [128, 256, 12, 12]        --\n",
      "│    └─Bottleneck: 2-1                   [128, 256, 12, 12]        --\n",
      "│    │    └─Conv2d: 3-1                  [128, 64, 12, 12]         4,096\n",
      "│    │    └─BatchNorm2d: 3-2             [128, 64, 12, 12]         128\n",
      "│    │    └─ReLU: 3-3                    [128, 64, 12, 12]         --\n",
      "│    │    └─Conv2d: 3-4                  [128, 64, 12, 12]         36,864\n",
      "│    │    └─BatchNorm2d: 3-5             [128, 64, 12, 12]         128\n",
      "│    │    └─ReLU: 3-6                    [128, 64, 12, 12]         --\n",
      "│    │    └─Conv2d: 3-7                  [128, 256, 12, 12]        16,384\n",
      "│    │    └─BatchNorm2d: 3-8             [128, 256, 12, 12]        512\n",
      "│    │    └─Sequential: 3-9              [128, 256, 12, 12]        16,896\n",
      "│    │    └─ReLU: 3-10                   [128, 256, 12, 12]        --\n",
      "│    └─Bottleneck: 2-2                   [128, 256, 12, 12]        --\n",
      "│    │    └─Conv2d: 3-11                 [128, 64, 12, 12]         16,384\n",
      "│    │    └─BatchNorm2d: 3-12            [128, 64, 12, 12]         128\n",
      "│    │    └─ReLU: 3-13                   [128, 64, 12, 12]         --\n",
      "│    │    └─Conv2d: 3-14                 [128, 64, 12, 12]         36,864\n",
      "│    │    └─BatchNorm2d: 3-15            [128, 64, 12, 12]         128\n",
      "│    │    └─ReLU: 3-16                   [128, 64, 12, 12]         --\n",
      "│    │    └─Conv2d: 3-17                 [128, 256, 12, 12]        16,384\n",
      "│    │    └─BatchNorm2d: 3-18            [128, 256, 12, 12]        512\n",
      "│    │    └─ReLU: 3-19                   [128, 256, 12, 12]        --\n",
      "│    └─Bottleneck: 2-3                   [128, 256, 12, 12]        --\n",
      "│    │    └─Conv2d: 3-20                 [128, 64, 12, 12]         16,384\n",
      "│    │    └─BatchNorm2d: 3-21            [128, 64, 12, 12]         128\n",
      "│    │    └─ReLU: 3-22                   [128, 64, 12, 12]         --\n",
      "│    │    └─Conv2d: 3-23                 [128, 64, 12, 12]         36,864\n",
      "│    │    └─BatchNorm2d: 3-24            [128, 64, 12, 12]         128\n",
      "│    │    └─ReLU: 3-25                   [128, 64, 12, 12]         --\n",
      "│    │    └─Conv2d: 3-26                 [128, 256, 12, 12]        16,384\n",
      "│    │    └─BatchNorm2d: 3-27            [128, 256, 12, 12]        512\n",
      "│    │    └─ReLU: 3-28                   [128, 256, 12, 12]        --\n",
      "├─Sequential: 1-6                        [128, 512, 6, 6]          --\n",
      "│    └─Bottleneck: 2-4                   [128, 512, 6, 6]          --\n",
      "│    │    └─Conv2d: 3-29                 [128, 128, 12, 12]        32,768\n",
      "│    │    └─BatchNorm2d: 3-30            [128, 128, 12, 12]        256\n",
      "│    │    └─ReLU: 3-31                   [128, 128, 12, 12]        --\n",
      "│    │    └─Conv2d: 3-32                 [128, 128, 6, 6]          147,456\n",
      "│    │    └─BatchNorm2d: 3-33            [128, 128, 6, 6]          256\n",
      "│    │    └─ReLU: 3-34                   [128, 128, 6, 6]          --\n",
      "│    │    └─Conv2d: 3-35                 [128, 512, 6, 6]          65,536\n",
      "│    │    └─BatchNorm2d: 3-36            [128, 512, 6, 6]          1,024\n",
      "│    │    └─Sequential: 3-37             [128, 512, 6, 6]          132,096\n",
      "│    │    └─ReLU: 3-38                   [128, 512, 6, 6]          --\n",
      "│    └─Bottleneck: 2-5                   [128, 512, 6, 6]          --\n",
      "│    │    └─Conv2d: 3-39                 [128, 128, 6, 6]          65,536\n",
      "│    │    └─BatchNorm2d: 3-40            [128, 128, 6, 6]          256\n",
      "│    │    └─ReLU: 3-41                   [128, 128, 6, 6]          --\n",
      "│    │    └─Conv2d: 3-42                 [128, 128, 6, 6]          147,456\n",
      "│    │    └─BatchNorm2d: 3-43            [128, 128, 6, 6]          256\n",
      "│    │    └─ReLU: 3-44                   [128, 128, 6, 6]          --\n",
      "│    │    └─Conv2d: 3-45                 [128, 512, 6, 6]          65,536\n",
      "│    │    └─BatchNorm2d: 3-46            [128, 512, 6, 6]          1,024\n",
      "│    │    └─ReLU: 3-47                   [128, 512, 6, 6]          --\n",
      "│    └─Bottleneck: 2-6                   [128, 512, 6, 6]          --\n",
      "│    │    └─Conv2d: 3-48                 [128, 128, 6, 6]          65,536\n",
      "│    │    └─BatchNorm2d: 3-49            [128, 128, 6, 6]          256\n",
      "│    │    └─ReLU: 3-50                   [128, 128, 6, 6]          --\n",
      "│    │    └─Conv2d: 3-51                 [128, 128, 6, 6]          147,456\n",
      "│    │    └─BatchNorm2d: 3-52            [128, 128, 6, 6]          256\n",
      "│    │    └─ReLU: 3-53                   [128, 128, 6, 6]          --\n",
      "│    │    └─Conv2d: 3-54                 [128, 512, 6, 6]          65,536\n",
      "│    │    └─BatchNorm2d: 3-55            [128, 512, 6, 6]          1,024\n",
      "│    │    └─ReLU: 3-56                   [128, 512, 6, 6]          --\n",
      "│    └─Bottleneck: 2-7                   [128, 512, 6, 6]          --\n",
      "│    │    └─Conv2d: 3-57                 [128, 128, 6, 6]          65,536\n",
      "│    │    └─BatchNorm2d: 3-58            [128, 128, 6, 6]          256\n",
      "│    │    └─ReLU: 3-59                   [128, 128, 6, 6]          --\n",
      "│    │    └─Conv2d: 3-60                 [128, 128, 6, 6]          147,456\n",
      "│    │    └─BatchNorm2d: 3-61            [128, 128, 6, 6]          256\n",
      "│    │    └─ReLU: 3-62                   [128, 128, 6, 6]          --\n",
      "│    │    └─Conv2d: 3-63                 [128, 512, 6, 6]          65,536\n",
      "│    │    └─BatchNorm2d: 3-64            [128, 512, 6, 6]          1,024\n",
      "│    │    └─ReLU: 3-65                   [128, 512, 6, 6]          --\n",
      "├─Sequential: 1-7                        [128, 1024, 3, 3]         --\n",
      "│    └─Bottleneck: 2-8                   [128, 1024, 3, 3]         --\n",
      "│    │    └─Conv2d: 3-66                 [128, 256, 6, 6]          131,072\n",
      "│    │    └─BatchNorm2d: 3-67            [128, 256, 6, 6]          512\n",
      "│    │    └─ReLU: 3-68                   [128, 256, 6, 6]          --\n",
      "│    │    └─Conv2d: 3-69                 [128, 256, 3, 3]          589,824\n",
      "│    │    └─BatchNorm2d: 3-70            [128, 256, 3, 3]          512\n",
      "│    │    └─ReLU: 3-71                   [128, 256, 3, 3]          --\n",
      "│    │    └─Conv2d: 3-72                 [128, 1024, 3, 3]         262,144\n",
      "│    │    └─BatchNorm2d: 3-73            [128, 1024, 3, 3]         2,048\n",
      "│    │    └─Sequential: 3-74             [128, 1024, 3, 3]         526,336\n",
      "│    │    └─ReLU: 3-75                   [128, 1024, 3, 3]         --\n",
      "│    └─Bottleneck: 2-9                   [128, 1024, 3, 3]         --\n",
      "│    │    └─Conv2d: 3-76                 [128, 256, 3, 3]          262,144\n",
      "│    │    └─BatchNorm2d: 3-77            [128, 256, 3, 3]          512\n",
      "│    │    └─ReLU: 3-78                   [128, 256, 3, 3]          --\n",
      "│    │    └─Conv2d: 3-79                 [128, 256, 3, 3]          589,824\n",
      "│    │    └─BatchNorm2d: 3-80            [128, 256, 3, 3]          512\n",
      "│    │    └─ReLU: 3-81                   [128, 256, 3, 3]          --\n",
      "│    │    └─Conv2d: 3-82                 [128, 1024, 3, 3]         262,144\n",
      "│    │    └─BatchNorm2d: 3-83            [128, 1024, 3, 3]         2,048\n",
      "│    │    └─ReLU: 3-84                   [128, 1024, 3, 3]         --\n",
      "│    └─Bottleneck: 2-10                  [128, 1024, 3, 3]         --\n",
      "│    │    └─Conv2d: 3-85                 [128, 256, 3, 3]          262,144\n",
      "│    │    └─BatchNorm2d: 3-86            [128, 256, 3, 3]          512\n",
      "│    │    └─ReLU: 3-87                   [128, 256, 3, 3]          --\n",
      "│    │    └─Conv2d: 3-88                 [128, 256, 3, 3]          589,824\n",
      "│    │    └─BatchNorm2d: 3-89            [128, 256, 3, 3]          512\n",
      "│    │    └─ReLU: 3-90                   [128, 256, 3, 3]          --\n",
      "│    │    └─Conv2d: 3-91                 [128, 1024, 3, 3]         262,144\n",
      "│    │    └─BatchNorm2d: 3-92            [128, 1024, 3, 3]         2,048\n",
      "│    │    └─ReLU: 3-93                   [128, 1024, 3, 3]         --\n",
      "│    └─Bottleneck: 2-11                  [128, 1024, 3, 3]         --\n",
      "│    │    └─Conv2d: 3-94                 [128, 256, 3, 3]          262,144\n",
      "│    │    └─BatchNorm2d: 3-95            [128, 256, 3, 3]          512\n",
      "│    │    └─ReLU: 3-96                   [128, 256, 3, 3]          --\n",
      "│    │    └─Conv2d: 3-97                 [128, 256, 3, 3]          589,824\n",
      "│    │    └─BatchNorm2d: 3-98            [128, 256, 3, 3]          512\n",
      "│    │    └─ReLU: 3-99                   [128, 256, 3, 3]          --\n",
      "│    │    └─Conv2d: 3-100                [128, 1024, 3, 3]         262,144\n",
      "│    │    └─BatchNorm2d: 3-101           [128, 1024, 3, 3]         2,048\n",
      "│    │    └─ReLU: 3-102                  [128, 1024, 3, 3]         --\n",
      "│    └─Bottleneck: 2-12                  [128, 1024, 3, 3]         --\n",
      "│    │    └─Conv2d: 3-103                [128, 256, 3, 3]          262,144\n",
      "│    │    └─BatchNorm2d: 3-104           [128, 256, 3, 3]          512\n",
      "│    │    └─ReLU: 3-105                  [128, 256, 3, 3]          --\n",
      "│    │    └─Conv2d: 3-106                [128, 256, 3, 3]          589,824\n",
      "│    │    └─BatchNorm2d: 3-107           [128, 256, 3, 3]          512\n",
      "│    │    └─ReLU: 3-108                  [128, 256, 3, 3]          --\n",
      "│    │    └─Conv2d: 3-109                [128, 1024, 3, 3]         262,144\n",
      "│    │    └─BatchNorm2d: 3-110           [128, 1024, 3, 3]         2,048\n",
      "│    │    └─ReLU: 3-111                  [128, 1024, 3, 3]         --\n",
      "│    └─Bottleneck: 2-13                  [128, 1024, 3, 3]         --\n",
      "│    │    └─Conv2d: 3-112                [128, 256, 3, 3]          262,144\n",
      "│    │    └─BatchNorm2d: 3-113           [128, 256, 3, 3]          512\n",
      "│    │    └─ReLU: 3-114                  [128, 256, 3, 3]          --\n",
      "│    │    └─Conv2d: 3-115                [128, 256, 3, 3]          589,824\n",
      "│    │    └─BatchNorm2d: 3-116           [128, 256, 3, 3]          512\n",
      "│    │    └─ReLU: 3-117                  [128, 256, 3, 3]          --\n",
      "│    │    └─Conv2d: 3-118                [128, 1024, 3, 3]         262,144\n",
      "│    │    └─BatchNorm2d: 3-119           [128, 1024, 3, 3]         2,048\n",
      "│    │    └─ReLU: 3-120                  [128, 1024, 3, 3]         --\n",
      "├─Sequential: 1-8                        [128, 2048, 2, 2]         --\n",
      "│    └─Bottleneck: 2-14                  [128, 2048, 2, 2]         --\n",
      "│    │    └─Conv2d: 3-121                [128, 512, 3, 3]          524,288\n",
      "│    │    └─BatchNorm2d: 3-122           [128, 512, 3, 3]          1,024\n",
      "│    │    └─ReLU: 3-123                  [128, 512, 3, 3]          --\n",
      "│    │    └─Conv2d: 3-124                [128, 512, 2, 2]          2,359,296\n",
      "│    │    └─BatchNorm2d: 3-125           [128, 512, 2, 2]          1,024\n",
      "│    │    └─ReLU: 3-126                  [128, 512, 2, 2]          --\n",
      "│    │    └─Conv2d: 3-127                [128, 2048, 2, 2]         1,048,576\n",
      "│    │    └─BatchNorm2d: 3-128           [128, 2048, 2, 2]         4,096\n",
      "│    │    └─Sequential: 3-129            [128, 2048, 2, 2]         2,101,248\n",
      "│    │    └─ReLU: 3-130                  [128, 2048, 2, 2]         --\n",
      "│    └─Bottleneck: 2-15                  [128, 2048, 2, 2]         --\n",
      "│    │    └─Conv2d: 3-131                [128, 512, 2, 2]          1,048,576\n",
      "│    │    └─BatchNorm2d: 3-132           [128, 512, 2, 2]          1,024\n",
      "│    │    └─ReLU: 3-133                  [128, 512, 2, 2]          --\n",
      "│    │    └─Conv2d: 3-134                [128, 512, 2, 2]          2,359,296\n",
      "│    │    └─BatchNorm2d: 3-135           [128, 512, 2, 2]          1,024\n",
      "│    │    └─ReLU: 3-136                  [128, 512, 2, 2]          --\n",
      "│    │    └─Conv2d: 3-137                [128, 2048, 2, 2]         1,048,576\n",
      "│    │    └─BatchNorm2d: 3-138           [128, 2048, 2, 2]         4,096\n",
      "│    │    └─ReLU: 3-139                  [128, 2048, 2, 2]         --\n",
      "│    └─Bottleneck: 2-16                  [128, 2048, 2, 2]         --\n",
      "│    │    └─Conv2d: 3-140                [128, 512, 2, 2]          1,048,576\n",
      "│    │    └─BatchNorm2d: 3-141           [128, 512, 2, 2]          1,024\n",
      "│    │    └─ReLU: 3-142                  [128, 512, 2, 2]          --\n",
      "│    │    └─Conv2d: 3-143                [128, 512, 2, 2]          2,359,296\n",
      "│    │    └─BatchNorm2d: 3-144           [128, 512, 2, 2]          1,024\n",
      "│    │    └─ReLU: 3-145                  [128, 512, 2, 2]          --\n",
      "│    │    └─Conv2d: 3-146                [128, 2048, 2, 2]         1,048,576\n",
      "│    │    └─BatchNorm2d: 3-147           [128, 2048, 2, 2]         4,096\n",
      "│    │    └─ReLU: 3-148                  [128, 2048, 2, 2]         --\n",
      "├─AdaptiveAvgPool2d: 1-9                 [128, 2048, 1, 1]         --\n",
      "├─Sequential: 1-10                       [128, 7]                  --\n",
      "│    └─Dropout: 2-17                     [128, 2048]               --\n",
      "│    └─Linear: 2-18                      [128, 7]                  14,343\n",
      "==========================================================================================\n",
      "Total params: 23,522,375\n",
      "Trainable params: 23,522,375\n",
      "Non-trainable params: 0\n",
      "Total mult-adds (G): 27.26\n",
      "==========================================================================================\n",
      "Input size (MB): 3.54\n",
      "Forward/backward pass size (MB): 1083.71\n",
      "Params size (MB): 94.09\n",
      "Estimated Total Size (MB): 1181.34\n",
      "==========================================================================================\n"
     ]
    }
   ],
   "source": [
    "print(summary(resnet50_fer_model, input_size=(BATCH_SIZE, 3, 48, 48), device=device.type))"
   ]
  },
  {
   "cell_type": "markdown",
   "id": "10dc8a14",
   "metadata": {},
   "source": [
    "# Create Train and Test functions"
   ]
  },
  {
   "cell_type": "markdown",
   "id": "edf63633",
   "metadata": {},
   "source": [
    "### Define Train and Test functions"
   ]
  },
  {
   "cell_type": "code",
   "execution_count": 14,
   "id": "2cee4304",
   "metadata": {},
   "outputs": [],
   "source": [
    "def calculate_accuracy(y_pred,y_true):\n",
    "    top_p,top_class = y_pred.topk(1, dim = 1)\n",
    "    equals = top_class == y_true.view(*top_class.shape)\n",
    "    return torch.mean(equals.type(torch.cuda.FloatTensor))"
   ]
  },
  {
   "cell_type": "code",
   "execution_count": 15,
   "id": "4e3b04bf",
   "metadata": {},
   "outputs": [],
   "source": [
    "def train_one_epoch(model, dataloader, criterion, optimizer, device, current_epoch, epochs):\n",
    "    \"\"\"\n",
    "    Train one epoch of the model.\n",
    "\n",
    "    Args:\n",
    "        model (nn.Module): The  model.\n",
    "        dataloader (DataLoader): DataLoader for training data.\n",
    "        device (torch.device): Device to train the model on (CPU/GPU).\n",
    "\n",
    "    Returns:\n",
    "        training_loss (float): Returns epoch_loss / len(dataloader)\n",
    "    \"\"\"\n",
    "    model.train()  # Set model to training mode\n",
    "    epoch_loss = 0.0\n",
    "    epoch_accuracy = 0.0\n",
    "    tk = tqdm(dataloader, desc=\"EPOCH\" + \"[TRAIN]\" + str(current_epoch + 1) + \"/\" + str(epochs))\n",
    "\n",
    "    for t, data in enumerate(tk):\n",
    "        images, labels = data\n",
    "\n",
    "        images = images.to(device)\n",
    "        labels = labels.to(device)\n",
    "\n",
    "        # Zero gradients\n",
    "        optimizer.zero_grad()\n",
    "\n",
    "        # Compute log probabilities from model\n",
    "        logits = model(images)\n",
    "        loss = criterion(logits, labels)\n",
    "\n",
    "        # Backpropagation\n",
    "        loss.backward()\n",
    "\n",
    "        # Update model parameters\n",
    "        optimizer.step()\n",
    "\n",
    "        # Accumulate loss for logging; Total loss\n",
    "        epoch_loss += loss.item()\n",
    "        \n",
    "        epoch_accuracy += calculate_accuracy(logits, labels)\n",
    "\n",
    "        # Print/log training loss and accuracy for this epoch\n",
    "        tk.set_postfix({\n",
    "            'loss': '%6f' % float(epoch_loss / (t + 1)), \n",
    "            'acc': '%6f' % float(epoch_accuracy / (t + 1))\n",
    "        })\n",
    "\n",
    "    return epoch_loss / len(dataloader), epoch_accuracy / len(dataloader)"
   ]
  },
  {
   "cell_type": "code",
   "execution_count": 16,
   "id": "7824849d",
   "metadata": {},
   "outputs": [],
   "source": [
    "def test_one_epoch(model, dataloader, criterion, device, current_epoch, epochs):\n",
    "    \"\"\"\n",
    "    Test one epoch of the model\n",
    "\n",
    "    Args:\n",
    "        model (nn.Module): The model.\n",
    "        dataloader (DataLoader): DataLoader for training data.\n",
    "        learning_rate (float): Learning rate for optimizer.\n",
    "        device (torch.device): Device to train the model on (CPU/GPU).\n",
    "\n",
    "    Returns:\n",
    "        training_loss (float): Returns epoch_loss / len(dataloader)\n",
    "        \n",
    "        running_acc (float): Returns epoch accuracy\n",
    "    \"\"\"\n",
    "    model.eval()  # Set model to evaluation mode\n",
    "    epoch_loss = 0.0\n",
    "    epoch_accuracy = 0.0\n",
    "    tk = tqdm(dataloader, desc=\"EPOCH\" + \"[VALID]\" + str(current_epoch + 1) + \"/\" + str(epochs))\n",
    "\n",
    "    correct = 0\n",
    "    total = 0\n",
    "    with torch.no_grad():  # Disable gradient calculation for testing\n",
    "        for t, data in enumerate(tk):          \n",
    "            images, labels = data\n",
    "\n",
    "            images = images.to(device)\n",
    "            labels = labels.to(device)\n",
    "\n",
    "            # Compute log probabilities from model\n",
    "            logits = model(images)\n",
    "            preds = torch.argmax(logits, dim=1)\n",
    "            correct += (preds == labels).sum().item()\n",
    "            total += images.size(0)            \n",
    "\n",
    "            # Compute CTC loss\n",
    "            loss = criterion(logits, labels)\n",
    "\n",
    "            # Accumulate loss for logging; Total loss\n",
    "            epoch_loss += loss.item()\n",
    "            \n",
    "            epoch_accuracy += calculate_accuracy(logits, labels)\n",
    "            \n",
    "\n",
    "            tk.set_postfix({\n",
    "                'loss': '%6f' % float(epoch_loss / (t + 1)), \n",
    "                'acc': '%6f' % float(epoch_accuracy / (t + 1))\n",
    "            })\n",
    "\n",
    "    return epoch_loss / len(dataloader), epoch_accuracy / len(dataloader)"
   ]
  },
  {
   "cell_type": "code",
   "execution_count": 17,
   "id": "81b39d28",
   "metadata": {},
   "outputs": [],
   "source": [
    "def train_and_validate_model(model, training_dataloader, testing_dataloader, epochs, learning_rate, device):\n",
    "    \"\"\"\n",
    "    Train and Test the speech recognition model using CTC loss.\n",
    "\n",
    "    Args:\n",
    "        model (nn.Module): The model.\n",
    "        training_dataloader (DataLoader): DataLoader for training data.\n",
    "        testing_dataloader (DataLoader): DataLoader for testing data.\n",
    "        epochs (int): Number of training epochs.\n",
    "        learning_rate (float): Learning rate for optimizer.\n",
    "        device (torch.device): Device to train the model on (CPU/GPU).\n",
    "    \"\"\"\n",
    "    # Define Loss function\n",
    "    criterion = nn.CrossEntropyLoss()\n",
    "    optimizer = optim.SGD(model.parameters(), lr=learning_rate)\n",
    "\n",
    "    scheduler = torch.optim.lr_scheduler.ReduceLROnPlateau(optimizer, mode='min', patience=2, factor=0.1)\n",
    "\n",
    "    # Move model to device\n",
    "    model.to(device)\n",
    "\n",
    "    best_valid_loss = np.inf\n",
    "    patience_counter = 0   # Tracks the number of epochs without improvement\n",
    "    early_stop = False # Flag to indicate whether to stop training\n",
    "    save_weights_patience = 3\n",
    "\n",
    "    # Dictionary to store loss and accuracy values over epochs\n",
    "    history_metrics = {\n",
    "        'training_loss': [],\n",
    "        'training_accuracy': [],\n",
    "        'validation_loss': [],\n",
    "        'validation_accuracy': []\n",
    "    }\n",
    "\n",
    "    for epoch in range(epochs):\n",
    "        if early_stop:\n",
    "            print(\"Early stopping triggered. Stopping training.\")\n",
    "            break\n",
    "\n",
    "        print(f\"Epoch {epoch + 1}, LR: {scheduler.optimizer.param_groups[0]['lr']}\")\n",
    "\n",
    "        # Training step\n",
    "        train_loss, train_accuracy = train_one_epoch(model, training_dataloader, criterion, optimizer, device, epoch, epochs)\n",
    "        \n",
    "        # Testing step\n",
    "        valid_loss, valid_accuracy = test_one_epoch(model, testing_dataloader, criterion, device, epoch, epochs) \n",
    "\n",
    "        history_metrics['training_loss'].append(train_loss)\n",
    "        history_metrics['validation_loss'].append(valid_loss)\n",
    "        history_metrics['training_accuracy'].append(train_accuracy)\n",
    "        history_metrics['validation_accuracy'].append(valid_accuracy)\n",
    "\n",
    "        # Update the learning rate based on validation loss and print\n",
    "        scheduler.step(valid_loss)\n",
    "\n",
    "        if valid_loss < best_valid_loss:\n",
    "            torch.save(model.state_dict(), 'weights/RESNET50_model_with_fer2013_weights.pt')\n",
    "            print(\"SAVED-BEST-WEIGHTS!\")\n",
    "            best_valid_loss = valid_loss\n",
    "            patience_counter = 0 # Reset early stopping\n",
    "        else:\n",
    "            patience_counter += 1\n",
    "            print(f\"No improvement in validation loss for {patience_counter} epoch(s).\")\n",
    "\n",
    "        if patience_counter >= save_weights_patience:\n",
    "            print(\"Patience exceeded. Early stopping at epoch \" +str(epoch + 1))\n",
    "            early_stop = True\n",
    "            \n",
    "        \n",
    "    print(\"\")\n",
    "    return history_metrics"
   ]
  },
  {
   "cell_type": "markdown",
   "id": "e0cf1b19",
   "metadata": {},
   "source": [
    "### Run train functions"
   ]
  },
  {
   "cell_type": "code",
   "execution_count": 17,
   "id": "1f103698",
   "metadata": {},
   "outputs": [],
   "source": [
    "time1 = datetime.now()"
   ]
  },
  {
   "cell_type": "code",
   "execution_count": 18,
   "id": "e820802d",
   "metadata": {},
   "outputs": [
    {
     "name": "stdout",
     "output_type": "stream",
     "text": [
      "Epoch 1, LR: 0.001\n"
     ]
    },
    {
     "name": "stderr",
     "output_type": "stream",
     "text": [
      "EPOCH[TRAIN]1/100: 100%|██████████| 225/225 [03:40<00:00,  1.02it/s, loss=1.923978, acc=0.188164]\n",
      "EPOCH[VALID]1/100: 100%|██████████| 57/57 [00:19<00:00,  2.92it/s, loss=1.886772, acc=0.220477]\n"
     ]
    },
    {
     "name": "stdout",
     "output_type": "stream",
     "text": [
      "SAVED-BEST-WEIGHTS!\n",
      "Epoch 2, LR: 0.001\n"
     ]
    },
    {
     "name": "stderr",
     "output_type": "stream",
     "text": [
      "EPOCH[TRAIN]2/100: 100%|██████████| 225/225 [01:19<00:00,  2.84it/s, loss=1.868253, acc=0.224323]\n",
      "EPOCH[VALID]2/100: 100%|██████████| 57/57 [00:04<00:00, 11.87it/s, loss=1.832163, acc=0.245422]\n"
     ]
    },
    {
     "name": "stdout",
     "output_type": "stream",
     "text": [
      "SAVED-BEST-WEIGHTS!\n",
      "Epoch 3, LR: 0.001\n"
     ]
    },
    {
     "name": "stderr",
     "output_type": "stream",
     "text": [
      "EPOCH[TRAIN]3/100: 100%|██████████| 225/225 [01:18<00:00,  2.85it/s, loss=1.830810, acc=0.246639]\n",
      "EPOCH[VALID]3/100: 100%|██████████| 57/57 [00:04<00:00, 12.99it/s, loss=1.794433, acc=0.270504]\n"
     ]
    },
    {
     "name": "stdout",
     "output_type": "stream",
     "text": [
      "SAVED-BEST-WEIGHTS!\n",
      "Epoch 4, LR: 0.001\n"
     ]
    },
    {
     "name": "stderr",
     "output_type": "stream",
     "text": [
      "EPOCH[TRAIN]4/100: 100%|██████████| 225/225 [01:19<00:00,  2.84it/s, loss=1.800389, acc=0.258688]\n",
      "EPOCH[VALID]4/100: 100%|██████████| 57/57 [00:04<00:00, 12.64it/s, loss=1.770551, acc=0.284704]\n"
     ]
    },
    {
     "name": "stdout",
     "output_type": "stream",
     "text": [
      "SAVED-BEST-WEIGHTS!\n",
      "Epoch 5, LR: 0.001\n"
     ]
    },
    {
     "name": "stderr",
     "output_type": "stream",
     "text": [
      "EPOCH[TRAIN]5/100: 100%|██████████| 225/225 [01:24<00:00,  2.65it/s, loss=1.776322, acc=0.274756]\n",
      "EPOCH[VALID]5/100: 100%|██████████| 57/57 [00:04<00:00, 12.55it/s, loss=1.745412, acc=0.296135]\n"
     ]
    },
    {
     "name": "stdout",
     "output_type": "stream",
     "text": [
      "SAVED-BEST-WEIGHTS!\n",
      "Epoch 6, LR: 0.001\n"
     ]
    },
    {
     "name": "stderr",
     "output_type": "stream",
     "text": [
      "EPOCH[TRAIN]6/100: 100%|██████████| 225/225 [01:27<00:00,  2.58it/s, loss=1.753474, acc=0.290058]\n",
      "EPOCH[VALID]6/100: 100%|██████████| 57/57 [00:04<00:00, 12.24it/s, loss=1.721222, acc=0.306579]\n"
     ]
    },
    {
     "name": "stdout",
     "output_type": "stream",
     "text": [
      "SAVED-BEST-WEIGHTS!\n",
      "Epoch 7, LR: 0.001\n"
     ]
    },
    {
     "name": "stderr",
     "output_type": "stream",
     "text": [
      "EPOCH[TRAIN]7/100: 100%|██████████| 225/225 [01:14<00:00,  3.00it/s, loss=1.734470, acc=0.302278]\n",
      "EPOCH[VALID]7/100: 100%|██████████| 57/57 [00:04<00:00, 13.52it/s, loss=1.707858, acc=0.311075]\n"
     ]
    },
    {
     "name": "stdout",
     "output_type": "stream",
     "text": [
      "SAVED-BEST-WEIGHTS!\n",
      "Epoch 8, LR: 0.001\n"
     ]
    },
    {
     "name": "stderr",
     "output_type": "stream",
     "text": [
      "EPOCH[TRAIN]8/100: 100%|██████████| 225/225 [01:12<00:00,  3.09it/s, loss=1.717121, acc=0.309305]\n",
      "EPOCH[VALID]8/100: 100%|██████████| 57/57 [00:04<00:00, 13.54it/s, loss=1.675314, acc=0.336321]\n"
     ]
    },
    {
     "name": "stdout",
     "output_type": "stream",
     "text": [
      "SAVED-BEST-WEIGHTS!\n",
      "Epoch 9, LR: 0.001\n"
     ]
    },
    {
     "name": "stderr",
     "output_type": "stream",
     "text": [
      "EPOCH[TRAIN]9/100: 100%|██████████| 225/225 [01:11<00:00,  3.14it/s, loss=1.698920, acc=0.318434]\n",
      "EPOCH[VALID]9/100: 100%|██████████| 57/57 [00:04<00:00, 13.50it/s, loss=1.655551, acc=0.351288]\n"
     ]
    },
    {
     "name": "stdout",
     "output_type": "stream",
     "text": [
      "SAVED-BEST-WEIGHTS!\n",
      "Epoch 10, LR: 0.001\n"
     ]
    },
    {
     "name": "stderr",
     "output_type": "stream",
     "text": [
      "EPOCH[TRAIN]10/100: 100%|██████████| 225/225 [01:13<00:00,  3.05it/s, loss=1.677388, acc=0.337534]\n",
      "EPOCH[VALID]10/100: 100%|██████████| 57/57 [00:04<00:00, 13.55it/s, loss=1.636642, acc=0.363130]\n"
     ]
    },
    {
     "name": "stdout",
     "output_type": "stream",
     "text": [
      "SAVED-BEST-WEIGHTS!\n",
      "Epoch 11, LR: 0.001\n"
     ]
    },
    {
     "name": "stderr",
     "output_type": "stream",
     "text": [
      "EPOCH[TRAIN]11/100: 100%|██████████| 225/225 [01:13<00:00,  3.08it/s, loss=1.655947, acc=0.342619]\n",
      "EPOCH[VALID]11/100: 100%|██████████| 57/57 [00:04<00:00, 13.43it/s, loss=1.607104, acc=0.374342]\n"
     ]
    },
    {
     "name": "stdout",
     "output_type": "stream",
     "text": [
      "SAVED-BEST-WEIGHTS!\n",
      "Epoch 12, LR: 0.001\n"
     ]
    },
    {
     "name": "stderr",
     "output_type": "stream",
     "text": [
      "EPOCH[TRAIN]12/100: 100%|██████████| 225/225 [01:12<00:00,  3.11it/s, loss=1.635146, acc=0.357622]\n",
      "EPOCH[VALID]12/100: 100%|██████████| 57/57 [00:04<00:00, 13.37it/s, loss=1.589503, acc=0.381908]\n"
     ]
    },
    {
     "name": "stdout",
     "output_type": "stream",
     "text": [
      "SAVED-BEST-WEIGHTS!\n",
      "Epoch 13, LR: 0.001\n"
     ]
    },
    {
     "name": "stderr",
     "output_type": "stream",
     "text": [
      "EPOCH[TRAIN]13/100: 100%|██████████| 225/225 [01:11<00:00,  3.13it/s, loss=1.614221, acc=0.365128]\n",
      "EPOCH[VALID]13/100: 100%|██████████| 57/57 [00:04<00:00, 13.60it/s, loss=1.566680, acc=0.394901]\n"
     ]
    },
    {
     "name": "stdout",
     "output_type": "stream",
     "text": [
      "SAVED-BEST-WEIGHTS!\n",
      "Epoch 14, LR: 0.001\n"
     ]
    },
    {
     "name": "stderr",
     "output_type": "stream",
     "text": [
      "EPOCH[TRAIN]14/100: 100%|██████████| 225/225 [01:13<00:00,  3.05it/s, loss=1.596233, acc=0.376543]\n",
      "EPOCH[VALID]14/100: 100%|██████████| 57/57 [00:04<00:00, 13.53it/s, loss=1.557609, acc=0.399452]\n"
     ]
    },
    {
     "name": "stdout",
     "output_type": "stream",
     "text": [
      "SAVED-BEST-WEIGHTS!\n",
      "Epoch 15, LR: 0.001\n"
     ]
    },
    {
     "name": "stderr",
     "output_type": "stream",
     "text": [
      "EPOCH[TRAIN]15/100: 100%|██████████| 225/225 [01:11<00:00,  3.13it/s, loss=1.580886, acc=0.381449]\n",
      "EPOCH[VALID]15/100: 100%|██████████| 57/57 [00:04<00:00, 13.61it/s, loss=1.546404, acc=0.401645]\n"
     ]
    },
    {
     "name": "stdout",
     "output_type": "stream",
     "text": [
      "SAVED-BEST-WEIGHTS!\n",
      "Epoch 16, LR: 0.001\n"
     ]
    },
    {
     "name": "stderr",
     "output_type": "stream",
     "text": [
      "EPOCH[TRAIN]16/100: 100%|██████████| 225/225 [01:13<00:00,  3.08it/s, loss=1.559790, acc=0.393162]\n",
      "EPOCH[VALID]16/100: 100%|██████████| 57/57 [00:04<00:00, 13.49it/s, loss=1.515764, acc=0.423602]\n"
     ]
    },
    {
     "name": "stdout",
     "output_type": "stream",
     "text": [
      "SAVED-BEST-WEIGHTS!\n",
      "Epoch 17, LR: 0.001\n"
     ]
    },
    {
     "name": "stderr",
     "output_type": "stream",
     "text": [
      "EPOCH[TRAIN]17/100: 100%|██████████| 225/225 [01:12<00:00,  3.10it/s, loss=1.545215, acc=0.402203]\n",
      "EPOCH[VALID]17/100: 100%|██████████| 57/57 [00:04<00:00, 13.38it/s, loss=1.505586, acc=0.424287]\n"
     ]
    },
    {
     "name": "stdout",
     "output_type": "stream",
     "text": [
      "SAVED-BEST-WEIGHTS!\n",
      "Epoch 18, LR: 0.001\n"
     ]
    },
    {
     "name": "stderr",
     "output_type": "stream",
     "text": [
      "EPOCH[TRAIN]18/100: 100%|██████████| 225/225 [01:11<00:00,  3.16it/s, loss=1.529478, acc=0.408405]\n",
      "EPOCH[VALID]18/100: 100%|██████████| 57/57 [00:04<00:00, 13.73it/s, loss=1.489239, acc=0.433279]\n"
     ]
    },
    {
     "name": "stdout",
     "output_type": "stream",
     "text": [
      "SAVED-BEST-WEIGHTS!\n",
      "Epoch 19, LR: 0.001\n"
     ]
    },
    {
     "name": "stderr",
     "output_type": "stream",
     "text": [
      "EPOCH[TRAIN]19/100: 100%|██████████| 225/225 [01:11<00:00,  3.14it/s, loss=1.509172, acc=0.418626]\n",
      "EPOCH[VALID]19/100: 100%|██████████| 57/57 [00:04<00:00, 13.61it/s, loss=1.476228, acc=0.439748]\n"
     ]
    },
    {
     "name": "stdout",
     "output_type": "stream",
     "text": [
      "SAVED-BEST-WEIGHTS!\n",
      "Epoch 20, LR: 0.001\n"
     ]
    },
    {
     "name": "stderr",
     "output_type": "stream",
     "text": [
      "EPOCH[TRAIN]20/100: 100%|██████████| 225/225 [01:12<00:00,  3.11it/s, loss=1.491714, acc=0.423020]\n",
      "EPOCH[VALID]20/100: 100%|██████████| 57/57 [00:04<00:00, 13.58it/s, loss=1.462211, acc=0.438213]\n"
     ]
    },
    {
     "name": "stdout",
     "output_type": "stream",
     "text": [
      "SAVED-BEST-WEIGHTS!\n",
      "Epoch 21, LR: 0.001\n"
     ]
    },
    {
     "name": "stderr",
     "output_type": "stream",
     "text": [
      "EPOCH[TRAIN]21/100: 100%|██████████| 225/225 [01:12<00:00,  3.09it/s, loss=1.486654, acc=0.425328]\n",
      "EPOCH[VALID]21/100: 100%|██████████| 57/57 [00:04<00:00, 13.19it/s, loss=1.454485, acc=0.442078]\n"
     ]
    },
    {
     "name": "stdout",
     "output_type": "stream",
     "text": [
      "SAVED-BEST-WEIGHTS!\n",
      "Epoch 22, LR: 0.001\n"
     ]
    },
    {
     "name": "stderr",
     "output_type": "stream",
     "text": [
      "EPOCH[TRAIN]22/100: 100%|██████████| 225/225 [01:13<00:00,  3.07it/s, loss=1.468952, acc=0.434902]\n",
      "EPOCH[VALID]22/100: 100%|██████████| 57/57 [00:04<00:00, 13.64it/s, loss=1.435394, acc=0.452988]\n"
     ]
    },
    {
     "name": "stdout",
     "output_type": "stream",
     "text": [
      "SAVED-BEST-WEIGHTS!\n",
      "Epoch 23, LR: 0.001\n"
     ]
    },
    {
     "name": "stderr",
     "output_type": "stream",
     "text": [
      "EPOCH[TRAIN]23/100: 100%|██████████| 225/225 [01:12<00:00,  3.12it/s, loss=1.457264, acc=0.440653]\n",
      "EPOCH[VALID]23/100: 100%|██████████| 57/57 [00:04<00:00, 13.70it/s, loss=1.425801, acc=0.452577]\n"
     ]
    },
    {
     "name": "stdout",
     "output_type": "stream",
     "text": [
      "SAVED-BEST-WEIGHTS!\n",
      "Epoch 24, LR: 0.001\n"
     ]
    },
    {
     "name": "stderr",
     "output_type": "stream",
     "text": [
      "EPOCH[TRAIN]24/100: 100%|██████████| 225/225 [01:12<00:00,  3.09it/s, loss=1.448977, acc=0.441265]\n",
      "EPOCH[VALID]24/100: 100%|██████████| 57/57 [00:04<00:00, 13.51it/s, loss=1.416774, acc=0.454934]\n"
     ]
    },
    {
     "name": "stdout",
     "output_type": "stream",
     "text": [
      "SAVED-BEST-WEIGHTS!\n",
      "Epoch 25, LR: 0.001\n"
     ]
    },
    {
     "name": "stderr",
     "output_type": "stream",
     "text": [
      "EPOCH[TRAIN]25/100: 100%|██████████| 225/225 [01:13<00:00,  3.08it/s, loss=1.438874, acc=0.445413]\n",
      "EPOCH[VALID]25/100: 100%|██████████| 57/57 [00:04<00:00, 13.36it/s, loss=1.407709, acc=0.462034]\n"
     ]
    },
    {
     "name": "stdout",
     "output_type": "stream",
     "text": [
      "SAVED-BEST-WEIGHTS!\n",
      "Epoch 26, LR: 0.001\n"
     ]
    },
    {
     "name": "stderr",
     "output_type": "stream",
     "text": [
      "EPOCH[TRAIN]26/100: 100%|██████████| 225/225 [01:13<00:00,  3.07it/s, loss=1.428829, acc=0.450239]\n",
      "EPOCH[VALID]26/100: 100%|██████████| 57/57 [00:04<00:00, 13.61it/s, loss=1.397609, acc=0.467626]\n"
     ]
    },
    {
     "name": "stdout",
     "output_type": "stream",
     "text": [
      "SAVED-BEST-WEIGHTS!\n",
      "Epoch 27, LR: 0.001\n"
     ]
    },
    {
     "name": "stderr",
     "output_type": "stream",
     "text": [
      "EPOCH[TRAIN]27/100: 100%|██████████| 225/225 [01:11<00:00,  3.13it/s, loss=1.417579, acc=0.455236]\n",
      "EPOCH[VALID]27/100: 100%|██████████| 57/57 [00:04<00:00, 13.45it/s, loss=1.395955, acc=0.465351]\n"
     ]
    },
    {
     "name": "stdout",
     "output_type": "stream",
     "text": [
      "SAVED-BEST-WEIGHTS!\n",
      "Epoch 28, LR: 0.001\n"
     ]
    },
    {
     "name": "stderr",
     "output_type": "stream",
     "text": [
      "EPOCH[TRAIN]28/100: 100%|██████████| 225/225 [01:13<00:00,  3.08it/s, loss=1.404064, acc=0.462784]\n",
      "EPOCH[VALID]28/100: 100%|██████████| 57/57 [00:04<00:00, 13.50it/s, loss=1.379181, acc=0.475055]\n"
     ]
    },
    {
     "name": "stdout",
     "output_type": "stream",
     "text": [
      "SAVED-BEST-WEIGHTS!\n",
      "Epoch 29, LR: 0.001\n"
     ]
    },
    {
     "name": "stderr",
     "output_type": "stream",
     "text": [
      "EPOCH[TRAIN]29/100: 100%|██████████| 225/225 [01:12<00:00,  3.11it/s, loss=1.397033, acc=0.462923]\n",
      "EPOCH[VALID]29/100: 100%|██████████| 57/57 [00:04<00:00, 13.65it/s, loss=1.375033, acc=0.479715]\n"
     ]
    },
    {
     "name": "stdout",
     "output_type": "stream",
     "text": [
      "SAVED-BEST-WEIGHTS!\n",
      "Epoch 30, LR: 0.001\n"
     ]
    },
    {
     "name": "stderr",
     "output_type": "stream",
     "text": [
      "EPOCH[TRAIN]30/100: 100%|██████████| 225/225 [01:12<00:00,  3.10it/s, loss=1.392934, acc=0.463661]\n",
      "EPOCH[VALID]30/100: 100%|██████████| 57/57 [00:04<00:00, 13.44it/s, loss=1.375975, acc=0.476371]\n"
     ]
    },
    {
     "name": "stdout",
     "output_type": "stream",
     "text": [
      "No improvement in validation loss for 1 epoch(s).\n",
      "Epoch 31, LR: 0.001\n"
     ]
    },
    {
     "name": "stderr",
     "output_type": "stream",
     "text": [
      "EPOCH[TRAIN]31/100: 100%|██████████| 225/225 [01:12<00:00,  3.10it/s, loss=1.380970, acc=0.473599]\n",
      "EPOCH[VALID]31/100: 100%|██████████| 57/57 [00:04<00:00, 13.62it/s, loss=1.361915, acc=0.482209]\n"
     ]
    },
    {
     "name": "stdout",
     "output_type": "stream",
     "text": [
      "SAVED-BEST-WEIGHTS!\n",
      "Epoch 32, LR: 0.001\n"
     ]
    },
    {
     "name": "stderr",
     "output_type": "stream",
     "text": [
      "EPOCH[TRAIN]32/100: 100%|██████████| 225/225 [01:11<00:00,  3.13it/s, loss=1.370806, acc=0.476171]\n",
      "EPOCH[VALID]32/100: 100%|██████████| 57/57 [00:04<00:00, 13.56it/s, loss=1.350625, acc=0.486568]\n"
     ]
    },
    {
     "name": "stdout",
     "output_type": "stream",
     "text": [
      "SAVED-BEST-WEIGHTS!\n",
      "Epoch 33, LR: 0.001\n"
     ]
    },
    {
     "name": "stderr",
     "output_type": "stream",
     "text": [
      "EPOCH[TRAIN]33/100: 100%|██████████| 225/225 [01:12<00:00,  3.09it/s, loss=1.366600, acc=0.473137]\n",
      "EPOCH[VALID]33/100: 100%|██████████| 57/57 [00:04<00:00, 13.45it/s, loss=1.350597, acc=0.486486]\n"
     ]
    },
    {
     "name": "stdout",
     "output_type": "stream",
     "text": [
      "SAVED-BEST-WEIGHTS!\n",
      "Epoch 34, LR: 0.001\n"
     ]
    },
    {
     "name": "stderr",
     "output_type": "stream",
     "text": [
      "EPOCH[TRAIN]34/100: 100%|██████████| 225/225 [01:13<00:00,  3.08it/s, loss=1.355062, acc=0.481262]\n",
      "EPOCH[VALID]34/100: 100%|██████████| 57/57 [00:04<00:00, 13.45it/s, loss=1.337584, acc=0.488925]\n"
     ]
    },
    {
     "name": "stdout",
     "output_type": "stream",
     "text": [
      "SAVED-BEST-WEIGHTS!\n",
      "Epoch 35, LR: 0.001\n"
     ]
    },
    {
     "name": "stderr",
     "output_type": "stream",
     "text": [
      "EPOCH[TRAIN]35/100: 100%|██████████| 225/225 [01:12<00:00,  3.09it/s, loss=1.347265, acc=0.484283]\n",
      "EPOCH[VALID]35/100: 100%|██████████| 57/57 [00:04<00:00, 13.55it/s, loss=1.343343, acc=0.487034]\n"
     ]
    },
    {
     "name": "stdout",
     "output_type": "stream",
     "text": [
      "No improvement in validation loss for 1 epoch(s).\n",
      "Epoch 36, LR: 0.001\n"
     ]
    },
    {
     "name": "stderr",
     "output_type": "stream",
     "text": [
      "EPOCH[TRAIN]36/100: 100%|██████████| 225/225 [01:12<00:00,  3.12it/s, loss=1.342768, acc=0.487752]\n",
      "EPOCH[VALID]36/100: 100%|██████████| 57/57 [00:04<00:00, 13.35it/s, loss=1.325271, acc=0.491118]\n"
     ]
    },
    {
     "name": "stdout",
     "output_type": "stream",
     "text": [
      "SAVED-BEST-WEIGHTS!\n",
      "Epoch 37, LR: 0.001\n"
     ]
    },
    {
     "name": "stderr",
     "output_type": "stream",
     "text": [
      "EPOCH[TRAIN]37/100: 100%|██████████| 225/225 [01:12<00:00,  3.10it/s, loss=1.337728, acc=0.490859]\n",
      "EPOCH[VALID]37/100: 100%|██████████| 57/57 [00:04<00:00, 13.38it/s, loss=1.317374, acc=0.495203]\n"
     ]
    },
    {
     "name": "stdout",
     "output_type": "stream",
     "text": [
      "SAVED-BEST-WEIGHTS!\n",
      "Epoch 38, LR: 0.001\n"
     ]
    },
    {
     "name": "stderr",
     "output_type": "stream",
     "text": [
      "EPOCH[TRAIN]38/100: 100%|██████████| 225/225 [01:13<00:00,  3.08it/s, loss=1.328122, acc=0.488298]\n",
      "EPOCH[VALID]38/100: 100%|██████████| 57/57 [00:04<00:00, 13.44it/s, loss=1.319942, acc=0.498109]\n"
     ]
    },
    {
     "name": "stdout",
     "output_type": "stream",
     "text": [
      "No improvement in validation loss for 1 epoch(s).\n",
      "Epoch 39, LR: 0.001\n"
     ]
    },
    {
     "name": "stderr",
     "output_type": "stream",
     "text": [
      "EPOCH[TRAIN]39/100: 100%|██████████| 225/225 [01:13<00:00,  3.07it/s, loss=1.322432, acc=0.493848]\n",
      "EPOCH[VALID]39/100: 100%|██████████| 57/57 [00:04<00:00, 13.27it/s, loss=1.300742, acc=0.501590]\n"
     ]
    },
    {
     "name": "stdout",
     "output_type": "stream",
     "text": [
      "SAVED-BEST-WEIGHTS!\n",
      "Epoch 40, LR: 0.001\n"
     ]
    },
    {
     "name": "stderr",
     "output_type": "stream",
     "text": [
      "EPOCH[TRAIN]40/100: 100%|██████████| 225/225 [01:12<00:00,  3.09it/s, loss=1.314999, acc=0.497841]\n",
      "EPOCH[VALID]40/100: 100%|██████████| 57/57 [00:04<00:00, 13.42it/s, loss=1.295347, acc=0.506414]\n"
     ]
    },
    {
     "name": "stdout",
     "output_type": "stream",
     "text": [
      "SAVED-BEST-WEIGHTS!\n",
      "Epoch 41, LR: 0.001\n"
     ]
    },
    {
     "name": "stderr",
     "output_type": "stream",
     "text": [
      "EPOCH[TRAIN]41/100: 100%|██████████| 225/225 [01:12<00:00,  3.10it/s, loss=1.303019, acc=0.501999]\n",
      "EPOCH[VALID]41/100: 100%|██████████| 57/57 [00:04<00:00, 13.52it/s, loss=1.285952, acc=0.515104]\n"
     ]
    },
    {
     "name": "stdout",
     "output_type": "stream",
     "text": [
      "SAVED-BEST-WEIGHTS!\n",
      "Epoch 42, LR: 0.001\n"
     ]
    },
    {
     "name": "stderr",
     "output_type": "stream",
     "text": [
      "EPOCH[TRAIN]42/100: 100%|██████████| 225/225 [01:13<00:00,  3.08it/s, loss=1.305789, acc=0.499993]\n",
      "EPOCH[VALID]42/100: 100%|██████████| 57/57 [00:04<00:00, 13.35it/s, loss=1.289204, acc=0.507812]\n"
     ]
    },
    {
     "name": "stdout",
     "output_type": "stream",
     "text": [
      "No improvement in validation loss for 1 epoch(s).\n",
      "Epoch 43, LR: 0.001\n"
     ]
    },
    {
     "name": "stderr",
     "output_type": "stream",
     "text": [
      "EPOCH[TRAIN]43/100: 100%|██████████| 225/225 [01:12<00:00,  3.10it/s, loss=1.302999, acc=0.503490]\n",
      "EPOCH[VALID]43/100: 100%|██████████| 57/57 [00:04<00:00, 13.52it/s, loss=1.287339, acc=0.511650]\n"
     ]
    },
    {
     "name": "stdout",
     "output_type": "stream",
     "text": [
      "No improvement in validation loss for 2 epoch(s).\n",
      "Epoch 44, LR: 0.001\n"
     ]
    },
    {
     "name": "stderr",
     "output_type": "stream",
     "text": [
      "EPOCH[TRAIN]44/100: 100%|██████████| 225/225 [01:12<00:00,  3.11it/s, loss=1.294224, acc=0.503757]\n",
      "EPOCH[VALID]44/100: 100%|██████████| 57/57 [00:04<00:00, 13.52it/s, loss=1.281681, acc=0.512610]\n"
     ]
    },
    {
     "name": "stdout",
     "output_type": "stream",
     "text": [
      "SAVED-BEST-WEIGHTS!\n",
      "Epoch 45, LR: 0.001\n"
     ]
    },
    {
     "name": "stderr",
     "output_type": "stream",
     "text": [
      "EPOCH[TRAIN]45/100: 100%|██████████| 225/225 [01:14<00:00,  3.04it/s, loss=1.287481, acc=0.507077]\n",
      "EPOCH[VALID]45/100: 100%|██████████| 57/57 [00:04<00:00, 13.29it/s, loss=1.272552, acc=0.517133]\n"
     ]
    },
    {
     "name": "stdout",
     "output_type": "stream",
     "text": [
      "SAVED-BEST-WEIGHTS!\n",
      "Epoch 46, LR: 0.001\n"
     ]
    },
    {
     "name": "stderr",
     "output_type": "stream",
     "text": [
      "EPOCH[TRAIN]46/100: 100%|██████████| 225/225 [01:12<00:00,  3.10it/s, loss=1.281846, acc=0.509916]\n",
      "EPOCH[VALID]46/100: 100%|██████████| 57/57 [00:04<00:00, 13.40it/s, loss=1.272060, acc=0.515899]\n"
     ]
    },
    {
     "name": "stdout",
     "output_type": "stream",
     "text": [
      "SAVED-BEST-WEIGHTS!\n",
      "Epoch 47, LR: 0.001\n"
     ]
    },
    {
     "name": "stderr",
     "output_type": "stream",
     "text": [
      "EPOCH[TRAIN]47/100: 100%|██████████| 225/225 [01:13<00:00,  3.06it/s, loss=1.270116, acc=0.514256]\n",
      "EPOCH[VALID]47/100: 100%|██████████| 57/57 [00:04<00:00, 12.42it/s, loss=1.267634, acc=0.513761]\n"
     ]
    },
    {
     "name": "stdout",
     "output_type": "stream",
     "text": [
      "SAVED-BEST-WEIGHTS!\n",
      "Epoch 48, LR: 0.001\n"
     ]
    },
    {
     "name": "stderr",
     "output_type": "stream",
     "text": [
      "EPOCH[TRAIN]48/100: 100%|██████████| 225/225 [01:12<00:00,  3.11it/s, loss=1.270972, acc=0.514713]\n",
      "EPOCH[VALID]48/100: 100%|██████████| 57/57 [00:04<00:00, 12.99it/s, loss=1.255251, acc=0.524041]\n"
     ]
    },
    {
     "name": "stdout",
     "output_type": "stream",
     "text": [
      "SAVED-BEST-WEIGHTS!\n",
      "Epoch 49, LR: 0.001\n"
     ]
    },
    {
     "name": "stderr",
     "output_type": "stream",
     "text": [
      "EPOCH[TRAIN]49/100: 100%|██████████| 225/225 [01:13<00:00,  3.04it/s, loss=1.266361, acc=0.519309]\n",
      "EPOCH[VALID]49/100: 100%|██████████| 57/57 [00:04<00:00, 13.42it/s, loss=1.256858, acc=0.521382]\n"
     ]
    },
    {
     "name": "stdout",
     "output_type": "stream",
     "text": [
      "No improvement in validation loss for 1 epoch(s).\n",
      "Epoch 50, LR: 0.001\n"
     ]
    },
    {
     "name": "stderr",
     "output_type": "stream",
     "text": [
      "EPOCH[TRAIN]50/100: 100%|██████████| 225/225 [01:13<00:00,  3.07it/s, loss=1.257823, acc=0.515231]\n",
      "EPOCH[VALID]50/100: 100%|██████████| 57/57 [00:04<00:00, 13.51it/s, loss=1.260105, acc=0.517873]\n"
     ]
    },
    {
     "name": "stdout",
     "output_type": "stream",
     "text": [
      "No improvement in validation loss for 2 epoch(s).\n",
      "Epoch 51, LR: 0.001\n"
     ]
    },
    {
     "name": "stderr",
     "output_type": "stream",
     "text": [
      "EPOCH[TRAIN]51/100: 100%|██████████| 225/225 [01:12<00:00,  3.11it/s, loss=1.256725, acc=0.520984]\n",
      "EPOCH[VALID]51/100: 100%|██████████| 57/57 [00:04<00:00, 13.40it/s, loss=1.257031, acc=0.520779]"
     ]
    },
    {
     "name": "stdout",
     "output_type": "stream",
     "text": [
      "No improvement in validation loss for 3 epoch(s).\n",
      "Patience exceeded. Early stopping at epoch 51\n",
      "Early stopping triggered. Stopping training.\n",
      "\n"
     ]
    },
    {
     "name": "stderr",
     "output_type": "stream",
     "text": [
      "\n"
     ]
    }
   ],
   "source": [
    "# Train the model:\n",
    "resnet_model_losses = train_and_validate_model(resnet50_fer_model, training_loader, test_loader, epochs=100, learning_rate=0.001, device=device)"
   ]
  },
  {
   "cell_type": "markdown",
   "id": "496a7c3b",
   "metadata": {},
   "source": [
    "> TRained for about 50 + 14 epochs"
   ]
  },
  {
   "cell_type": "code",
   "execution_count": 19,
   "id": "5d7e622a",
   "metadata": {},
   "outputs": [
    {
     "name": "stdout",
     "output_type": "stream",
     "text": [
      "Training time:  1:09:02.470153\n"
     ]
    }
   ],
   "source": [
    "time2 = datetime.now()\n",
    "print(\"Training time: \", time2 - time1)"
   ]
  },
  {
   "cell_type": "code",
   "execution_count": 23,
   "id": "a6722ee0",
   "metadata": {},
   "outputs": [
    {
     "name": "stdout",
     "output_type": "stream",
     "text": [
      "Losses and accuracy saved\n"
     ]
    }
   ],
   "source": [
    "# Prepare the data\n",
    "data = {\n",
    "    \"Epoch\": list(range(1, len(resnet_model_losses['training_loss']) + 1)),\n",
    "    \"Training Loss\": resnet_model_losses['training_loss'],\n",
    "    \"Validation Loss\": resnet_model_losses['validation_loss'],\n",
    "    \"Training Accuracy\": [acc.cpu().item() for acc in resnet_model_losses['training_accuracy']],\n",
    "    \"Validation Accuracy\": [acc.cpu().item() for acc in resnet_model_losses['validation_accuracy']]\n",
    "}\n",
    "\n",
    "# Create a DataFrame\n",
    "df = pd.DataFrame(data)\n",
    "\n",
    "# Save to CSV\n",
    "df.to_csv(\"stats/resnet50_model_stats_001_100 epochs.csv\", index=False)\n",
    "print(\"Losses and accuracy saved\")"
   ]
  },
  {
   "cell_type": "markdown",
   "id": "e318b5b5",
   "metadata": {},
   "source": [
    "# Test Model Accuracy on Out of Distribution Data set (Manga Faces)"
   ]
  },
  {
   "cell_type": "code",
   "execution_count": 18,
   "id": "8d39f44a",
   "metadata": {},
   "outputs": [],
   "source": [
    "def test_out_of_distribution(model, testing_dataloader, epochs, device):\n",
    "    \"\"\"\n",
    "    Train and Test the speech recognition model using CTC loss.\n",
    "\n",
    "    Args:\n",
    "        model (nn.Module): The model.\n",
    "        training_dataloader (DataLoader): DataLoader for training data.\n",
    "        testing_dataloader (DataLoader): DataLoader for testing data.\n",
    "        epochs (int): Number of training epochs.\n",
    "        learning_rate (float): Learning rate for optimizer.\n",
    "        device (torch.device): Device to train the model on (CPU/GPU).\n",
    "    \"\"\"\n",
    "    # Define Loss function\n",
    "    criterion = nn.CrossEntropyLoss()\n",
    "    \n",
    "    # Move model to device\n",
    "    model.to(device)\n",
    "\n",
    "    # Dictionary to store loss and accuracy values over epochs\n",
    "    history_metrics = {\n",
    "        'validation_loss': [],\n",
    "        'validation_accuracy': []\n",
    "    }\n",
    "\n",
    "    for epoch in range(epochs):\n",
    "        print(f\"Epoch {epoch + 1}\")\n",
    "        \n",
    "        # Testing step\n",
    "        valid_loss, valid_accuracy = test_one_epoch(model, testing_dataloader, criterion, device, epoch, epochs) \n",
    "        \n",
    "        history_metrics['validation_loss'].append(valid_loss)\n",
    "        history_metrics['validation_accuracy'].append(valid_accuracy)\n",
    "                \n",
    "    print(\"\")\n",
    "    return history_metrics"
   ]
  },
  {
   "cell_type": "code",
   "execution_count": 19,
   "id": "ca2450a9",
   "metadata": {},
   "outputs": [
    {
     "data": {
      "text/plain": [
       "<All keys matched successfully>"
      ]
     },
     "execution_count": 19,
     "metadata": {},
     "output_type": "execute_result"
    }
   ],
   "source": [
    "resnet50_fer_model = models.resnet50(weights=models.ResNet50_Weights.DEFAULT)\n",
    "resnet50_fer_model.fc = nn.Sequential(\n",
    "    nn.Dropout(params[\"dropout_rate\"]),\n",
    "    nn.Linear(resnet50_fer_model.fc.in_features, params[\"num_classes\"])\n",
    ")\n",
    "resnet50_fer_model = resnet50_fer_model.to(device)\n",
    "resnet50_fer_model.load_state_dict(torch.load('weights/RESNET50_model_with_fer2013_weights.pt', weights_only=True))"
   ]
  },
  {
   "cell_type": "markdown",
   "id": "d47282a0",
   "metadata": {},
   "source": [
    "## Import MangaFaces Dataset"
   ]
  },
  {
   "cell_type": "code",
   "execution_count": 20,
   "id": "5acd7e5e",
   "metadata": {},
   "outputs": [],
   "source": [
    "# Train set\n",
    "manga_faces_train_dir = Path(os.getcwd(), 'datasets', 'manga', 'train')\n",
    "manga_faces_train_images = ImageFolder(root=manga_faces_train_dir, transform=train_transforms)\n",
    "manga_faces_train_images_loader = DataLoader(manga_faces_train_images, batch_size=BATCH_SIZE, shuffle=True)\n",
    "\n",
    "# Test Set\n",
    "manga_faces_test_dir = Path(os.getcwd(), 'datasets', 'manga', 'test')\n",
    "manga_faces_test_images = ImageFolder(root=manga_faces_test_dir, transform=val_transforms)\n",
    "manga_faces_test_images_loader = DataLoader(manga_faces_test_images, batch_size=BATCH_SIZE, shuffle=True)"
   ]
  },
  {
   "cell_type": "markdown",
   "id": "db4d105e",
   "metadata": {},
   "source": [
    "**Changes made to the data set folder**\n",
    "> Changed\n",
    "\n",
    " {'angry': 0, 'happy': 3, 'sad': 5,\n",
    " \n",
    " \n",
    " 'disgust': 1, 'fear': 2,  'neutral': 4,  'surprise': 6}"
   ]
  },
  {
   "cell_type": "markdown",
   "id": "93c0ca92",
   "metadata": {},
   "source": [
    "## Run 'test_out_of_distribution' function"
   ]
  },
  {
   "cell_type": "code",
   "execution_count": 25,
   "id": "680836f9",
   "metadata": {},
   "outputs": [
    {
     "name": "stdout",
     "output_type": "stream",
     "text": [
      "Epoch 1\n"
     ]
    },
    {
     "name": "stderr",
     "output_type": "stream",
     "text": [
      "EPOCH[VALID]1/5: 100%|██████████| 2/2 [00:00<00:00,  2.74it/s, loss=2.972042, acc=0.107686]\n"
     ]
    },
    {
     "name": "stdout",
     "output_type": "stream",
     "text": [
      "Epoch 2\n"
     ]
    },
    {
     "name": "stderr",
     "output_type": "stream",
     "text": [
      "EPOCH[VALID]2/5: 100%|██████████| 2/2 [00:00<00:00,  3.76it/s, loss=3.046495, acc=0.108742]\n"
     ]
    },
    {
     "name": "stdout",
     "output_type": "stream",
     "text": [
      "Epoch 3\n"
     ]
    },
    {
     "name": "stderr",
     "output_type": "stream",
     "text": [
      "EPOCH[VALID]3/5: 100%|██████████| 2/2 [00:00<00:00,  3.79it/s, loss=3.111988, acc=0.073902]\n"
     ]
    },
    {
     "name": "stdout",
     "output_type": "stream",
     "text": [
      "Epoch 4\n"
     ]
    },
    {
     "name": "stderr",
     "output_type": "stream",
     "text": [
      "EPOCH[VALID]4/5: 100%|██████████| 2/2 [00:00<00:00,  3.55it/s, loss=3.088979, acc=0.059333]\n"
     ]
    },
    {
     "name": "stdout",
     "output_type": "stream",
     "text": [
      "Epoch 5\n"
     ]
    },
    {
     "name": "stderr",
     "output_type": "stream",
     "text": [
      "EPOCH[VALID]5/5: 100%|██████████| 2/2 [00:00<00:00,  3.32it/s, loss=3.011518, acc=0.096284]"
     ]
    },
    {
     "name": "stdout",
     "output_type": "stream",
     "text": [
      "\n"
     ]
    },
    {
     "name": "stderr",
     "output_type": "stream",
     "text": [
      "\n"
     ]
    }
   ],
   "source": [
    "# Train the model:\n",
    "test_out_of_distribution_metrics = test_out_of_distribution(resnet50_fer_model, manga_faces_train_images_loader, epochs=5, device=device)"
   ]
  },
  {
   "cell_type": "code",
   "execution_count": 22,
   "id": "4e37b5ea",
   "metadata": {},
   "outputs": [
    {
     "name": "stdout",
     "output_type": "stream",
     "text": [
      "Losses and accuracy saved\n"
     ]
    }
   ],
   "source": [
    "# Store the metrics from when the model was tested on the out-of-distribution dataset\n",
    "data = {\n",
    "    \"Epoch\": list(range(1, len(test_out_of_distribution_metrics['validation_loss']) + 1)),\n",
    "    \"Validation Loss\": test_out_of_distribution_metrics['validation_loss'],\n",
    "    \"Validation Accuracy\": [acc.cpu().item() for acc in test_out_of_distribution_metrics['validation_accuracy']]\n",
    "}\n",
    "\n",
    "# Create a DataFrame\n",
    "df = pd.DataFrame(data)\n",
    "\n",
    "# Save to CSV\n",
    "df.to_csv(\"stats/RESNET_test_model_out_of_distribution_stats_001_5_epochs.csv\", index=False)\n",
    "print(\"Losses and accuracy saved\")"
   ]
  },
  {
   "cell_type": "code",
   "execution_count": 26,
   "id": "ddb99760",
   "metadata": {},
   "outputs": [
    {
     "name": "stdout",
     "output_type": "stream",
     "text": [
      "Epoch 1\n"
     ]
    },
    {
     "name": "stderr",
     "output_type": "stream",
     "text": [
      "EPOCH[VALID]1/5: 100%|██████████| 2/2 [00:00<00:00,  4.12it/s, loss=2.714801, acc=0.050781]\n"
     ]
    },
    {
     "name": "stdout",
     "output_type": "stream",
     "text": [
      "Epoch 2\n"
     ]
    },
    {
     "name": "stderr",
     "output_type": "stream",
     "text": [
      "EPOCH[VALID]2/5: 100%|██████████| 2/2 [00:00<00:00, 10.26it/s, loss=2.614193, acc=0.171875]\n"
     ]
    },
    {
     "name": "stdout",
     "output_type": "stream",
     "text": [
      "Epoch 3\n"
     ]
    },
    {
     "name": "stderr",
     "output_type": "stream",
     "text": [
      "EPOCH[VALID]3/5: 100%|██████████| 2/2 [00:00<00:00, 10.01it/s, loss=3.192715, acc=0.050781]\n"
     ]
    },
    {
     "name": "stdout",
     "output_type": "stream",
     "text": [
      "Epoch 4\n"
     ]
    },
    {
     "name": "stderr",
     "output_type": "stream",
     "text": [
      "EPOCH[VALID]4/5: 100%|██████████| 2/2 [00:00<00:00,  9.94it/s, loss=3.057675, acc=0.050781]\n"
     ]
    },
    {
     "name": "stdout",
     "output_type": "stream",
     "text": [
      "Epoch 5\n"
     ]
    },
    {
     "name": "stderr",
     "output_type": "stream",
     "text": [
      "EPOCH[VALID]5/5: 100%|██████████| 2/2 [00:00<00:00, 10.20it/s, loss=3.485487, acc=0.050781]"
     ]
    },
    {
     "name": "stdout",
     "output_type": "stream",
     "text": [
      "\n"
     ]
    },
    {
     "name": "stderr",
     "output_type": "stream",
     "text": [
      "\n"
     ]
    }
   ],
   "source": [
    "# Train the model:\n",
    "test_out_of_distribution_metrics = test_out_of_distribution(resnet50_fer_model, manga_faces_test_images_loader, epochs=5, device=device)"
   ]
  },
  {
   "cell_type": "markdown",
   "id": "5c183a06",
   "metadata": {},
   "source": [
    "# FSL DA Prototypical Network"
   ]
  },
  {
   "cell_type": "markdown",
   "id": "1b40840d",
   "metadata": {},
   "source": [
    "### ResNet50 Feature Extraction"
   ]
  },
  {
   "cell_type": "code",
   "execution_count": 27,
   "id": "6559bff9",
   "metadata": {},
   "outputs": [],
   "source": [
    "class ResNet50FeatureExtractor(nn.Module):\n",
    "    def __init__(self, base_model, embedding_dim=512):\n",
    "        super(ResNet50FeatureExtractor, self).__init__()\n",
    "        # Use the ResNet50 layers up to average pool.\n",
    "        # list(base_model.children())[:-1] ignores the last fc layer.\n",
    "        self.features = nn.Sequential(*list(base_model.children())[:-1])\n",
    "        # Optionally, add a projection layer to reduce dimensionality.\n",
    "        # ResNet50 outputs feature vectors of size 2048 after avgpool.\n",
    "        self.projection = nn.Linear(2048, embedding_dim)\n",
    "    \n",
    "    def forward(self, x):\n",
    "        x = self.features(x)             # shape: [B, 2048, 1, 1]\n",
    "        x = x.flatten(1)                 # shape: [B, 2048]\n",
    "        embeddings = self.projection(x)  # shape: [B, embedding_dim]\n",
    "        return embeddings"
   ]
  },
  {
   "cell_type": "code",
   "execution_count": 29,
   "id": "56ef4039",
   "metadata": {},
   "outputs": [
    {
     "data": {
      "text/plain": [
       "<All keys matched successfully>"
      ]
     },
     "execution_count": 29,
     "metadata": {},
     "output_type": "execute_result"
    }
   ],
   "source": [
    "resnet50_fer_model_2 = models.resnet50(weights=models.ResNet50_Weights.DEFAULT)\n",
    "resnet50_fer_model_2.fc = nn.Sequential(\n",
    "    nn.Dropout(params[\"dropout_rate\"]),\n",
    "    nn.Linear(resnet50_fer_model_2.fc.in_features, params[\"num_classes\"])\n",
    ")\n",
    "resnet50_fer_model_2 = resnet50_fer_model_2.to(device)\n",
    "resnet50_fer_model_2.load_state_dict(torch.load('weights/RESNET50_model_with_fer2013_weights.pt', weights_only=True))\n",
    "#resnet50_fer_model_2.eval()"
   ]
  },
  {
   "cell_type": "code",
   "execution_count": 30,
   "id": "bc2787f6",
   "metadata": {},
   "outputs": [],
   "source": [
    "# Assuming resnet50_fer_model is already defined and on device:\n",
    "feature_extractor = ResNet50FeatureExtractor(resnet50_fer_model_2).to(device)"
   ]
  },
  {
   "cell_type": "markdown",
   "id": "a556c60f",
   "metadata": {},
   "source": [
    "### Dataset class"
   ]
  },
  {
   "cell_type": "code",
   "execution_count": 32,
   "id": "15233c34",
   "metadata": {},
   "outputs": [],
   "source": [
    "class FewShotFERDataset(Dataset):\n",
    "    \"\"\"\n",
    "    Dataset for few-shot FER, where images are organized by class in folders.\n",
    "    This dataset generates episodes (tasks) on-the-fly.\n",
    "    \"\"\"\n",
    "    def __init__(self, root_dir, n_way=5, k_shot=1, k_query=5, transform=None):\n",
    "        \"\"\"\n",
    "        root_dir: Root folder containing one folder per class.\n",
    "        n_way: number of classes per episode.\n",
    "        k_shot: number of support examples per class.\n",
    "        k_query: number of query examples per class.\n",
    "        transform: transformation to apply to images.\n",
    "        \"\"\"\n",
    "        self.root_dir = root_dir\n",
    "        self.n_way = n_way\n",
    "        self.k_shot = k_shot\n",
    "        self.k_query = k_query\n",
    "        self.transform = transform\n",
    "        \n",
    "        # Build a mapping: class -> list of image paths.\n",
    "        self.class_to_imgs = {}\n",
    "        for cls_name in os.listdir(root_dir):\n",
    "            cls_folder = Path.joinpath(root_dir, cls_name)\n",
    "            if Path.is_dir(cls_folder):\n",
    "                self.class_to_imgs[cls_name] = [Path.joinpath(cls_folder, img)                                                 \n",
    "                                                 for img in Path(cls_folder).rglob('*')\n",
    "                                                 if str(img).endswith('.jpg') or str(img).endswith('.png')]        \n",
    "        self.classes = list(self.class_to_imgs.keys())\n",
    "    \n",
    "    def __len__(self):\n",
    "        # Define the number of episodes arbitrarily.\n",
    "        return 1000  # or any number representing episodes\n",
    "    \n",
    "    def __getitem__(self, idx):\n",
    "        # Randomly sample n_way classes for this episode.\n",
    "        sampled_classes = random.sample(self.classes, self.n_way)\n",
    "        support_imgs, support_labels = [], []\n",
    "        query_imgs, query_labels = [], []\n",
    "        \n",
    "        label_map = {cls_name: i for i, cls_name in enumerate(sampled_classes)}\n",
    "        \n",
    "        for cls_name in sampled_classes:\n",
    "            imgs = self.class_to_imgs[cls_name]\n",
    "            # Ensure there are enough examples in this class.\n",
    "            selected_imgs = random.sample(imgs, self.k_shot + self.k_query)\n",
    "            support_paths = selected_imgs[:self.k_shot]\n",
    "            query_paths = selected_imgs[self.k_shot:]\n",
    "            \n",
    "            for sp in support_paths:\n",
    "                img = Image.open(sp).convert('RGB')\n",
    "                if self.transform:\n",
    "                    img = self.transform(img)\n",
    "                support_imgs.append(img)\n",
    "                support_labels.append(label_map[cls_name])\n",
    "            \n",
    "            for qp in query_paths:\n",
    "                img = Image.open(qp).convert('RGB')\n",
    "                if self.transform:\n",
    "                    img = self.transform(img)\n",
    "                query_imgs.append(img)\n",
    "                query_labels.append(label_map[cls_name])\n",
    "        \n",
    "        # Convert lists to tensors.\n",
    "        support_imgs = torch.stack(support_imgs)  # shape: [n_way*k_shot, C, H, W]\n",
    "        support_labels = torch.tensor(support_labels, dtype=torch.long)\n",
    "        query_imgs = torch.stack(query_imgs)      # shape: [n_way*k_query, C, H, W]\n",
    "        query_labels = torch.tensor(query_labels, dtype=torch.long)\n",
    "        \n",
    "        return (support_imgs, support_labels), (query_imgs, query_labels)"
   ]
  },
  {
   "cell_type": "markdown",
   "id": "58adc3d5",
   "metadata": {},
   "source": [
    "### Instantiate Dataset & DataLoader"
   ]
  },
  {
   "cell_type": "code",
   "execution_count": 33,
   "id": "6b699e3f",
   "metadata": {},
   "outputs": [],
   "source": [
    "# Define transforms\n",
    "transform = T.Compose([\n",
    "    T.Resize((48, 48)),\n",
    "    T.ToTensor(),\n",
    "    T.Normalize(mean=[0.485],\n",
    "                std=[0.229])\n",
    "])\n",
    "\n",
    "# Root folder with classes as subfolders.\n",
    "few_shot_dataset = FewShotFERDataset(root_dir=manga_faces_train_dir, n_way=4, k_shot=10, k_query=22, transform=transform)\n",
    "few_shot_loader = DataLoader(few_shot_dataset, batch_size=1, shuffle=True, num_workers=0)\n"
   ]
  },
  {
   "cell_type": "markdown",
   "id": "1cc3e480",
   "metadata": {},
   "source": [
    "### Prototypical Network Inference function"
   ]
  },
  {
   "cell_type": "code",
   "execution_count": 34,
   "id": "584fdf17",
   "metadata": {},
   "outputs": [],
   "source": [
    "def evaluate_episode(feature_extractor, support_imgs, support_labels, query_imgs, query_labels, device):\n",
    "    \"\"\"\n",
    "    feature_extractor: model that outputs embeddings [B, embedding_dim]\n",
    "    support_imgs: tensor of shape [n_way * k_shot, C, H, W]\n",
    "    support_labels: tensor of shape [n_way * k_shot]\n",
    "    query_imgs: tensor of shape [n_way * k_query, C, H, W]\n",
    "    query_labels: tensor of shape [n_way * k_query]\n",
    "    \"\"\"\n",
    "    feature_extractor.eval()\n",
    "    with torch.no_grad():\n",
    "        # Move data to device.\n",
    "        support_imgs = support_imgs.to(device)\n",
    "        query_imgs = query_imgs.to(device)\n",
    "        \n",
    "        # Compute the embeddings.\n",
    "        support_embeddings = feature_extractor(support_imgs)  # [n_way*k_shot, D]\n",
    "        query_embeddings = feature_extractor(query_imgs)      # [n_way*k_query, D]\n",
    "    \n",
    "        # Compute prototypes: mean of support embeddings per class.\n",
    "        prototypes = []\n",
    "        unique_labels = torch.unique(support_labels)\n",
    "        for cls in unique_labels:\n",
    "            cls_indices = (support_labels == cls).nonzero(as_tuple=True)[0]\n",
    "            cls_embeddings = support_embeddings[cls_indices]\n",
    "            prototype = cls_embeddings.mean(dim=0)\n",
    "            prototypes.append(prototype)\n",
    "        prototypes = torch.stack(prototypes)  # shape: [n_way, D]\n",
    "        \n",
    "        # Compute distances between query embeddings and prototypes.\n",
    "        # We use Euclidean distance here.\n",
    "        # query_embeddings: [Q, D], prototypes: [n_way, D]\n",
    "        distances = torch.cdist(query_embeddings, prototypes, p=2)  # shape: [Q, n_way]\n",
    "        \n",
    "        # Convert distances to probabilities (smaller distance -> higher probability).\n",
    "        probs = F.softmax(-distances, dim=1)\n",
    "        preds = torch.argmax(probs, dim=1)\n",
    "        correct = (preds.cpu() == query_labels).sum().item()\n",
    "        total = query_labels.size(0)\n",
    "    \n",
    "    return correct, total"
   ]
  },
  {
   "cell_type": "markdown",
   "id": "1f71a500",
   "metadata": {},
   "source": [
    "### Run inference"
   ]
  },
  {
   "cell_type": "code",
   "execution_count": 35,
   "id": "242bc81b",
   "metadata": {},
   "outputs": [
    {
     "name": "stdout",
     "output_type": "stream",
     "text": [
      "Few-Shot Episode Accuracy: 41.30%\n"
     ]
    }
   ],
   "source": [
    "total_correct = 0\n",
    "total_samples = 0\n",
    "num_episodes = 50  # Evaluate on 50 episodes.\n",
    "\n",
    "for i, episode in enumerate(few_shot_loader):\n",
    "    if i >= num_episodes:\n",
    "        break\n",
    "    # Remove the extra batch dimension since batch_size=1.\n",
    "    (support_imgs, support_labels), (query_imgs, query_labels) = episode\n",
    "    support_imgs = support_imgs.squeeze(0)\n",
    "    support_labels = support_labels.squeeze(0)\n",
    "    query_imgs = query_imgs.squeeze(0)\n",
    "    query_labels = query_labels.squeeze(0)\n",
    "    \n",
    "    correct, total = evaluate_episode(feature_extractor, support_imgs, support_labels, query_imgs, query_labels, device)\n",
    "    total_correct += correct\n",
    "    total_samples += total\n",
    "\n",
    "episode_accuracy = 100.0 * total_correct / total_samples\n",
    "print(\"Few-Shot Episode Accuracy: {:.2f}%\".format(episode_accuracy))"
   ]
  },
  {
   "cell_type": "markdown",
   "id": "46ff10fa",
   "metadata": {},
   "source": [
    "# Contrastive Learning"
   ]
  },
  {
   "cell_type": "markdown",
   "id": "3bc67cb5",
   "metadata": {},
   "source": [
    "### Align Label spaces"
   ]
  },
  {
   "cell_type": "code",
   "execution_count": 49,
   "id": "455653d6",
   "metadata": {},
   "outputs": [],
   "source": [
    "label_map = {\n",
    "    \"angry\": 0,\n",
    "    \"disgust\": 1,\n",
    "    \"fear\": 2,\n",
    "    \"happy\": 3,\n",
    "    \"neutral\": 4,\n",
    "    \"sad\": 5,\n",
    "    \"surprise\": 6\n",
    "}"
   ]
  },
  {
   "cell_type": "code",
   "execution_count": 50,
   "id": "7c14473e",
   "metadata": {},
   "outputs": [],
   "source": [
    "class MappedImageFolder(ImageFolder):\n",
    "    def __init__(self, root, label_map, transform=None):\n",
    "        super().__init__(root, transform=transform)\n",
    "        self.samples = [\n",
    "            (path, label_map[self.classes[label]])\n",
    "            for path, label in self.samples\n",
    "            if self.classes[label] in label_map\n",
    "        ]\n",
    "        self.targets = [s[1] for s in self.samples]\n",
    "        \n",
    "        inverse_label_map = {v: k for k, v in label_map.items()}\n",
    "        self.classes = [inverse_label_map[i] for i in sorted(inverse_label_map)]\n"
   ]
  },
  {
   "cell_type": "code",
   "execution_count": 51,
   "id": "1ff5a954",
   "metadata": {},
   "outputs": [],
   "source": [
    "mean=[0.485]\n",
    "std=[0.229]\n",
    "\n",
    "manga_transforms = T.Compose([\n",
    "    T.Grayscale(num_output_channels=3),  # Keep 3 channels but use grayscale\n",
    "    T.RandomApply([T.GaussianBlur(3), T.RandomSolarize(0.5)], p=0.5),\n",
    "    T.RandomPerspective(distortion_scale=0.4, p=0.3),\n",
    "    T.RandomApply([T.RandomRotation(15)], p=0.5),\n",
    "    T.RandomPerspective(distortion_scale=0.3, p=0.3),\n",
    "    T.RandomResizedCrop(48, scale=(0.8, 1.2)),\n",
    "    T.RandomHorizontalFlip(),\n",
    "    T.ToTensor(),\n",
    "    T.Normalize(mean, std),\n",
    "    T.RandomErasing(p=0.2)  # Helps with occlusion\n",
    "])\n",
    "\n",
    "\n",
    "manga_faces_train_dir = Path(os.getcwd(), 'datasets', 'manga', 'train')\n",
    "manga_faces_train_images = MappedImageFolder(root=manga_faces_train_dir, label_map=label_map  , transform=manga_transforms)\n",
    "manga_faces_train_images_loader = DataLoader(manga_faces_train_images, batch_size=32, shuffle=True)\n",
    "\n",
    "\n",
    "# Test Set\n",
    "test_transforms = T.Compose([\n",
    "    T.Grayscale(num_output_channels=3),\n",
    "    T.Resize((48, 48)),\n",
    "    T.ToTensor(),\n",
    "    T.Normalize(mean=[0.485], std=[0.229])\n",
    "])\n",
    "manga_faces_test_dir = Path(os.getcwd(), 'datasets', 'manga', 'test')\n",
    "manga_faces_test_images = MappedImageFolder(root=manga_faces_test_dir, label_map=label_map  , transform=test_transforms)\n",
    "manga_faces_test_images_loader = DataLoader(manga_faces_test_images, batch_size=32, shuffle=True)"
   ]
  },
  {
   "cell_type": "code",
   "execution_count": 52,
   "id": "2330e4c6",
   "metadata": {},
   "outputs": [
    {
     "name": "stdout",
     "output_type": "stream",
     "text": [
      "{0, 3, 5, 6}\n"
     ]
    }
   ],
   "source": [
    "print(set(manga_faces_test_images.targets))"
   ]
  },
  {
   "cell_type": "markdown",
   "id": "0b9c9cc8",
   "metadata": {},
   "source": [
    "### Contrastive Loss Class Implementation"
   ]
  },
  {
   "cell_type": "code",
   "execution_count": 53,
   "id": "f0046fc1",
   "metadata": {},
   "outputs": [],
   "source": [
    "class ContrastiveLoss(nn.Module):\n",
    "    def __init__(self, temperature=0.5):  # Increased temperature\n",
    "        super().__init__()\n",
    "        self.tau = temperature # hyperparameter for scaling the similarity scores\n",
    "        \n",
    "    def forward(self, source_emb, source_labels, target_emb, target_labels):\n",
    "        device = source_emb.device\n",
    "        \n",
    "        # Normalize embeddings\n",
    "        source_emb = F.normalize(source_emb, p=2, dim=1)\n",
    "        target_emb = F.normalize(target_emb, p=2, dim=1)\n",
    "        \n",
    "        embeddings = torch.cat([source_emb, target_emb], dim=0)\n",
    "        labels = torch.cat([source_labels, target_labels], dim=0)\n",
    "        \n",
    "        # Similarity matrix\n",
    "        sim_matrix = torch.mm(target_emb, embeddings.T) / self.tau\n",
    "        \n",
    "        # Masks\n",
    "        pos_mask = torch.zeros_like(sim_matrix, dtype=torch.bool)\n",
    "        for i, label in enumerate(target_labels):\n",
    "            pos_mask[i, :len(source_labels)] = (source_labels == label)\n",
    "            \n",
    "        neg_mask = (labels != target_labels.unsqueeze(1))\n",
    "        neg_mask[:, len(source_labels):] &= ~torch.eye(\n",
    "            len(target_labels), dtype=torch.bool, device=device\n",
    "        )\n",
    "        \n",
    "        # Compute terms with stability\n",
    "        pos_term = (sim_matrix.exp() * pos_mask.float()).sum(dim=1) + 1e-8\n",
    "        neg_term = (sim_matrix.exp() * neg_mask.float()).sum(dim=1) + 1e-8\n",
    "        \n",
    "        loss = -torch.log(pos_term / (pos_term + neg_term))\n",
    "        return loss.mean()"
   ]
  },
  {
   "cell_type": "markdown",
   "id": "c8f2ac32",
   "metadata": {},
   "source": [
    "### Few-shot sampling function"
   ]
  },
  {
   "cell_type": "code",
   "execution_count": 54,
   "id": "94f9ca2c",
   "metadata": {},
   "outputs": [],
   "source": [
    "# Few-shot sampling function\n",
    "def get_few_shot_indices(dataset, shots_per_class=5):\n",
    "    \"\"\"\n",
    "    Returns a balanced list of indices for few-shot learning by randomly selecting\n",
    "    a fixed number of samples per class.\n",
    "\n",
    "    Args:\n",
    "        dataset (ImageFolder): A PyTorch ImageFolder dataset (or any dataset with a `.samples` attribute \n",
    "                              containing (path, label) tuples).\n",
    "        shots_per_class (int, optional): Number of samples to select per class. Defaults to 5.\n",
    "\n",
    "    Returns:\n",
    "        List[int]: A list of selected indices, ensuring `shots_per_class` samples per class.\n",
    "\n",
    "    Example:\n",
    "        >>> target_set = ImageFolder(root='data/target', transform=transforms.ToTensor())\n",
    "        >>> few_shot_indices = get_few_shot_indices(target_set, shots_per_class=3)\n",
    "        >>> few_shot_loader = DataLoader(Subset(target_set, few_shot_indices), batch_size=3)\n",
    "    \"\"\"\n",
    "    \n",
    "    class_indices = {}\n",
    "    for idx, (_, label) in enumerate(dataset.samples):\n",
    "        class_indices.setdefault(label, []).append(idx)\n",
    "    \n",
    "    selected_indices = []\n",
    "    for label, indices in class_indices.items():\n",
    "        selected_indices.extend(np.random.choice(indices, shots_per_class, replace=False))\n",
    "    return selected_indices"
   ]
  },
  {
   "cell_type": "code",
   "execution_count": 55,
   "id": "c3378ee2",
   "metadata": {},
   "outputs": [],
   "source": [
    "class ResNet50FeatureExtractor(nn.Module):\n",
    "    def __init__(self, base_model, embedding_dim=512):\n",
    "        super().__init__()\n",
    "        # Keep original layers up to avgpool\n",
    "        self.features = nn.Sequential(*list(base_model.children())[:-1])\n",
    "        # Preserve BOTH original fc and your custom fc\n",
    "        self.original_fc = base_model.fc  # This is your modified fc (with dropout + num_classes)\n",
    "        # Add projection for embeddings\n",
    "        self.projection = nn.Linear(2048, embedding_dim)\n",
    "\n",
    "    def forward(self, x, return_embeddings=False):\n",
    "        x = self.features(x)\n",
    "        x = x.flatten(1)\n",
    "        \n",
    "        logits = self.original_fc(x)\n",
    "        embeddings = self.projection(x)\n",
    "        \n",
    "        return (logits, embeddings) if return_embeddings else logits"
   ]
  },
  {
   "cell_type": "code",
   "execution_count": 56,
   "id": "c64fdd78",
   "metadata": {},
   "outputs": [
    {
     "data": {
      "text/plain": [
       "<All keys matched successfully>"
      ]
     },
     "execution_count": 56,
     "metadata": {},
     "output_type": "execute_result"
    }
   ],
   "source": [
    "resnet50_fer_model_contrastive = models.resnet50(weights=models.ResNet50_Weights.DEFAULT)\n",
    "resnet50_fer_model_contrastive.fc = nn.Sequential(\n",
    "    nn.Dropout(params[\"dropout_rate\"]),\n",
    "    nn.Linear(resnet50_fer_model_contrastive.fc.in_features, params[\"num_classes\"])\n",
    ")\n",
    "resnet50_fer_model_contrastive.load_state_dict(torch.load('weights/RESNET50_model_with_fer2013_weights.pt', weights_only=True))"
   ]
  },
  {
   "cell_type": "code",
   "execution_count": 57,
   "id": "32bcf1c2",
   "metadata": {},
   "outputs": [],
   "source": [
    "feature_extractor_contrastive = ResNet50FeatureExtractor(resnet50_fer_model_contrastive).to(device)"
   ]
  },
  {
   "cell_type": "code",
   "execution_count": 58,
   "id": "cc4b1ce2",
   "metadata": {},
   "outputs": [],
   "source": [
    "# Initialize model and losses\n",
    "params = {'num_classes': 7, 'dropout_rate': 0.2}  # Example for FER2013\n",
    "cls_criterion = nn.CrossEntropyLoss()\n",
    "cont_criterion = ContrastiveLoss(temperature=0.2)\n",
    "optimizer = torch.optim.AdamW(feature_extractor_contrastive.parameters(), lr=1e-4, weight_decay=1e-4)\n",
    "\n",
    "# Prepare few-shot target loader training set\n",
    "few_shot_indices = get_few_shot_indices(manga_faces_train_images, shots_per_class=15)\n",
    "few_shot_loader = DataLoader(\n",
    "    Subset(manga_faces_train_images, few_shot_indices),\n",
    "    batch_size=10,\n",
    "    shuffle=False,\n",
    "    drop_last=True  # Avoid partial batches\n",
    ")"
   ]
  },
  {
   "cell_type": "markdown",
   "id": "1d1abeea",
   "metadata": {},
   "source": [
    "### Modified Training Loop for Contrastive Learning"
   ]
  },
  {
   "cell_type": "markdown",
   "id": "62767354",
   "metadata": {},
   "source": []
  },
  {
   "cell_type": "markdown",
   "id": "f9f2fc86",
   "metadata": {},
   "source": [
    "#### Using only CrossEntropyLoss"
   ]
  },
  {
   "cell_type": "markdown",
   "id": "3114099c",
   "metadata": {},
   "source": []
  },
  {
   "cell_type": "markdown",
   "id": "8ca04043",
   "metadata": {},
   "source": [
    "#### Using only ContrastiveLoss"
   ]
  },
  {
   "cell_type": "markdown",
   "id": "a57b8020",
   "metadata": {},
   "source": []
  },
  {
   "cell_type": "markdown",
   "id": "de4d09d0",
   "metadata": {},
   "source": [
    "#### Using both CrossEntropyLoss and ContrastiveLoss"
   ]
  },
  {
   "cell_type": "code",
   "execution_count": 59,
   "id": "ed09ec08",
   "metadata": {},
   "outputs": [],
   "source": [
    "# Training loop with domain adaptation\n",
    "def train_epoch(model, source_loader, target_loader, optimizer, epoch, epochs):\n",
    "    model.train()\n",
    "    target_iter = cycle(target_loader)  # Infinite iterator\n",
    "    \n",
    "    # Initialize metrics\n",
    "    total_cls_loss = 0.0\n",
    "    total_cont_loss = 0.0\n",
    "    running_total_loss = 0.0\n",
    "    source_correct = 0\n",
    "    target_correct = 0\n",
    "    total_source_samples = 0\n",
    "    total_target_samples = 0\n",
    "    \n",
    "    \n",
    "    tk = tqdm(source_loader, desc=\"EPOCH\" + \"[TRAIN]\" + str(epoch) + \"/\" + str(epochs))\n",
    "    \n",
    "    for batch_idx, (source_imgs, source_lbls) in enumerate(tk):\n",
    "        # Get target batch\n",
    "        target_imgs, target_lbls = next(target_iter)\n",
    "        \n",
    "        # Move to device\n",
    "        source_imgs = source_imgs.to(device)\n",
    "        source_lbls = source_lbls.to(device)\n",
    "        target_imgs = target_imgs.to(device)\n",
    "        target_lbls = target_lbls.to(device)\n",
    "        \n",
    "        # Forward pass with embeddings\n",
    "        source_logits, source_emb = model(source_imgs, return_embeddings=True)\n",
    "        target_logits, target_emb = model(target_imgs, return_embeddings=True)\n",
    "        \n",
    "        # Calculate accuracy\n",
    "        source_preds = source_logits.argmax(dim=1)\n",
    "        target_preds = target_logits.argmax(dim=1)\n",
    "        \n",
    "        # Update counters\n",
    "        batch_source_correct = (source_preds == source_lbls).sum().item()\n",
    "        batch_target_correct = (target_preds == target_lbls).sum().item()\n",
    "        \n",
    "        source_correct += batch_source_correct\n",
    "        target_correct += batch_target_correct\n",
    "        total_source_samples += source_lbls.size(0)\n",
    "        total_target_samples += target_lbls.size(0)\n",
    "        \n",
    "        # Loss calculation\n",
    "        cls_loss = cls_criterion(source_logits, source_lbls) + \\\n",
    "                cls_criterion(target_logits, target_lbls)\n",
    "        \n",
    "        cont_loss = cont_criterion(source_emb, source_lbls,\n",
    "                                 target_emb, target_lbls)\n",
    "        \n",
    "        current_loss = cls_loss + 0.9 * cont_loss # Adjusted weight\n",
    "        \n",
    "        # Update metrics\n",
    "        total_cls_loss += cls_loss.item()\n",
    "        total_cont_loss += cont_loss.item() * 0.5 # Adjusted weight\n",
    "        running_total_loss += current_loss.item()\n",
    "        \n",
    "        # Backpropagation\n",
    "        optimizer.zero_grad()\n",
    "        current_loss.backward()\n",
    "        torch.nn.utils.clip_grad_norm_(model.parameters(), max_norm=1.0)\n",
    "        optimizer.step()\n",
    "        \n",
    "        # Calculate batch-level accuracies\n",
    "        batch_source_acc = 100 * batch_source_correct / source_lbls.size(0)\n",
    "        batch_target_acc = 100 * batch_target_correct / target_lbls.size(0)\n",
    "        \n",
    "        # Update progress bar\n",
    "        tk.set_postfix({\n",
    "            'CLS Loss': f'{total_cls_loss / (batch_idx + 1):.4f}',\n",
    "            'CONT Loss': f'{total_cont_loss / (batch_idx + 1):.4f}',\n",
    "            'Total Loss': f'{running_total_loss / (batch_idx + 1):.4f}',\n",
    "            'Source Acc': f'{batch_source_acc:.2f}%',\n",
    "            'Target Acc': f'{batch_target_acc:.2f}%'\n",
    "        })\n",
    "            \n",
    "    # Calculate epoch-level metrics\n",
    "    epoch_cls_loss = total_cls_loss / len(source_loader)\n",
    "    epoch_cont_loss = total_cont_loss / len(source_loader)\n",
    "    epoch_total_loss = running_total_loss / len(source_loader)\n",
    "    \n",
    "    epoch_source_acc = 100 * source_correct / total_source_samples\n",
    "    epoch_target_acc = 100 * target_correct / total_target_samples\n",
    "    \n",
    "    print(f\"\\nEpoch {epoch}/{epochs} Summary:\")\n",
    "    print(f\"CLS Loss: {epoch_cls_loss:.4f} | CONT Loss: {epoch_cont_loss:.4f} | Total Loss: {epoch_total_loss:.4f}\")\n",
    "    print(f\"Source Acc: {epoch_source_acc:.2f}% | Target Acc: {epoch_target_acc:.2f}%\")\n",
    "    \n",
    "    return epoch_cls_loss, epoch_cont_loss, epoch_total_loss, epoch_source_acc, epoch_target_acc"
   ]
  },
  {
   "cell_type": "code",
   "execution_count": 61,
   "id": "cca20e27",
   "metadata": {},
   "outputs": [],
   "source": [
    "EPOCHS = 10"
   ]
  },
  {
   "cell_type": "code",
   "execution_count": 62,
   "id": "7e9d6647",
   "metadata": {},
   "outputs": [
    {
     "name": "stderr",
     "output_type": "stream",
     "text": [
      "EPOCH[TRAIN]1/10: 100%|██████████| 225/225 [02:08<00:00,  1.75it/s, CLS Loss=1.5588, CONT Loss=0.4598, Total Loss=2.3864, Source Acc=54.05%, Target Acc=100.00%]\n"
     ]
    },
    {
     "name": "stdout",
     "output_type": "stream",
     "text": [
      "\n",
      "Epoch 1/10 Summary:\n",
      "CLS Loss: 1.5588 | CONT Loss: 0.4598 | Total Loss: 2.3864\n",
      "Source Acc: 48.32% | Target Acc: 95.78%\n",
      "SAVED-BEST-WEIGHTS!\n",
      "\n"
     ]
    },
    {
     "name": "stderr",
     "output_type": "stream",
     "text": [
      "EPOCH[TRAIN]2/10: 100%|██████████| 225/225 [00:39<00:00,  5.75it/s, CLS Loss=1.4144, CONT Loss=0.3028, Total Loss=1.9594, Source Acc=45.95%, Target Acc=100.00%]\n"
     ]
    },
    {
     "name": "stdout",
     "output_type": "stream",
     "text": [
      "\n",
      "Epoch 2/10 Summary:\n",
      "CLS Loss: 1.4144 | CONT Loss: 0.3028 | Total Loss: 1.9594\n",
      "Source Acc: 52.38% | Target Acc: 96.18%\n",
      "SAVED-BEST-WEIGHTS!\n",
      "\n"
     ]
    },
    {
     "name": "stderr",
     "output_type": "stream",
     "text": [
      "EPOCH[TRAIN]3/10: 100%|██████████| 225/225 [00:38<00:00,  5.84it/s, CLS Loss=1.3408, CONT Loss=0.2654, Total Loss=1.8185, Source Acc=51.35%, Target Acc=100.00%]\n"
     ]
    },
    {
     "name": "stdout",
     "output_type": "stream",
     "text": [
      "\n",
      "Epoch 3/10 Summary:\n",
      "CLS Loss: 1.3408 | CONT Loss: 0.2654 | Total Loss: 1.8185\n",
      "Source Acc: 54.83% | Target Acc: 96.44%\n",
      "SAVED-BEST-WEIGHTS!\n",
      "\n"
     ]
    },
    {
     "name": "stderr",
     "output_type": "stream",
     "text": [
      "EPOCH[TRAIN]4/10: 100%|██████████| 225/225 [00:38<00:00,  5.84it/s, CLS Loss=1.2691, CONT Loss=0.2305, Total Loss=1.6840, Source Acc=35.14%, Target Acc=100.00%]\n"
     ]
    },
    {
     "name": "stdout",
     "output_type": "stream",
     "text": [
      "\n",
      "Epoch 4/10 Summary:\n",
      "CLS Loss: 1.2691 | CONT Loss: 0.2305 | Total Loss: 1.6840\n",
      "Source Acc: 56.07% | Target Acc: 97.60%\n",
      "SAVED-BEST-WEIGHTS!\n",
      "\n"
     ]
    },
    {
     "name": "stderr",
     "output_type": "stream",
     "text": [
      "EPOCH[TRAIN]5/10: 100%|██████████| 225/225 [00:37<00:00,  5.92it/s, CLS Loss=1.1971, CONT Loss=0.2010, Total Loss=1.5589, Source Acc=51.35%, Target Acc=100.00%]\n"
     ]
    },
    {
     "name": "stdout",
     "output_type": "stream",
     "text": [
      "\n",
      "Epoch 5/10 Summary:\n",
      "CLS Loss: 1.1971 | CONT Loss: 0.2010 | Total Loss: 1.5589\n",
      "Source Acc: 57.49% | Target Acc: 98.62%\n",
      "SAVED-BEST-WEIGHTS!\n",
      "\n"
     ]
    },
    {
     "name": "stderr",
     "output_type": "stream",
     "text": [
      "EPOCH[TRAIN]6/10: 100%|██████████| 225/225 [00:38<00:00,  5.81it/s, CLS Loss=1.1699, CONT Loss=0.1853, Total Loss=1.5035, Source Acc=70.27%, Target Acc=100.00%]\n"
     ]
    },
    {
     "name": "stdout",
     "output_type": "stream",
     "text": [
      "\n",
      "Epoch 6/10 Summary:\n",
      "CLS Loss: 1.1699 | CONT Loss: 0.1853 | Total Loss: 1.5035\n",
      "Source Acc: 58.12% | Target Acc: 98.62%\n",
      "SAVED-BEST-WEIGHTS!\n",
      "\n"
     ]
    },
    {
     "name": "stderr",
     "output_type": "stream",
     "text": [
      "EPOCH[TRAIN]7/10: 100%|██████████| 225/225 [00:37<00:00,  5.93it/s, CLS Loss=1.1252, CONT Loss=0.2025, Total Loss=1.4896, Source Acc=70.27%, Target Acc=100.00%]\n"
     ]
    },
    {
     "name": "stdout",
     "output_type": "stream",
     "text": [
      "\n",
      "Epoch 7/10 Summary:\n",
      "CLS Loss: 1.1252 | CONT Loss: 0.2025 | Total Loss: 1.4896\n",
      "Source Acc: 59.40% | Target Acc: 98.53%\n",
      "SAVED-BEST-WEIGHTS!\n",
      "\n"
     ]
    },
    {
     "name": "stderr",
     "output_type": "stream",
     "text": [
      "EPOCH[TRAIN]8/10: 100%|██████████| 225/225 [00:38<00:00,  5.87it/s, CLS Loss=1.0839, CONT Loss=0.1385, Total Loss=1.3332, Source Acc=51.35%, Target Acc=100.00%]\n"
     ]
    },
    {
     "name": "stdout",
     "output_type": "stream",
     "text": [
      "\n",
      "Epoch 8/10 Summary:\n",
      "CLS Loss: 1.0839 | CONT Loss: 0.1385 | Total Loss: 1.3332\n",
      "Source Acc: 60.21% | Target Acc: 98.98%\n",
      "SAVED-BEST-WEIGHTS!\n",
      "\n"
     ]
    },
    {
     "name": "stderr",
     "output_type": "stream",
     "text": [
      "EPOCH[TRAIN]9/10: 100%|██████████| 225/225 [00:38<00:00,  5.83it/s, CLS Loss=1.0556, CONT Loss=0.1311, Total Loss=1.2915, Source Acc=51.35%, Target Acc=100.00%]\n"
     ]
    },
    {
     "name": "stdout",
     "output_type": "stream",
     "text": [
      "\n",
      "Epoch 9/10 Summary:\n",
      "CLS Loss: 1.0556 | CONT Loss: 0.1311 | Total Loss: 1.2915\n",
      "Source Acc: 61.70% | Target Acc: 98.93%\n",
      "SAVED-BEST-WEIGHTS!\n",
      "\n"
     ]
    },
    {
     "name": "stderr",
     "output_type": "stream",
     "text": [
      "EPOCH[TRAIN]10/10: 100%|██████████| 225/225 [00:39<00:00,  5.73it/s, CLS Loss=1.0066, CONT Loss=0.1269, Total Loss=1.2351, Source Acc=75.68%, Target Acc=100.00%]\n"
     ]
    },
    {
     "name": "stdout",
     "output_type": "stream",
     "text": [
      "\n",
      "Epoch 10/10 Summary:\n",
      "CLS Loss: 1.0066 | CONT Loss: 0.1269 | Total Loss: 1.2351\n",
      "Source Acc: 62.85% | Target Acc: 99.56%\n",
      "SAVED-BEST-WEIGHTS!\n",
      "\n"
     ]
    }
   ],
   "source": [
    "contrastive_loss_metrics = {\n",
    "    'cls_loss': [],\n",
    "    'cont_loss': [],\n",
    "    'total_loss': [],\n",
    "    'source_accuracy': [],\n",
    "    'target_accuracy': []\n",
    "}\n",
    "best_valid_loss = np.inf\n",
    "\n",
    "for epoch in range(1, EPOCHS + 1):\n",
    "    cls_loss, cont_loss, total_loss, source_acc, target_acc = \\\n",
    "        train_epoch(feature_extractor_contrastive, training_loader, few_shot_loader, optimizer, epoch, EPOCHS)\n",
    "    \n",
    "    \n",
    "    contrastive_loss_metrics['cls_loss'].append(cls_loss)\n",
    "    contrastive_loss_metrics['cont_loss'].append(cont_loss)\n",
    "    contrastive_loss_metrics['total_loss'].append(total_loss)\n",
    "    contrastive_loss_metrics['source_accuracy'].append(source_acc)\n",
    "    contrastive_loss_metrics['target_accuracy'].append(target_acc)\n",
    "    \n",
    "    if total_loss < best_valid_loss:\n",
    "        torch.save(feature_extractor_contrastive.state_dict(), 'weights/base_model_contrastive_learning_weights.pt')\n",
    "        print(\"SAVED-BEST-WEIGHTS!\")\n",
    "        best_valid_loss = total_loss\n",
    "        #patience_counter = 0 # Reset early stopping\n",
    "    print()"
   ]
  },
  {
   "cell_type": "code",
   "execution_count": 63,
   "id": "dc0c8ece",
   "metadata": {},
   "outputs": [
    {
     "name": "stdout",
     "output_type": "stream",
     "text": [
      "Losses and accuracy saved\n"
     ]
    }
   ],
   "source": [
    "# Store the metrics from when the model was tested on the out-of-distribution dataset\n",
    "data = {\n",
    "    \"Epoch\": list(range(1, len(contrastive_loss_metrics['cls_loss']) + 1)),\n",
    "    \"CLS_LOSS\": contrastive_loss_metrics['cls_loss'],\n",
    "    \"CONT_LOSS\": contrastive_loss_metrics['cont_loss'],\n",
    "    \"Total Loss\": contrastive_loss_metrics['total_loss'],\n",
    "    \"Source Accuracy\": contrastive_loss_metrics['source_accuracy'],\n",
    "    \"Target Accuracy\": contrastive_loss_metrics['target_accuracy']\n",
    "}\n",
    "\n",
    "# Create a DataFrame\n",
    "df = pd.DataFrame(data)\n",
    "\n",
    "# Save to CSV\n",
    "df.to_csv(\"stats/resnet50_model_contrastive_learning_stats_training.csv\", index=False)\n",
    "print(\"Losses and accuracy saved\")"
   ]
  },
  {
   "cell_type": "code",
   "execution_count": 64,
   "id": "587a22c7",
   "metadata": {},
   "outputs": [
    {
     "name": "stdout",
     "output_type": "stream",
     "text": [
      "Epoch 1\n"
     ]
    },
    {
     "name": "stderr",
     "output_type": "stream",
     "text": [
      "EPOCH[VALID]1/10: 100%|██████████| 5/5 [00:01<00:00,  3.02it/s, loss=1.478963, acc=0.418750]\n"
     ]
    },
    {
     "name": "stdout",
     "output_type": "stream",
     "text": [
      "Epoch 2\n"
     ]
    },
    {
     "name": "stderr",
     "output_type": "stream",
     "text": [
      "EPOCH[VALID]2/10: 100%|██████████| 5/5 [00:00<00:00, 17.86it/s, loss=1.559164, acc=0.418750]\n"
     ]
    },
    {
     "name": "stdout",
     "output_type": "stream",
     "text": [
      "Epoch 3\n"
     ]
    },
    {
     "name": "stderr",
     "output_type": "stream",
     "text": [
      "EPOCH[VALID]3/10: 100%|██████████| 5/5 [00:00<00:00, 19.02it/s, loss=1.436139, acc=0.418750]\n"
     ]
    },
    {
     "name": "stdout",
     "output_type": "stream",
     "text": [
      "Epoch 4\n"
     ]
    },
    {
     "name": "stderr",
     "output_type": "stream",
     "text": [
      "EPOCH[VALID]4/10: 100%|██████████| 5/5 [00:00<00:00, 19.39it/s, loss=1.414413, acc=0.462500]\n"
     ]
    },
    {
     "name": "stdout",
     "output_type": "stream",
     "text": [
      "Epoch 5\n"
     ]
    },
    {
     "name": "stderr",
     "output_type": "stream",
     "text": [
      "EPOCH[VALID]5/10: 100%|██████████| 5/5 [00:00<00:00, 18.01it/s, loss=1.493332, acc=0.375000]\n"
     ]
    },
    {
     "name": "stdout",
     "output_type": "stream",
     "text": [
      "Epoch 6\n"
     ]
    },
    {
     "name": "stderr",
     "output_type": "stream",
     "text": [
      "EPOCH[VALID]6/10: 100%|██████████| 5/5 [00:00<00:00, 17.34it/s, loss=1.616026, acc=0.418750]\n"
     ]
    },
    {
     "name": "stdout",
     "output_type": "stream",
     "text": [
      "Epoch 7\n"
     ]
    },
    {
     "name": "stderr",
     "output_type": "stream",
     "text": [
      "EPOCH[VALID]7/10: 100%|██████████| 5/5 [00:00<00:00, 16.74it/s, loss=1.618096, acc=0.418750]\n"
     ]
    },
    {
     "name": "stdout",
     "output_type": "stream",
     "text": [
      "Epoch 8\n"
     ]
    },
    {
     "name": "stderr",
     "output_type": "stream",
     "text": [
      "EPOCH[VALID]8/10: 100%|██████████| 5/5 [00:00<00:00, 16.98it/s, loss=1.866287, acc=0.331250]\n"
     ]
    },
    {
     "name": "stdout",
     "output_type": "stream",
     "text": [
      "Epoch 9\n"
     ]
    },
    {
     "name": "stderr",
     "output_type": "stream",
     "text": [
      "EPOCH[VALID]9/10: 100%|██████████| 5/5 [00:00<00:00, 17.93it/s, loss=1.566414, acc=0.375000]\n"
     ]
    },
    {
     "name": "stdout",
     "output_type": "stream",
     "text": [
      "Epoch 10\n"
     ]
    },
    {
     "name": "stderr",
     "output_type": "stream",
     "text": [
      "EPOCH[VALID]10/10: 100%|██████████| 5/5 [00:00<00:00, 16.57it/s, loss=1.710280, acc=0.331250]"
     ]
    },
    {
     "name": "stdout",
     "output_type": "stream",
     "text": [
      "\n"
     ]
    },
    {
     "name": "stderr",
     "output_type": "stream",
     "text": [
      "\n"
     ]
    }
   ],
   "source": [
    "# tEST the model:\n",
    "cont_test_out_of_distribution_metrics = test_out_of_distribution(feature_extractor_contrastive, manga_faces_test_images_loader, epochs=10, device=device)"
   ]
  },
  {
   "cell_type": "code",
   "execution_count": null,
   "id": "89fdafbc",
   "metadata": {},
   "outputs": [],
   "source": [
    "\n",
    "def evaluate_model(model, test_loader, target=False):\n",
    "    model.eval()\n",
    "    all_preds = []\n",
    "    all_labels = []\n",
    "    \n",
    "    with torch.no_grad():\n",
    "        for imgs, lbls in tqdm(test_loader, desc=\"Evaluating\"):\n",
    "            imgs = imgs.to(device)\n",
    "            lbls = lbls.to(device)\n",
    "            \n",
    "            logits, _ = model(imgs, return_embeddings=True)\n",
    "            preds = logits.argmax(dim=1)\n",
    "            \n",
    "            all_preds.extend(preds.cpu().numpy())\n",
    "            all_labels.extend(lbls.cpu().numpy())\n",
    "    \n",
    "    # Calculate metrics\n",
    "    accuracy = 100 * (np.array(all_preds) == np.array(all_labels)).mean()\n",
    "    class_report = classification_report(all_labels, all_preds, zero_division=0)\n",
    "    \n",
    "    print(f\"{'Target' if target else 'Source'} Test Accuracy: {accuracy:.2f}%\")\n",
    "    print(\"\\nClassification Report:\\n\", class_report)\n",
    "    \n",
    "    return accuracy, class_report"
   ]
  },
  {
   "cell_type": "markdown",
   "id": "611c1877",
   "metadata": {},
   "source": [
    "#### Test on Source Domain"
   ]
  },
  {
   "cell_type": "code",
   "execution_count": 66,
   "id": "2d18f717",
   "metadata": {},
   "outputs": [
    {
     "name": "stderr",
     "output_type": "stream",
     "text": [
      "Evaluating: 100%|██████████| 57/57 [00:58<00:00,  1.03s/it]"
     ]
    },
    {
     "name": "stdout",
     "output_type": "stream",
     "text": [
      "Source Test Accuracy: 57.55%\n",
      "\n",
      "Classification Report:\n",
      "               precision    recall  f1-score   support\n",
      "\n",
      "           0       0.52      0.45      0.48       958\n",
      "           1       0.81      0.15      0.26       111\n",
      "           2       0.62      0.18      0.28      1024\n",
      "           3       0.79      0.80      0.80      1774\n",
      "           4       0.46      0.67      0.55      1233\n",
      "           5       0.49      0.48      0.49      1247\n",
      "           6       0.53      0.78      0.63       831\n",
      "\n",
      "    accuracy                           0.58      7178\n",
      "   macro avg       0.60      0.50      0.50      7178\n",
      "weighted avg       0.59      0.58      0.56      7178\n",
      "\n"
     ]
    },
    {
     "name": "stderr",
     "output_type": "stream",
     "text": [
      "\n"
     ]
    }
   ],
   "source": [
    "source_test_accuracy, source_report = evaluate_model(feature_extractor_contrastive, test_loader)\n",
    "# Contrastive learning model does not forget the source domain"
   ]
  },
  {
   "cell_type": "markdown",
   "id": "d623c9f3",
   "metadata": {},
   "source": [
    "#### Test on Target Domain"
   ]
  },
  {
   "cell_type": "code",
   "execution_count": 67,
   "id": "77ca4c40",
   "metadata": {},
   "outputs": [
    {
     "name": "stderr",
     "output_type": "stream",
     "text": [
      "Evaluating: 100%|██████████| 5/5 [00:00<00:00, 12.04it/s]"
     ]
    },
    {
     "name": "stdout",
     "output_type": "stream",
     "text": [
      "Target Test Accuracy: 40.15%\n",
      "\n",
      "Classification Report:\n",
      "               precision    recall  f1-score   support\n",
      "\n",
      "           0       0.30      0.14      0.19        21\n",
      "           2       0.00      0.00      0.00         0\n",
      "           3       0.60      0.53      0.57        49\n",
      "           4       0.00      0.00      0.00         0\n",
      "           5       0.33      0.59      0.42        22\n",
      "           6       0.65      0.28      0.39        40\n",
      "\n",
      "    accuracy                           0.40       132\n",
      "   macro avg       0.31      0.26      0.26       132\n",
      "weighted avg       0.52      0.40      0.43       132\n",
      "\n"
     ]
    },
    {
     "name": "stderr",
     "output_type": "stream",
     "text": [
      "\n"
     ]
    }
   ],
   "source": [
    "target_test_accuracy, target_report = evaluate_model(feature_extractor_contrastive, manga_faces_test_images_loader, target=True)"
   ]
  },
  {
   "cell_type": "code",
   "execution_count": null,
   "id": "0702f993",
   "metadata": {},
   "outputs": [],
   "source": [
    "training_set.class_to_idx"
   ]
  }
 ],
 "metadata": {
  "jupytext": {
   "cell_metadata_filter": "-all",
   "main_language": "python",
   "notebook_metadata_filter": "-all"
  },
  "kernelspec": {
   "display_name": "Python 3",
   "language": "python",
   "name": "python3"
  },
  "language_info": {
   "codemirror_mode": {
    "name": "ipython",
    "version": 3
   },
   "file_extension": ".py",
   "mimetype": "text/x-python",
   "name": "python",
   "nbconvert_exporter": "python",
   "pygments_lexer": "ipython3",
   "version": "3.9.20"
  }
 },
 "nbformat": 4,
 "nbformat_minor": 5
}
